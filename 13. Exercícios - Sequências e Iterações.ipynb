{
 "cells": [
  {
   "cell_type": "markdown",
   "metadata": {},
   "source": [
    "# Sequências e iterações\n",
    "\n",
    "## Exercícios"
   ]
  },
  {
   "cell_type": "markdown",
   "metadata": {},
   "source": [
    "### Item 1\n",
    "\n",
    "Calcule o fatorial de um número natural $n$,\n",
    "\n",
    "\\begin{align}\n",
    "n! &= 1 \\times 2 \\times 3 \\times \\ldots \\times n - 1 \\times n \\\\\n",
    "&= \\prod_{i=1}^{n} i.\n",
    "\\end{align}"
   ]
  },
  {
   "cell_type": "markdown",
   "metadata": {},
   "source": [
    "Compare com o resultado dado pela função `math.factorial()`. Não esqueça de fazer `import math`."
   ]
  },
  {
   "cell_type": "code",
   "execution_count": null,
   "metadata": {},
   "outputs": [],
   "source": []
  },
  {
   "cell_type": "markdown",
   "metadata": {},
   "source": [
    "### Item 2\n",
    "\n",
    "Calcule uma aproximação para o número $e$, dada por\n",
    "\n",
    "$$\n",
    "e = \\sum_{n=0}^\\infty \\frac 1 {n!}.\n",
    "$$\n",
    "\n",
    "Some apenas os 20 primeiros termos, e compare com o valor `math.e`."
   ]
  },
  {
   "cell_type": "code",
   "execution_count": null,
   "metadata": {},
   "outputs": [],
   "source": []
  },
  {
   "cell_type": "markdown",
   "metadata": {},
   "source": [
    "### Item 3\n",
    "\n",
    "Calcule um aproximação para $\\ln 2$:\n",
    "\n",
    "\\begin{align}\n",
    "\\ln 2 &= 1 - \\frac 1 2 + \\frac 1 3 - \\frac 1 4 + \\frac 1 5 - \\ldots \\\\\n",
    "&= \\sum_{n=1}^\\infty \\frac {(-1)^{n-1}} n.\n",
    "\\end{align}\n",
    "\n",
    "Compare o seu resultado com `math.log(2)`."
   ]
  },
  {
   "cell_type": "code",
   "execution_count": null,
   "metadata": {},
   "outputs": [],
   "source": []
  },
  {
   "cell_type": "markdown",
   "metadata": {},
   "source": [
    "### Item 4\n",
    "\n",
    "Uma string pode ser \"quebrada\" em uma lista de strings usando o método `.split()`. Por padrão, esse método quebra a string em palavras separadas por espaços em branco. Exemplo:"
   ]
  },
  {
   "cell_type": "code",
   "execution_count": null,
   "metadata": {},
   "outputs": [],
   "source": [
    "frase = 'Uma frase composta de palavras.'\n",
    "palavras = frase.split()\n",
    "print(palavras)"
   ]
  },
  {
   "cell_type": "markdown",
   "metadata": {},
   "source": [
    "**a.** Faça um programa que leia uma lista de medidas separadas por espaços, e coloque estas medidas numa lista. Não esqueça de converter as medidas individuais para `float`."
   ]
  },
  {
   "cell_type": "code",
   "execution_count": null,
   "metadata": {},
   "outputs": [],
   "source": []
  },
  {
   "cell_type": "markdown",
   "metadata": {},
   "source": [
    "**b.** Encontre a medida com o maior valor, e a medida com o menor valor."
   ]
  },
  {
   "cell_type": "code",
   "execution_count": null,
   "metadata": {},
   "outputs": [],
   "source": []
  },
  {
   "cell_type": "markdown",
   "metadata": {},
   "source": [
    "**c.** Calcule (prometo que vai ser pela última vez) a média $\\overline{x}$ e o desvio padrão $\\sigma$ das medidas, dados por\n",
    "\n",
    "\\begin{align}\n",
    "\\overline{x} &= \\frac 1 N \\sum_{i=0}^{N-1} x_i \\\\\n",
    "\\sigma &= \\sqrt{\\left(\\frac 1 N \\sum_{i=0}^{N-1} x_i^2\\right) - \\left(\\frac 1 N \\sum_{i=0}^{N-1} x_i\\right)^2}\n",
    "\\end{align}"
   ]
  },
  {
   "cell_type": "code",
   "execution_count": null,
   "metadata": {},
   "outputs": [],
   "source": []
  }
 ],
 "metadata": {
  "kernelspec": {
   "display_name": "Python 3 (ipykernel)",
   "language": "python",
   "name": "python3"
  },
  "language_info": {
   "codemirror_mode": {
    "name": "ipython",
    "version": 3
   },
   "file_extension": ".py",
   "mimetype": "text/x-python",
   "name": "python",
   "nbconvert_exporter": "python",
   "pygments_lexer": "ipython3",
   "version": "3.11.4"
  }
 },
 "nbformat": 4,
 "nbformat_minor": 4
}
