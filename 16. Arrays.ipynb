{
 "cells": [
  {
   "cell_type": "markdown",
   "id": "8d221e5e-47fc-402c-91e0-afa32ce3303d",
   "metadata": {},
   "source": [
    "# Arrays e matrizes\n",
    "\n",
    "Recentemente aprendemos a usar uma lista com três elementos para representar um vetor. Também, apareceu frequentemente a necessidade de armazenar dados uniformes, como medidas digitadas pelo usuário. Essas estruturas usadas para armazenar conjuntos arbitrários de dados homogêneos são chamadas *arrays*."
   ]
  },
  {
   "cell_type": "markdown",
   "id": "35822c26-bb51-4b18-be46-95560c2d7f7a",
   "metadata": {},
   "source": [
    "## Arrays\n",
    "\n",
    "A linguagem Python não tem uma representação nativa de arrays. O mais próximo disso são as listas e tuplas, mas eles podem armazenar objetos de tipos misturados. \n",
    "\n",
    "Existem pacotes como o `numpy` que definem novos tipos de dados para representar arrays. Porém, vamos trabalhar aqui com listas e definir nossas próprias funções, para entender melhor as operações envolvidas com arrays. Veremos mais tarde como essas operações podem ser feitas com arrays `numpy`."
   ]
  },
  {
   "cell_type": "markdown",
   "id": "07ce3189-ce1b-4834-9313-5d4d10cbdb5a",
   "metadata": {},
   "source": [
    "### Criando arrays\n",
    "\n",
    "Você já deve ter feito uma função para montar uma lista com `N` elementos com valores iguais. Veja uma função desse tipo."
   ]
  },
  {
   "cell_type": "code",
   "execution_count": null,
   "id": "d5979e9b-2750-4172-b577-4e876b1b3cce",
   "metadata": {},
   "outputs": [],
   "source": [
    "def array_cheio(N, c=0.0):\n",
    "    l = []\n",
    "    for i in range(N):\n",
    "        l.append(c)\n",
    "    return l"
   ]
  },
  {
   "cell_type": "markdown",
   "id": "4eefddde-cd7d-48d5-be89-5124ee04f85e",
   "metadata": {},
   "source": [
    "Criamos um array com todos seus elementos iguais a zero, ou qualquer valor constante."
   ]
  },
  {
   "cell_type": "code",
   "execution_count": null,
   "id": "7d053bfd-761e-43e0-8d65-af47666f8c8e",
   "metadata": {},
   "outputs": [],
   "source": [
    "novo_array = array_cheio(10)\n",
    "print(novo_array)"
   ]
  },
  {
   "cell_type": "markdown",
   "id": "81e4fdef-f451-425d-b9c4-274d574c7ca7",
   "metadata": {},
   "source": [
    "Outro tipo comum é um array com dados igualmente espaçados, mais ou menos como faz a função `range()`.\n",
    "\n",
    "#### Exercício 1\n",
    "\n",
    "Defina uma função que cria um array de `float`s igualmente espaçados, com uma faixa de valores. A função deve ter a seguinte assinatura:\n",
    "\n",
    "```python\n",
    "def array_faixa(início, fim, passo=1.0):\n",
    "    pass\n",
    "```"
   ]
  },
  {
   "cell_type": "markdown",
   "id": "52a28732-434a-4dc9-8533-eae15ccadcad",
   "metadata": {},
   "source": [
    "Os elementos do array estão definidos através da fórmula\n",
    "\n",
    "$$\n",
    "A_i = a_0 + i\\,h,\n",
    "$$\n",
    "\n",
    "onde $a_0$ é `início`, $h$ é `passo`, e $i$ é um número inteiro tal que temos todos os elementos menores que `fim`."
   ]
  },
  {
   "cell_type": "code",
   "execution_count": null,
   "id": "362e055d-1822-474a-b4d6-4ed0243edc70",
   "metadata": {},
   "outputs": [],
   "source": []
  },
  {
   "cell_type": "markdown",
   "id": "3c26e6d3-fe22-4b8d-a13b-21cc571d10f1",
   "metadata": {},
   "source": [
    "#### Exercício 2\n",
    "\n",
    "Outra função útil, e complementar à `array_faixa()`, seria uma função para criar um array com valores igualmente espaçados, mas especificando o número de intervalos. A sua assinatura deve ser a seguinte:\n",
    "\n",
    "```python\n",
    "def esp_linear(início, fim, N):\n",
    "    pass\n",
    "```\n",
    "\n",
    "O elemento do array é o mesmo do exercício anterior, porém, neste caso queremos que `fim` faça parte do array."
   ]
  },
  {
   "cell_type": "code",
   "execution_count": null,
   "id": "8b3b5e78-be72-4ee0-9125-6db8b98b2e8f",
   "metadata": {},
   "outputs": [],
   "source": []
  },
  {
   "cell_type": "markdown",
   "id": "af8503d3-a2d3-49b8-8328-d9884fba8f01",
   "metadata": {},
   "source": [
    "### Operações com arrays\n",
    "\n",
    "Existem dois tipos básicos de operações com arrays: operações *elemento-a-elemento*, e operações de *redução*."
   ]
  },
  {
   "cell_type": "markdown",
   "id": "49c0c127-9cc4-4e91-a728-36f58814def3",
   "metadata": {},
   "source": [
    "#### Elemento-a-elemento\n",
    "\n",
    "Essas operações tomam um ou mais arrays do mesmo tamanho, e resultam num outro array também do mesmo tamanho. Por exemplo, operação de soma."
   ]
  },
  {
   "cell_type": "code",
   "execution_count": null,
   "id": "6ebf008f-3e6f-4538-ae7c-3a2131eb3740",
   "metadata": {},
   "outputs": [],
   "source": [
    "def array_soma(A, B):\n",
    "    N = len(A)\n",
    "    C = array_cheio(N)\n",
    "    for i in range(N):\n",
    "        C[i] = A[i] + B[i]\n",
    "    return C"
   ]
  },
  {
   "cell_type": "markdown",
   "id": "f4fd952d-f28e-4ddd-b87d-66828b99f222",
   "metadata": {},
   "source": [
    "Vamos testar usando tudo que já fizemos até aqui."
   ]
  },
  {
   "cell_type": "code",
   "execution_count": null,
   "id": "c9202a43-8455-4137-b25e-fffc8e8152e7",
   "metadata": {},
   "outputs": [],
   "source": [
    "A = esp_linear(1.0, 5.0, N=6)\n",
    "B = array_cheio(N=6, c=3.0)\n",
    "C = array_soma(A, B)\n",
    "print(A)\n",
    "print(B)\n",
    "print(C)"
   ]
  },
  {
   "cell_type": "markdown",
   "id": "d596d54f-5de0-4771-bf2b-f6283af1410d",
   "metadata": {},
   "source": [
    "#### Exercício 3\n",
    "Vamos calcular valores do polinômio de Legendre de terceiro grau,\n",
    "\n",
    "$$\n",
    "P_3(x) = \\frac{1}{8} \\left(5 x^3 - 3 x \\right).\n",
    "$$\n",
    "\n",
    "Defina funções que realizem as operações aritméticas necessárias, quer dizer, multiplicação de array por escalar, e potência com expoente escalar.\n",
    "\n",
    "Defina `x` como um array igualmente espaçado tal que $-1 \\leq x \\leq 1$, e calcule todos os valores de $P_3(x)$ usando as funções que você definiu."
   ]
  },
  {
   "cell_type": "code",
   "execution_count": null,
   "id": "503c2d47-f6ff-4c4f-be64-ac2ce0e26741",
   "metadata": {},
   "outputs": [],
   "source": []
  },
  {
   "cell_type": "markdown",
   "id": "cfe6a151-ff9f-4a3e-97e9-c4537dd47ce0",
   "metadata": {},
   "source": [
    "#### Redução\n",
    "\n",
    "Operações de redução tomam um ou mais arrays, e retornam um valor numérico, quer dizer, um escalar.\n",
    "\n",
    "O exemplo mais simples de operação de redução é o somatório. Já fizemos isso muitíssimas vezes, agora vamos deixar dentro de uma função."
   ]
  },
  {
   "cell_type": "code",
   "execution_count": null,
   "id": "02629442-4d93-4648-8228-4f22c09ac4b8",
   "metadata": {},
   "outputs": [],
   "source": [
    "def somatório(A):\n",
    "    soma = 0.0\n",
    "    for i in range(len(A)):\n",
    "        soma += A[i]\n",
    "    return soma\n",
    "\n",
    "x = esp_linear(0, 10, 6)\n",
    "s = somatório(x)\n",
    "print(x)\n",
    "print(s)"
   ]
  },
  {
   "cell_type": "markdown",
   "id": "e35bbdf6-27b9-449b-b7b5-deaad041ad4a",
   "metadata": {},
   "source": [
    "Uma função que calcula a soma dos elementos de uma lista é algo tão útil que o Python já inclui uma função chamada `sum()`. Veja:"
   ]
  },
  {
   "cell_type": "code",
   "execution_count": null,
   "id": "2e336df8-d96e-4105-a59a-c3dfdaa1ebc6",
   "metadata": {},
   "outputs": [],
   "source": [
    "print(somatório(x))\n",
    "print(sum(x))"
   ]
  },
  {
   "cell_type": "markdown",
   "id": "d5fff25b-3901-424d-b177-c7c96a5e2abf",
   "metadata": {},
   "source": [
    "#### Exercício 4\n",
    "\n",
    "Muitas vezes precisamos comparar o resultado de duas operações com arrays, e saber se são iguais. O problema principal é que usamos `float`s, logo não podemos garantir que duas operações diferentes tenham resultado igual:"
   ]
  },
  {
   "cell_type": "code",
   "execution_count": null,
   "id": "fb7d49ac-a250-4a37-b802-dacba461f7ef",
   "metadata": {},
   "outputs": [],
   "source": [
    "p = 0.0\n",
    "for i in range(10):\n",
    "    p += 0.1\n",
    "q = 10 * 0.1\n",
    "print(p, q)\n",
    "print(p == q)"
   ]
  },
  {
   "cell_type": "markdown",
   "id": "6d3a8187-5723-460d-851a-1b29fb01b9f7",
   "metadata": {},
   "source": [
    "Neste caso, o melhor a fazer é definir um erro $\\epsilon$, e dizer que os valores são *próximos* se\n",
    "\n",
    "$$\n",
    "|p - q| < \\epsilon.\n",
    "$$"
   ]
  },
  {
   "cell_type": "markdown",
   "id": "15622a49-2c58-4dbf-86dd-e20a2cb105c5",
   "metadata": {},
   "source": [
    "Crie uma função que compara dois arrays, retornando `True` se são próximos, e `False` caso contrário. A tolerância pode ter um valor padrão de $\\epsilon = 10^{-5}$."
   ]
  },
  {
   "cell_type": "code",
   "execution_count": null,
   "id": "bdc28c3a-07b0-4675-8775-acfa9de38d69",
   "metadata": {},
   "outputs": [],
   "source": []
  },
  {
   "cell_type": "markdown",
   "id": "26ae6a30-1019-4333-b569-3262e21d4374",
   "metadata": {},
   "source": [
    "#### Exercício 5\n",
    "\n",
    "Vamos definir funções para calcular a média e o desvio padrão de um array. Relembrando, a média é dada por\n",
    "\n",
    "$$\n",
    "\\langle x \\rangle = \\frac{1}{N}\\sum_{i=0}^N x_i,\n",
    "$$\n",
    "\n",
    "e o desvio padrão por\n",
    "\n",
    "$$\n",
    "\\sigma = \\sqrt{ \\langle x^2 \\rangle -  \\langle x \\rangle^2.}\n",
    "$$"
   ]
  },
  {
   "cell_type": "markdown",
   "id": "51fa69f4-1766-4ba2-8fbc-eff3190e26c6",
   "metadata": {},
   "source": [
    "Use a função `sum()`, ou programe qualquer outra função elemento-a-elemento ou de redução se preferir."
   ]
  },
  {
   "cell_type": "code",
   "execution_count": null,
   "id": "c63816a9-3862-41da-92b1-52f8e03ad9ca",
   "metadata": {},
   "outputs": [],
   "source": [
    "def média(x):\n",
    "    s = sum(x)\n",
    "    return(s / len(x))\n",
    "\n",
    "\n",
    "def desv_padrão(x):\n",
    "    import math\n",
    "    x2 = array_pot_esc(x, 2)\n",
    "    x2m = média(x2)\n",
    "    xm = média(x)\n",
    "    return math.sqrt(x2m - xm**2)"
   ]
  },
  {
   "cell_type": "code",
   "execution_count": null,
   "id": "181aaa9e-f738-4e85-9944-cd9f3c8ec298",
   "metadata": {},
   "outputs": [],
   "source": [
    "x = esp_linear(0, 10, 6)\n",
    "x = [1,2,3]\n",
    "print(x)\n",
    "print(média(x))\n",
    "print(desv_padrão(x))"
   ]
  }
 ],
 "metadata": {
  "kernelspec": {
   "display_name": "Python 3 (ipykernel)",
   "language": "python",
   "name": "python3"
  },
  "language_info": {
   "codemirror_mode": {
    "name": "ipython",
    "version": 3
   },
   "file_extension": ".py",
   "mimetype": "text/x-python",
   "name": "python",
   "nbconvert_exporter": "python",
   "pygments_lexer": "ipython3",
   "version": "3.10.15"
  }
 },
 "nbformat": 4,
 "nbformat_minor": 5
}
