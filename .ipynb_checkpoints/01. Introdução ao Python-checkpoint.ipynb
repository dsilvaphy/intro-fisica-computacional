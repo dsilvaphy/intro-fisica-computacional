{
 "cells": [
  {
   "cell_type": "markdown",
   "metadata": {},
   "source": [
    "# Introdução ao Python\n",
    "\n",
    "Este é um tutorial rápido para demonstrar característica bem básicas da linguagem Python. Mesmo se você já sabe Python, siga o tutorial com atenção, pode ser que haja algum aspecto que você não conhecia."
   ]
  },
  {
   "cell_type": "markdown",
   "metadata": {},
   "source": [
    "## Linguagem Python\n",
    "\n",
    "Características do Python:\n",
    "- Linguagem de uso geral\n",
    "- Linguagem para computação científica (física, engenharia, estatística, aprendizagem de máquina, inteligência artificial)\n",
    "- Legível por humanos\n",
    "- Interpretada\n",
    "- Tipagem dinâmica*\n",
    "- Tipagem forte*\n",
    "- Grande biblioteca de pacotes"
   ]
  },
  {
   "cell_type": "markdown",
   "metadata": {},
   "source": [
    "Veja também:\n",
    "- [Documentação oficial do Python](https://docs.python.org/3/)\n",
    "- [Why Python?](https://insights.stackoverflow.com/trends?tags=python%2Cjavascript%2Cjava%2Cc%2B%2B%2Cr%2Cjulia-lang%2Cscala&utm_source=so-owned&utm_medium=blog&utm_campaign=gen-blog&utm_content=blog-link&utm_term=incredible-growth-python)"
   ]
  },
  {
   "cell_type": "markdown",
   "metadata": {},
   "source": [
    "## Sintaxe básica\n",
    "### Variáveis e atribuição\n",
    "O sinal de igual (`=`) é usado para atribuir valores a uma variável. Entenderemos melhor as variáveis mais adiante, apenas considere que uma variável é um nome que se dá a algum dado armazenado no nosso programa em execução."
   ]
  },
  {
   "cell_type": "code",
   "execution_count": null,
   "metadata": {},
   "outputs": [],
   "source": [
    "x = 1"
   ]
  },
  {
   "cell_type": "markdown",
   "metadata": {},
   "source": [
    "O código acima atribui um número inteiro à variável `x`. Esse valor pode ser visto simplesmente escrevendo a variável numa célula de código."
   ]
  },
  {
   "cell_type": "code",
   "execution_count": null,
   "metadata": {},
   "outputs": [],
   "source": [
    "x"
   ]
  },
  {
   "cell_type": "markdown",
   "metadata": {},
   "source": [
    "### Indentação\n",
    "Talvez a característica mais marcante do Python seja a sua forma de indentação. A indentação é uma forma de agrupar linhas de código tal que elas sejam consideradas um *bloco de código*, isto é, as linhas sejam sempre executadas juntas. Em outras linguagens como C, JavaScript, Java ou C#, usamos chaves (`{}`) para indentar código. Em Python, usamos espaços em branco alinhados. Use a tecla TAB para indentar. Para remover a indentação, basta apagar o espaço. \n",
    "\n",
    "Mais adiante vamos entrar em detalhes sobre a *sintaxe* do código, mas tente entender a indentação abaixo. As *palavras-chave* `if` e `else` são comando condicionais, isto é, escolhem qual bloco de código deve ser executado com base em uma condição. A função `print()` escreve coisas na tela, se a coisa for um texto, ele precisa estar entre aspas (`'`)."
   ]
  },
  {
   "cell_type": "code",
   "execution_count": null,
   "metadata": {},
   "outputs": [],
   "source": [
    "if x > 0:\n",
    "    print('Positivo')\n",
    "    print('x é maior que zero')\n",
    "else:\n",
    "    print('zero ou Negativo')\n",
    "    print('x é menor ou igual a zero')"
   ]
  },
  {
   "cell_type": "markdown",
   "metadata": {},
   "source": [
    "Tente entender quais linhas da célula acima formam um bloco de código, e quantos blocos existem. Depois, volte na seção acima e mude o valor de `x` para um número negativo. O resultado é o que você esperava?"
   ]
  },
  {
   "cell_type": "markdown",
   "metadata": {},
   "source": [
    "### Comentários\n",
    "Comentários são feitos usando o caractere `#`. O que vier a partir dele é ignorado. Usamos os comentários para documentar o código, quer dizer, para ajudar o leitor *humano* a entender a nossa intenção, caso o próprio código não seja suficiente para isso."
   ]
  },
  {
   "cell_type": "code",
   "execution_count": null,
   "metadata": {},
   "outputs": [],
   "source": [
    "# Comentário no começo da linha.\n",
    "print('Comentário no final da linha.') # Isto será ignorado."
   ]
  },
  {
   "cell_type": "markdown",
   "metadata": {},
   "source": [
    "Comentários mais longos, com múltiplas linhas, podem ser feitos usando *heredocs*, delimitados por três aspas simples."
   ]
  },
  {
   "cell_type": "code",
   "execution_count": null,
   "metadata": {},
   "outputs": [],
   "source": [
    "'''\n",
    "Um comentário gigante,\n",
    "com muitas linhas,\n",
    "para documentar muito bem o seu código.\n",
    "'''\n",
    "print('Código muito bem documentado.')"
   ]
  },
  {
   "cell_type": "markdown",
   "metadata": {},
   "source": [
    "### Parênteses\n",
    "Os parênteses servem a vários propósitos em Python, e isso pode causar um pouco de confusão. Vimos acima que sempre depois de um `print` vem algum texto dentro de parêntes. Para *chamar* uma função precisamos passar os *argumentos* entre parênteses. Se você escrever apenas `print`, nada acontece."
   ]
  },
  {
   "cell_type": "code",
   "execution_count": null,
   "metadata": {},
   "outputs": [],
   "source": [
    "print"
   ]
  },
  {
   "cell_type": "markdown",
   "metadata": {},
   "source": [
    "Uma segunda utilidade dos parênteses é para explicitar a precedência das operações que estamos fazendo. Ainda não aprendemos sobre operadores, mas pense nos operadores aritméticos por enquanto. Um computador é, essencialmente, uma máquina para fazer cálculos, então é natural esperar que haja operadores aritméticos disponíveis. No Python eles funcionam como na matemática, respeitando a regra usual de precedência. Usamos parênteses quando a ordem das operações desejada é diferente."
   ]
  },
  {
   "cell_type": "code",
   "execution_count": null,
   "metadata": {},
   "outputs": [],
   "source": [
    "print(1 + 3 * 2)\n",
    "print((1 + 3) * 2)"
   ]
  },
  {
   "cell_type": "markdown",
   "metadata": {},
   "source": [
    "Outros usos de parênteses são para definir *tuplas* e *geradores*, mas não veremos isso por enquanto."
   ]
  },
  {
   "cell_type": "markdown",
   "metadata": {},
   "source": [
    "## Conclusão\n",
    "\n",
    "Isso foi apenas uma primeira impressão sobre a linguagem Python. O nosso objetivo é entender bem cada aspecto da linguagem, para que você saiba exatamente o que cada linha de código que você escreve faz, e não simplesmente repetir \"encantamentos\" sem saber o que eles significam.\n",
    "\n",
    "nas próximas semanas aprenderemos mais funcionalidades do Python, e aí nossos programas vão começar a fazer coisas mais úteis!"
   ]
  }
 ],
 "metadata": {
  "kernelspec": {
   "display_name": "Python 3 (ipykernel)",
   "language": "python",
   "name": "python3"
  },
  "language_info": {
   "codemirror_mode": {
    "name": "ipython",
    "version": 3
   },
   "file_extension": ".py",
   "mimetype": "text/x-python",
   "name": "python",
   "nbconvert_exporter": "python",
   "pygments_lexer": "ipython3",
   "version": "3.11.6"
  }
 },
 "nbformat": 4,
 "nbformat_minor": 4
}
