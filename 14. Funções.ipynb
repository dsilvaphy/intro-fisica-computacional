{
 "cells": [
  {
   "cell_type": "markdown",
   "id": "fc73d3ef-1459-4df9-921b-0412087c9d5b",
   "metadata": {},
   "source": [
    "# Funções\n",
    "\n",
    "Já aprendemos a usar diversas funções em Python. Funções como `print()`, `len()`, `range()`, etc., são funções embutidas do Python. Usamos também algumas funções matemáticas do pacote `math`, como `math.cos()`. Mas afinal, o que são funções?\n",
    "\n",
    "Funções são uma forma de organizar o código. Elas são úteis, por exemplo, quando temos uma porção de código que queremos utilizar mais de uma vez. Além disso, definindo funções com um nome adequado, fazemos o nosso código ficar mais legível. Chamamos de *encapsulamento* a técnica de separar o código em funções que realizam partes lógicas distintas do nosso programa."
   ]
  },
  {
   "cell_type": "markdown",
   "id": "f4495eb7-3e66-4796-8f03-437f8ade03ae",
   "metadata": {},
   "source": [
    "## Definindo funções\n",
    "\n",
    "Vamos aprender a definir funções. A estrutura básica de uma função em python é\n",
    "\n",
    "```Python\n",
    "def nome_da_função(argumento1, argumento2):\n",
    "    expressão1\n",
    "    expressão2\n",
    "    return valor_a_retornar\n",
    "```\n",
    "\n",
    "Uma função tem um nome e uma lista de argumentos. Dentro da função, podemos ter várias linhas de código. Em qualquer lugar dessas linhas, podemos ter a palavra-chave `return`, que causa o fim da função (funciona como um `break` de um laço)."
   ]
  },
  {
   "cell_type": "markdown",
   "id": "a99f5ca0-c7fc-49ba-8ab1-66559a395c57",
   "metadata": {},
   "source": [
    "As funções sempre *retornam* um valor. Esse valor é o que a função \"vale\" depois de executada. É fácil ver a documentação de uma função, se ela estiver definida. Por exemplo, vamos usar a função `math.pow()` para calcular $\\sqrt 2$. Vemos a sua documentação usando o caractere `?`."
   ]
  },
  {
   "cell_type": "code",
   "execution_count": null,
   "id": "a3a01e26-b0e8-4f85-b4d2-0c54c720650b",
   "metadata": {},
   "outputs": [],
   "source": [
    "import math\n",
    "\n",
    "math.pow?"
   ]
  },
  {
   "cell_type": "markdown",
   "id": "7ed7ecad-f197-41f2-a36f-819bc1bb3a9e",
   "metadata": {},
   "source": [
    "A função de nome `math.pow` recebe dois argumentos, `x` e `y`, e retorna $x^y$. Podemos pegar esse valor retornado atribuindo-o a uma variável."
   ]
  },
  {
   "cell_type": "code",
   "execution_count": null,
   "id": "6889cf5b-641a-4573-aadd-78d3cd0cf84c",
   "metadata": {},
   "outputs": [],
   "source": [
    "z = math.pow(2, 0.5)\n",
    "print(z)"
   ]
  },
  {
   "cell_type": "markdown",
   "id": "f6cc7053-5011-4a7c-afef-a2b0df701526",
   "metadata": {},
   "source": [
    "Podemos agora definir a nossa primeira função. Vamos criar uma função que receba dois argumentos, `a` e `b`, e retorne a soma deles."
   ]
  },
  {
   "cell_type": "code",
   "execution_count": null,
   "id": "9db3bd46-529e-42aa-8535-f17b10920a34",
   "metadata": {},
   "outputs": [],
   "source": [
    "def soma(a, b):\n",
    "    s = a + b\n",
    "    x = 0\n",
    "    return s\n",
    "\n",
    "resultado = soma(2, 3)\n",
    "print(resultado)"
   ]
  },
  {
   "cell_type": "markdown",
   "id": "9a890954-7ac6-4220-82b1-a3885f751faa",
   "metadata": {},
   "source": [
    "Precisamos analisar passo a passo o que está acontecendo. Quando *chamamos* a função `soma()` com os argumentos `2` e `3`, estamos informando que, nesta chamada, o argumento `a` vale `2`, e o argumento `b` vale 3.  Criamos uma variável `s` com a soma, e retornamos o seu valor.\n",
    "\n",
    "Os valores passados como argumento não precisam ser literais. Podemos usar variáveis. Note que o nome das variáveis é irrelevante, dentro fa função os argumentos ganham \"apelidos\", o primeiro vira `a` e o segundo vira `b`."
   ]
  },
  {
   "cell_type": "code",
   "execution_count": null,
   "id": "23f5c2f2-2d9f-4106-b9a0-c3150815999f",
   "metadata": {},
   "outputs": [],
   "source": [
    "x = 10\n",
    "y = 1.5\n",
    "z = soma(x, y)\n",
    "print(z)"
   ]
  },
  {
   "cell_type": "markdown",
   "id": "a6ba18dc-9726-41bb-b16e-6587906fb444",
   "metadata": {},
   "source": [
    "### Exercício 1\n",
    "\n",
    "Escreva uma função que calcule o volume de uma esfera de raio $r$,\n",
    "\n",
    "$$\n",
    "V = \\pi r^2.\n",
    "$$"
   ]
  },
  {
   "cell_type": "code",
   "execution_count": null,
   "id": "678f6b9c-5662-4569-aafc-cb5a5cb0ea94",
   "metadata": {},
   "outputs": [],
   "source": []
  },
  {
   "cell_type": "markdown",
   "id": "2c70f98d-4215-40c1-9ade-818a7071a1b8",
   "metadata": {},
   "source": [
    "### Exercício 2\n",
    "\n",
    "Seja uma função quadrática,\n",
    "\n",
    "$$\n",
    "f(x) = a x^2 + b x + c.\n",
    "$$"
   ]
  },
  {
   "cell_type": "markdown",
   "id": "8d2e3e04-8c87-458d-b418-af479baf7098",
   "metadata": {},
   "source": [
    "Faça uma função que calcula as raízes de uma função quadrática, onde $f(x) = 0$. As raízes são dadas pela fórmula quadrática\n",
    "\n",
    "\\begin{align}\n",
    "\\Delta &= b^2 - 4 a c \\\\\n",
    "x_1 &= \\frac{-b + \\sqrt \\Delta}{2 a} \\\\\n",
    "x_2 &= \\frac{-b - \\sqrt \\Delta}{2 a}.\n",
    "\\end{align}\n",
    "\n",
    "Os argumentos da função serão os coeficientes $a$, $b$ e $c$. Teste usando a função $f(x) = x^2 - x - 1$."
   ]
  },
  {
   "cell_type": "markdown",
   "id": "3bb7bc68-4564-4522-b46d-6ed11a83ee5d",
   "metadata": {},
   "source": [
    "**Dica 1:** Como temos dois valores para retornar, crie uma tupla para retornar, por exemplo `return (x1, x2)`.\n",
    "\n",
    "**Dica 2:** A função `math.sqrt()` não admite números negativos, porém o operador `**` sim. Se você usar o primeiro, vai ter que se virar pra determinar se $\\Delta$ é negativo e calcular o resultado de acordo. Use o operador de potência para facilitar a vida."
   ]
  },
  {
   "cell_type": "code",
   "execution_count": null,
   "id": "1b9abbd1-69b2-4955-b4a0-b9cbd27a94c5",
   "metadata": {},
   "outputs": [],
   "source": []
  },
  {
   "cell_type": "markdown",
   "id": "3026510c-3835-441c-8f1b-d614a8945428",
   "metadata": {},
   "source": [
    "## Variáveis locais e globais\n",
    "\n",
    "Nossos programas estão se tornando cada vez mais complicados. Além da organização das linha de código, as funções nos ajudam a organizar também os *dados* sobre os quais o nosso programa atua. Para entender melhor como isso funciona, precisamos conhecer os conceitos de *variáveis locais* e *variáveis globais*.\n",
    "\n",
    "### Variáveis globais\n",
    "\n",
    "Quando declaramos uma variável dentro do nosso programa, fora de qualquer função, essa é uma variável global. Ela é acessível de qualquer parte do programa. Considere uma função para calcular a energia de repouso de uma partícula."
   ]
  },
  {
   "cell_type": "code",
   "execution_count": null,
   "id": "04d16ec8-3c55-4f58-b36e-351ecfa36c39",
   "metadata": {},
   "outputs": [],
   "source": [
    "# Velocidade da luz em m/s.\n",
    "c = 299792458.0\n",
    "\n",
    "# massa do elétron em kg.\n",
    "m_e = 9.109383701528e-31\n",
    "\n",
    "def energia_repouso(m):\n",
    "    return m * c**2\n",
    "\n",
    "E_elétron = energia_repouso(m_e)\n",
    "print(f'Energia de repouso do elétron: {E_elétron:.2e} J')"
   ]
  },
  {
   "cell_type": "markdown",
   "id": "6182e6a4-ab2f-4be2-a65e-d06961980b0b",
   "metadata": {},
   "source": [
    "Veja que a variável `c` pode ser acessada de dentro da função `E()`. Podemos mudar o valor de `c`, e a função vai acessar esse novo valor. Em unidades naturais, $c = 1$ e $m_e = 1$. Assim,"
   ]
  },
  {
   "cell_type": "code",
   "execution_count": null,
   "id": "b3f4ede8-143a-4558-9fdf-e986e3767338",
   "metadata": {},
   "outputs": [],
   "source": [
    "# Velocidade da luz em unidades naturais.\n",
    "c = 1.0\n",
    "\n",
    "# Massa do elétron em unidades naturais.\n",
    "m_e = 1.0\n",
    "\n",
    "E_elétron = energia_repouso(m_e)\n",
    "print(f'Energia de repouso do elétron: {E_elétron:.2f}')"
   ]
  },
  {
   "cell_type": "markdown",
   "id": "429820ae-524c-4711-b628-33a2d4cd6b0c",
   "metadata": {},
   "source": [
    "### Variáveis locais\n",
    "\n",
    "Por outro lado, temos as variáveis locais. Elas são definidas dentro de funções. Os argumentos de uma função também são variáveis locais. Vamos reconsiderar a função `soma()` que criamos acima. Dentro da função, temos as variáveis locais `a` e `b`, que são argumentos, e `s` que contém a soma. Não podemos acessar o valor de `s` de fora da função. "
   ]
  },
  {
   "cell_type": "code",
   "execution_count": null,
   "id": "9f510572-0a37-4dd8-925d-ba270a0d1fd8",
   "metadata": {},
   "outputs": [],
   "source": [
    "def soma(a, b):\n",
    "    s = a + b\n",
    "    return s\n",
    "\n",
    "w = soma(5, 7)\n",
    "print(w)\n",
    "\n",
    "# Esta linha vai causar erro!\n",
    "print(s)"
   ]
  },
  {
   "cell_type": "markdown",
   "id": "a2cfcb66-ef6f-458e-8ea8-3ec54f84adbb",
   "metadata": {},
   "source": [
    "Pense em variáveis locais como variáveis descartáveis. Elas servem para etapas intermediárias do código dentro da função, mas depois que a função acaba, não são mais necessárias, e devem ser descartadas para não poluir o código."
   ]
  },
  {
   "cell_type": "markdown",
   "id": "db14671d-4001-4309-b40b-8f6da7400dfd",
   "metadata": {},
   "source": [
    "### Conflitos entre variáveis locais e globais\n",
    "\n",
    "Caso você tente modificar uma variável dentro de uma função, por padrão é criada uma nova variável local com o mesmo nome. Isso é fonte de muita confusão. Veja o exemplo abaixo."
   ]
  },
  {
   "cell_type": "code",
   "execution_count": null,
   "id": "2afbf2bb-a5a9-4da5-898f-6db982fb84d9",
   "metadata": {},
   "outputs": [],
   "source": [
    "variável_global = 'definida no início'\n",
    "\n",
    "def minha_função():\n",
    "    variável_global = 'modificada dentro da função'\n",
    "    print(variável_global)\n",
    "\n",
    "minha_função()\n",
    "print(variável_global)"
   ]
  },
  {
   "cell_type": "markdown",
   "id": "e1a40351-a711-46d1-a611-9aa0a1a19946",
   "metadata": {},
   "source": [
    "Definimos uma variável global no início. Apesar de terem o mesmo nome, dentro da função a variável chamada `variável_global` é local. Veja que, depois de chamada a função, o valor da variável global permanece o mesmo."
   ]
  },
  {
   "cell_type": "markdown",
   "id": "98b7581c-f99d-49e1-9ed2-f6791e36639e",
   "metadata": {},
   "source": [
    "*CUIDADO:* Se quisermos realmente modificar a variável global, precisamos usar a palavra-chave `global` dentro da função. Isso tem um potencial de causar mais problemas, então use com sabedoria!"
   ]
  },
  {
   "cell_type": "code",
   "execution_count": null,
   "id": "d7ea98f6-b406-4304-8b1e-c5474c25958e",
   "metadata": {},
   "outputs": [],
   "source": [
    "variável_global = 'definida no início'\n",
    "\n",
    "def minha_função():\n",
    "    global variável_global\n",
    "    \n",
    "    variável_global = 'modificada dentro da função'\n",
    "    print(variável_global)\n",
    "\n",
    "minha_função()\n",
    "print(variável_global)"
   ]
  },
  {
   "cell_type": "markdown",
   "id": "b75efe53-0cd1-4933-b5fb-7c01cba735e1",
   "metadata": {},
   "source": [
    "### Bons costumes com funções e variáveis\n",
    "\n",
    "A linguagem Python dá bastante liberdade para escrevermos virtualmente qualquer programa. Porém, existem algumas boas práticas que nos ajudam a deixar os programas mais organizados e mais fáceis de entender e manter."
   ]
  },
  {
   "cell_type": "markdown",
   "id": "c8e1b65f-02d8-4270-89b1-bce8e912b516",
   "metadata": {},
   "source": [
    "#### Funções sem efeitos colaterais\n",
    "\n",
    "Idealmente, uma função deve fazer suas operações com base apenas nos valores dos argumentos. Evite modificar os argumentos, ou as variáveis globais."
   ]
  },
  {
   "cell_type": "markdown",
   "id": "54ed4fce-604e-40d3-88dc-2ec08a946316",
   "metadata": {},
   "source": [
    "#### Funções devem ser curtas\n",
    "\n",
    "Se uma função tem muitas linhas de código, que não cabem numa página, pode ser que seja interessante dividí-la em duas ou mais funções."
   ]
  },
  {
   "cell_type": "markdown",
   "id": "082d7230-9af2-4e00-b52e-b8b08ae6730d",
   "metadata": {},
   "source": [
    "#### Variáveis globais constantes\n",
    "\n",
    "Um uso prático de variáveis globais é o caso de valores constantes do programa, como a velocidade da luz num dos exemplos acima."
   ]
  },
  {
   "cell_type": "markdown",
   "id": "d664cc5b-0bce-4f73-88d6-0439db185315",
   "metadata": {},
   "source": [
    "#### Evite sobrepor variáveis\n",
    "\n",
    "Use nomes de variáveis locais diferentes dos nomes das globais."
   ]
  },
  {
   "cell_type": "markdown",
   "id": "f3a7086b-6a60-4f28-a1ce-ad0ab27d5cdd",
   "metadata": {},
   "source": [
    "### Exercício 3\n",
    "\n",
    "**a.** Escreva uma função que calcule o potencial elétrico\n",
    "\n",
    "$$\n",
    "V(x, y, z) = \\frac{k q}{\\sqrt{x^2 + y^2 + z^2}},\n",
    "$$\n",
    "\n",
    "onde $k = 8{,}99 \\times 10^9\\,\\mathrm{N}\\,\\mathrm{m}^2\\,\\mathrm{N}^{-2}$, e $q = 1{,}602 \\times 10^{-19}\\,\\mathrm{C}$."
   ]
  },
  {
   "cell_type": "code",
   "execution_count": null,
   "id": "b5656fd3-56d0-40b9-940f-22d8e38d986e",
   "metadata": {},
   "outputs": [],
   "source": []
  },
  {
   "cell_type": "markdown",
   "id": "42134dcf-b545-46da-95bf-094ec242f7c7",
   "metadata": {},
   "source": [
    "**b.** Calcule e mostre o valor do potencial para $x=1{.}00\\,\\mathrm{nm}$, $y=2{.}00\\,\\mathrm{nm}$ e $z$ variando de $1{.}00$ a $5{.}00\\,\\mathrm{m}$ com intervalos de $y=0{.}1\\,\\mathrm{nm}$."
   ]
  },
  {
   "cell_type": "code",
   "execution_count": null,
   "id": "6a7d9428-6fd4-4f2c-9ed3-d4706c483d54",
   "metadata": {},
   "outputs": [],
   "source": []
  },
  {
   "cell_type": "markdown",
   "id": "12e76234-2d66-4db2-8d8b-90ed2a9ef8a5",
   "metadata": {},
   "source": [
    "## (EXTRA) Argumentos obrigatórios e opcionais\n",
    "\n",
    "Uma característica interessante da linguagem Python é a possibilidade de especificar valores padrão para argumentos de uma função. Por exemplo, vamos fazer uma função que soma, e se o argumento `imprime` for `True`, faz um `print()` do resultado."
   ]
  },
  {
   "cell_type": "code",
   "execution_count": null,
   "id": "eb02e8a5-ec7e-4374-8b69-fbf411474622",
   "metadata": {},
   "outputs": [],
   "source": [
    "def soma(a, b, imprime):\n",
    "    s = a + b\n",
    "    if imprime:\n",
    "        print(s)\n",
    "    return s\n",
    "\n",
    "u = soma(3, 4, False)\n",
    "v = soma(5, 6, True)"
   ]
  },
  {
   "cell_type": "markdown",
   "id": "b6284b49-cdc0-4512-9f4c-0c7424541fed",
   "metadata": {},
   "source": [
    "Geralmente vamos querer usar um valor falso para `imprime`. Então, podemos facilitar a vida, e especificar um valor padrão para esse argumento."
   ]
  },
  {
   "cell_type": "code",
   "execution_count": null,
   "id": "5329d544-50d5-46ac-b2a9-9fae737930c0",
   "metadata": {},
   "outputs": [],
   "source": [
    "def soma(a, b, imprime=False):\n",
    "    s = a + b\n",
    "    if imprime:\n",
    "        print(s)\n",
    "    return s\n",
    "\n",
    "u = soma(3, 4)\n",
    "v = soma(5, 6, True)"
   ]
  },
  {
   "cell_type": "markdown",
   "id": "5ffa5cdb-aaf8-4303-b912-6146574e0acb",
   "metadata": {},
   "source": [
    "Uma restrição é que argumentos com valor padrão devem ficar à direita da lista de argumentos.\n",
    "\n",
    "**Importante!** Use sempre valores imutáveis como valor padrão de argumentos: strings, valores numéricos ou tuplas. Valores mutáveis como listas podem gerar [efeitos colaterais indesejados](https://stackoverflow.com/questions/1132941/least-astonishment-and-the-mutable-default-argument)."
   ]
  },
  {
   "cell_type": "markdown",
   "id": "fee7ddcf-76a3-41b0-b02e-33600f97dfff",
   "metadata": {},
   "source": [
    "### Chamando argumentos pelo nome\n",
    "\n",
    "Quando chamamos uma função, precisamos passar a lista de argumentos. Temos a opção de chamar alguns argumentos pelo nome, para deixar o código mais legível. Seguindo com o exemplo da soma, podemos fazer"
   ]
  },
  {
   "cell_type": "code",
   "execution_count": null,
   "id": "8855b736-f4c4-4019-9f45-9de852747cb9",
   "metadata": {},
   "outputs": [],
   "source": [
    "x = soma(2, 3, imprime=True)"
   ]
  },
  {
   "cell_type": "markdown",
   "id": "95bc304f-219c-41c0-a7cb-aec5ee641bac",
   "metadata": {},
   "source": [
    "Podemos usar nomes para os outros argumentos, mas é opcional. Neste caso a ordem é indiferente."
   ]
  },
  {
   "cell_type": "code",
   "execution_count": null,
   "id": "ea8ec58c-759b-4106-9b2c-8eb80b071055",
   "metadata": {},
   "outputs": [],
   "source": [
    "y = soma(a=1, b=2, imprime=False)\n",
    "w = soma(b=5, imprime=False, a=3)\n",
    "print(y, w)"
   ]
  },
  {
   "cell_type": "markdown",
   "id": "cdaefdc2-51e0-4a68-b2fb-37a49dd1f585",
   "metadata": {},
   "source": [
    "Cuidado ao misturar argumentos com e sem nome. Os argumentos sem nome devem ficar à esquerda, e os com nome à direita. Os argumentos sem nome devem ficar sempre na ordem correta. Isso parece um pouco complicado, e pode até causar bugs quando trocamos a ordem de argumentos. Na dúvida, use sempre os nomes quando a lista de argumentos for muito grande."
   ]
  },
  {
   "cell_type": "code",
   "execution_count": null,
   "id": "889460cf-b801-4aec-94cc-369f66de866f",
   "metadata": {},
   "outputs": [],
   "source": [
    "# Essa chamada vai causar erro!\n",
    "z = soma(a=4, 5, False)"
   ]
  },
  {
   "cell_type": "markdown",
   "id": "8023c745-0671-4c8d-acf1-e5e34e7446f6",
   "metadata": {},
   "source": [
    "### Exercício 4\n",
    "\n",
    "Faça uma função que calcule o volume de um hiper-cubo de lado $L$ numa dimensão $N$, dado por\n",
    "\n",
    "$$\n",
    "V = L^N.\n",
    "$$\n",
    "\n",
    "Para $N=2$, temos a área de um quadrado. Para $N=3$, temos o volume do cubo, e assim por diante. Crie uma função que tenha como argumento opcional o número de dimensões $N$, com valor padrão $N=3$.\n",
    "\n",
    "Calcule então o volume de um cubo de lado $L=2$, e de um *tesseract* ($N=4$) de lado $L=5$."
   ]
  },
  {
   "cell_type": "code",
   "execution_count": null,
   "id": "4628a559-97cc-4f94-9a1b-2be8de19789c",
   "metadata": {},
   "outputs": [],
   "source": []
  }
 ],
 "metadata": {
  "kernelspec": {
   "display_name": "Python 3 (ipykernel)",
   "language": "python",
   "name": "python3"
  },
  "language_info": {
   "codemirror_mode": {
    "name": "ipython",
    "version": 3
   },
   "file_extension": ".py",
   "mimetype": "text/x-python",
   "name": "python",
   "nbconvert_exporter": "python",
   "pygments_lexer": "ipython3",
   "version": "3.10.15"
  }
 },
 "nbformat": 4,
 "nbformat_minor": 5
}
