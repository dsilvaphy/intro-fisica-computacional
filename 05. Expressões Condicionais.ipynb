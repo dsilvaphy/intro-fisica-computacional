{
 "cells": [
  {
   "cell_type": "markdown",
   "metadata": {},
   "source": [
    "# Controle de fluxo\n",
    "\n",
    "Até agora, com pouquíssimas exceções, todas as linhas do nosso programa são executadas uma (e apenas uma) vez. Embora possamos fazer alguns programas úteis dessa forma, na maioria dos casos precisamos escrever programas mais complexos. Veremos algumas formas de escolher quais linhas serão executadas com base no estado do programa, e também escolher quantas vezes as linhas são executadas, e em  que ordem. As expressões usadas para este fim são chamadas de *controle de fluxo*."
   ]
  },
  {
   "cell_type": "markdown",
   "metadata": {},
   "source": [
    "## Expressões condicionais\n",
    "\n",
    "A forma mais simples de controle de fluxo é com uma expressão condicional. Desejamos executar uma linha ou um bloco de código apenas se alguma condição for satisfeita. Por exemplo, queremos escrever uma mensagem de aviso **se** a média de um estudante for muito baixa. Considere a média abaixo."
   ]
  },
  {
   "cell_type": "code",
   "execution_count": null,
   "metadata": {},
   "outputs": [],
   "source": [
    "media = (4 + 6 + 3 + 8) / 4\n",
    "print(media)"
   ]
  },
  {
   "cell_type": "markdown",
   "metadata": {},
   "source": [
    "Como definimos uma condição para uma expressão condicional? Aqui finalmente aparece um uso adequado para operações lógicas. Precisamos expressar a condição desejada como uma expressão lógica, que tem como resultado um valor booleano. No caso da nota, temos a condição de aprovação, que é uma nota maior ou igual a $6$. Assim"
   ]
  },
  {
   "cell_type": "code",
   "execution_count": null,
   "metadata": {},
   "outputs": [],
   "source": [
    "reprovado = media < 6.0\n",
    "print('reprovado?', reprovado)"
   ]
  },
  {
   "cell_type": "markdown",
   "metadata": {},
   "source": [
    "### `if`\n",
    "\n",
    "Em Python, usamos a *palavra-chave* `if` para executar um bloco de código com base no resultado expressão lógica, da forma\n",
    "\n",
    "```python\n",
    "if expressão_condicional:\n",
    "    linha1\n",
    "    linha2\n",
    "    ...\n",
    "```\n"
   ]
  },
  {
   "cell_type": "markdown",
   "metadata": {},
   "source": [
    "Note que o bloco de código está indentado, como vimos no começo do nosso curso. Vamos escrever então um programa que escreva na tela uma mensagem se a nota for menor que $6$, antes de mostrar a média final."
   ]
  },
  {
   "cell_type": "code",
   "execution_count": null,
   "metadata": {},
   "outputs": [],
   "source": [
    "if reprovado:\n",
    "    print('Sua nota não foi suficiente.')\n",
    "    print('Precisa estudar mais!')\n",
    "print('média:', media)"
   ]
  },
  {
   "cell_type": "markdown",
   "metadata": {},
   "source": [
    "Modifique as notas na célula onde a média é definida, e execute novamente as céluas acima para ver o que acontece quando a média é suficiente."
   ]
  },
  {
   "cell_type": "markdown",
   "metadata": {},
   "source": [
    "Veja que podemos escrever a condição dentro da própria expressão condicional. Isso pode deixar o código mais legível ou não, depende do programa. A célula abaixo tem o mesmo efeito da anterior."
   ]
  },
  {
   "cell_type": "code",
   "execution_count": null,
   "metadata": {},
   "outputs": [],
   "source": [
    "if media < 6.0:\n",
    "    print('Sua nota não foi suficiente.')\n",
    "    print('Precisa estudar mais!')\n",
    "print('média:', media)"
   ]
  },
  {
   "cell_type": "markdown",
   "metadata": {},
   "source": [
    "#### Exercício 1\n",
    "\n",
    "Escreva um programa que determine se a velocidade de um carro é maior que $80\\,\\mathrm{km}\\,\\mathrm{h}^{-1}$. Se a velocidade for maior que esta, o programa deve escrever uma mensagem dizendo que o motorista foi multado. Neste caso, calcule e escreva o valor da multa, que deve ser de $\\mathrm{R}\\$\\, 500$ mais $\\mathrm{R}\\$\\, 20$ para cada $1\\,\\mathrm{km}\\,\\mathrm{h}^{-1}$ acima da velocidade permitida. Teste com os seguintes valores:\n",
    "\n",
    "1. $98\\,\\mathrm{km}\\,\\mathrm{h}^{-1} \\implies\\mathrm{R}\\$\\, 860$.\n",
    "2. $79\\,\\mathrm{km}\\,\\mathrm{h}^{-1}$, sem multa.\n",
    "3. $86{,}4\\,\\mathrm{km}\\,\\mathrm{h}^{-1} \\implies \\mathrm{R}\\$\\, 628$."
   ]
  },
  {
   "cell_type": "code",
   "execution_count": null,
   "metadata": {},
   "outputs": [],
   "source": []
  },
  {
   "cell_type": "markdown",
   "metadata": {},
   "source": [
    "### `else`\n",
    "\n",
    "Voltando ao exemplo da média. Queremos também elogiar o estudante que obteve média suficiente, mostrando uma mensagem positiva na tela. Com o que sabemos até agora, podemos resolver facilmente o problema com um `if` adicional. Vamos repetir todo o programa para facilitar um pouco."
   ]
  },
  {
   "cell_type": "code",
   "execution_count": null,
   "metadata": {},
   "outputs": [],
   "source": [
    "media = (4 + 6 + 3 + 8) / 4\n",
    "reprovado = media < 6.0\n",
    "if reprovado:\n",
    "    print('Sua nota não foi suficiente.')\n",
    "    print('Precisa estudar mais!')\n",
    "if not reprovado:\n",
    "    print('Parabéns! Você foi aprovado.')\n",
    "print('média:', media)"
   ]
  },
  {
   "cell_type": "markdown",
   "metadata": {},
   "source": [
    "É muito comum querermos fazer duas ações, uma quando uma condição é satisfeita, e outra quando não é satisfeita. Para isso usamos a palavra-chave `else`, que em inglês significa \"se não\". O mesmo programa acima, usando `else`, fica:"
   ]
  },
  {
   "cell_type": "code",
   "execution_count": null,
   "metadata": {},
   "outputs": [],
   "source": [
    "media = (4 + 6 + 3 + 8) / 4\n",
    "reprovado = media < 6.0\n",
    "if reprovado:\n",
    "    print('Sua nota não foi suficiente.')\n",
    "    print('Precisa estudar mais!')\n",
    "else:\n",
    "    print('Parabéns! Você foi aprovado.')\n",
    "print('média:', media)"
   ]
  },
  {
   "cell_type": "markdown",
   "metadata": {},
   "source": [
    "Repare na estrutura de indentação. O `else` deve ficar no mesmo nível (mesma distância da margem) do `if`. A indentação dos blocos de código dentro do `if` e do `else` também deve ser consistente."
   ]
  },
  {
   "cell_type": "markdown",
   "metadata": {},
   "source": [
    "#### Exercício 2\n",
    "Uma linha de ônibus cobra do passageiro $R\\$\\, 0{,}50$ por quilômetro rodado para viagens abaixo de $200\\,\\mathrm{km}$, e $R\\$\\, 0{,}45$ para viagens mais longas. Escreva um programa que calcula o valor da passagem dada uma distância que queremos viajar. Verifique com os seguintes valores:\n",
    "\n",
    "1. $150\\,\\mathrm{km} \\implies\\mathrm{R}\\$\\, 75$.\n",
    "2. $210\\,\\mathrm{km} \\implies\\mathrm{R}\\$\\, 94{,}50$.\n",
    "3. $350\\,\\mathrm{km} \\implies\\mathrm{R}\\$\\, 157{,}50$."
   ]
  },
  {
   "cell_type": "code",
   "execution_count": null,
   "metadata": {},
   "outputs": [],
   "source": []
  },
  {
   "cell_type": "markdown",
   "metadata": {},
   "source": [
    "### `elif`\n",
    "\n",
    "Quando temos duas condições possíveis, usamos `else`. Porém, podemos também ter casos onde há várias condições *mutualmente excludentes*. Seguindo o exemplo das notas, podemos querer determinar três situações: ou o estudante foi aprovado com nota maior ou igual a $6$, ou foi reprovado mas pode fazer prova de recuperação caso tenha nota maior ou igual a $3$, ou foi reprovado caso a nota seja menor que $3$. Novamente, sempre dá pra fazer do jeito \"ingênuo\"."
   ]
  },
  {
   "cell_type": "code",
   "execution_count": null,
   "metadata": {},
   "outputs": [],
   "source": [
    "media = (4 + 6 + 0 + 0) / 4\n",
    "\n",
    "if media < 3:\n",
    "    print('Sua nota não foi suficiente.')\n",
    "    print('Precisa estudar mais!')\n",
    "else:\n",
    "    if media < 6:\n",
    "        print('Quase lá, vai precisar fazer recuperação.')\n",
    "    else:\n",
    "        print('Parabéns! Você foi aprovado.')\n",
    "print('média:', media)"
   ]
  },
  {
   "cell_type": "markdown",
   "metadata": {},
   "source": [
    "Existem várias maneiras de expressar essas mesmas condições, essa foi apenas uma delas. Repare que tivemos que usar um novo `if` aninhado dentro do `else` do `if` anterior. Essa também é uma construção muito comum, por isso temos a palavra-chave `elif`, deixando o código mais legível (e com sorte, mais organizado):"
   ]
  },
  {
   "cell_type": "code",
   "execution_count": null,
   "metadata": {},
   "outputs": [],
   "source": [
    "media = (4 + 6 + 0 + 0) / 4\n",
    "\n",
    "if media < 3:\n",
    "    print('Sua nota não foi suficiente.')\n",
    "    print('Precisa estudar mais!')\n",
    "elif media < 6:\n",
    "    print('Quase lá, vai precisar fazer recuperação.')\n",
    "else:\n",
    "    print('Parabéns! Você foi aprovado.')\n",
    "print('média:', media)"
   ]
  },
  {
   "cell_type": "markdown",
   "metadata": {},
   "source": [
    "#### Exercício 3\n",
    "Escreva um programa que calcule o preço a pagar pela energia elétrica. Existem 3 categorias de instalação, cada uma com 2 faixas de valor por $\\mathrm{kW}\\,\\mathrm{h}$:"
   ]
  },
  {
   "cell_type": "markdown",
   "metadata": {},
   "source": [
    "1. Residencial\n",
    "    - $<500\\,\\mathrm{kW}\\,\\mathrm{h} \\implies \\mathrm{R}\\$\\,0{,}40$\n",
    "    - $\\geq 500\\,\\mathrm{kW}\\,\\mathrm{h} \\implies \\mathrm{R}\\$\\,0{,}65$\n",
    "2. Comercial\n",
    "    - $<1000\\,\\mathrm{kW}\\,\\mathrm{h} \\implies \\mathrm{R}\\$\\,0{,}55$\n",
    "    - $\\geq 1000\\,\\mathrm{kW}\\,\\mathrm{h} \\implies \\mathrm{R}\\$\\,0{,}60$\n",
    "3. Industrial\n",
    "    - $<5000\\,\\mathrm{kW}\\,\\mathrm{h} \\implies \\mathrm{R}\\$\\,0{,}60$\n",
    "    - $\\geq 5000\\,\\mathrm{kW}\\,\\mathrm{h} \\implies \\mathrm{R}\\$\\,0{,}65$"
   ]
  },
  {
   "cell_type": "markdown",
   "metadata": {},
   "source": [
    "Use os números 1, 2 e 3 para identificar qual o tipo de instalação. Teste com vários valores e confira com a calculadora o seu resultado."
   ]
  },
  {
   "cell_type": "code",
   "execution_count": null,
   "metadata": {},
   "outputs": [],
   "source": []
  }
 ],
 "metadata": {
  "kernelspec": {
   "display_name": "Python 3 (ipykernel)",
   "language": "python",
   "name": "python3"
  },
  "language_info": {
   "codemirror_mode": {
    "name": "ipython",
    "version": 3
   },
   "file_extension": ".py",
   "mimetype": "text/x-python",
   "name": "python",
   "nbconvert_exporter": "python",
   "pygments_lexer": "ipython3",
   "version": "3.10.15"
  }
 },
 "nbformat": 4,
 "nbformat_minor": 4
}
