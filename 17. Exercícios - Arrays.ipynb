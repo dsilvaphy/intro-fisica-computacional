{
 "cells": [
  {
   "cell_type": "markdown",
   "id": "af154157-905b-40cf-bd63-c36e05ce8e35",
   "metadata": {},
   "source": [
    "# Arrays\n",
    "\n",
    "## Exercícios\n",
    "\n",
    "### Exercício 1\n",
    "\n",
    "Quando temos uma distribuição estatística, é muito comum precisarmos usar uma *soma cumulativa*. Vamos agora calcular a soma cumulativa de uma distribuição gaussiana.\n",
    "\n",
    "**a.** Crie um array com os valores $-2 \\leq x \\leq 2$, igualmente espaçados. Em seguida, crie outro array com $p(x) = \\mathrm{e}^{-\\frac{1}{2} x^2}$.\n",
    "\n",
    "*Sugestão*: crie uma função `gaussiana(x)`."
   ]
  },
  {
   "cell_type": "code",
   "execution_count": null,
   "id": "3d4839e5-16bc-498f-9637-82f94b672dfc",
   "metadata": {},
   "outputs": [],
   "source": []
  },
  {
   "cell_type": "markdown",
   "id": "49e838b5-743a-4eec-a7df-9bc7c5fb0440",
   "metadata": {},
   "source": [
    "**b.** Escreva uma função que calcule a soma cumulativa de um array. A soma cumulativa é a soma de todos os elementos até um certo elemento $j$ do array. Isto é\n",
    "\n",
    "\\begin{align}\n",
    "C_0 &= A_0 \\\\\n",
    "C_1 &= A_0 + A_1 \\\\\n",
    "C_2 &= A_0 + A_1 + A_2 \\\\\n",
    "\\ldots \\\\\n",
    "C_{N-1} &= A_0 + A_1 + A_2 + \\ldots + A_{N-1}.\n",
    "\\end{align}"
   ]
  },
  {
   "cell_type": "markdown",
   "id": "0235ed4b-3ab0-4c19-9e92-cf404698ce33",
   "metadata": {},
   "source": [
    "Isto é, $C$ é um novo array, de mesmo número de elementos que $A$. Escrevendo como um somatório,\n",
    "\n",
    "$$\n",
    "C_i = \\sum_{j=0}^i A_j, \\qquad i = 0, 1, 2, \\ldots, N-1.\n",
    "$$\n",
    "\n",
    "Em seguida, calcule a soma cumulativa de $p(x)$."
   ]
  },
  {
   "cell_type": "code",
   "execution_count": null,
   "id": "4b615130-5bad-43f9-ac4d-efe3d00a6d38",
   "metadata": {},
   "outputs": [],
   "source": []
  },
  {
   "cell_type": "markdown",
   "id": "0570e201-321f-49ff-af3d-3587c5cee266",
   "metadata": {},
   "source": [
    "### Exercício 2\n",
    "\n",
    "Vamos tentar visualizar melhor o resultado do exercício acima. Escreva uma função que \"desenhe\" um gráfico de barras horizontais. Para cada valor do array de entrada, ela faz um print de uma barra composta de caracteres. O resultado deve ficar parecido com isso:"
   ]
  },
  {
   "cell_type": "code",
   "execution_count": null,
   "id": "8ebb25e8-7130-491e-95d1-c8d97615c936",
   "metadata": {},
   "outputs": [],
   "source": [
    "print('🟦🟦🟦🟦🟦')\n",
    "print('🟦🟦🟦🟦🟦🟦')\n",
    "print('🟦🟦🟦🟦🟦🟦🟦🟦🟦')\n",
    "print('🟦🟦🟦🟦🟦🟦🟦🟦')\n",
    "print('🟦🟦🟦🟦🟦🟦🟦')"
   ]
  },
  {
   "cell_type": "markdown",
   "id": "0f6d11ba-2de4-4507-85ef-836de17bf3cf",
   "metadata": {},
   "source": [
    "Os argumentos da função devem ser:\n",
    "\n",
    "* O array que queremos usar pra fazer o gráfico.\n",
    "* A largura máxima de uma barra. Se não for especificada, use 80 caracteres.\n",
    "* O caractere a ser usado. Se não for especificado, use um valor padrão.\n",
    "\n",
    "Faça o gráfico ocupar toda a escala de barras (lembre que podem haver valores negativos). Sugestão de assinatura da função:\n",
    "\n",
    "```python\n",
    "def plot_barras(x, L=80, c='🟦'):\n",
    "    pass\n",
    "```"
   ]
  },
  {
   "cell_type": "markdown",
   "id": "76e864ec-9b6d-41a7-9e48-6043648f9044",
   "metadata": {},
   "source": [
    "Faça o gráfico de $p(x)$ e sua soma cumulativa."
   ]
  },
  {
   "cell_type": "code",
   "execution_count": null,
   "id": "da635065-46b8-4495-b175-20d12fd9acc3",
   "metadata": {},
   "outputs": [],
   "source": []
  }
 ],
 "metadata": {
  "kernelspec": {
   "display_name": "Python 3 (ipykernel)",
   "language": "python",
   "name": "python3"
  },
  "language_info": {
   "codemirror_mode": {
    "name": "ipython",
    "version": 3
   },
   "file_extension": ".py",
   "mimetype": "text/x-python",
   "name": "python",
   "nbconvert_exporter": "python",
   "pygments_lexer": "ipython3",
   "version": "3.10.15"
  }
 },
 "nbformat": 4,
 "nbformat_minor": 5
}
