{
 "cells": [
  {
   "cell_type": "markdown",
   "id": "d1c07f99-0a17-4855-8100-cceffa8f4886",
   "metadata": {},
   "source": [
    "# Funções\n",
    "\n",
    "## Exercícios"
   ]
  },
  {
   "cell_type": "markdown",
   "id": "6501f942-0141-4ead-9e30-7e3bd306f73b",
   "metadata": {},
   "source": [
    "### Exercício 5\n",
    "\n",
    "Faça uma função que crie uma lista com um número `N` de elementos, todos iguais ao valor constante `c`."
   ]
  },
  {
   "cell_type": "code",
   "execution_count": null,
   "id": "f10a15ee-46e4-4d4c-8699-99e63a3cbcd2",
   "metadata": {},
   "outputs": [],
   "source": []
  },
  {
   "cell_type": "markdown",
   "id": "854edd18-3640-47a2-8557-d10c0ccfa935",
   "metadata": {},
   "source": [
    "### Exercício 6\n",
    "\n",
    "Crie uma função que calcule o produto escalar entre dois vetores. Um vetor pode ser representado como uma lista de três elementos. Quer dizer, o vetor $\\vec{v} = (x, y, z)$ é representado por `v = [x, y, z]`. O produto escalar é dado por\n",
    "\n",
    "\\begin{align}\n",
    "\\vec{v_1} \\cdot \\vec{v_2} = x_1 x_2 + y_1 y_2 + z_1 z_2.\n",
    "\\end{align}"
   ]
  },
  {
   "cell_type": "code",
   "execution_count": null,
   "id": "ca2279dd-3447-4141-bf04-ecd2ea035a54",
   "metadata": {},
   "outputs": [],
   "source": []
  },
  {
   "cell_type": "markdown",
   "id": "52292137-3ada-47c6-8c12-6d3a919945c7",
   "metadata": {},
   "source": [
    "### Exercício 7\n",
    "\n",
    "Crie uma função que calcula o módulo de um vetor, que pode ser definido a partir do produto escalar,\n",
    "\n",
    "\\begin{align}\n",
    "|\\vec{v}|^2 = \\vec{v} \\cdot \\vec{v}.\n",
    "\\end{align}\n",
    "\n",
    "*Dica: utilize a função criada no item anterior.*"
   ]
  },
  {
   "cell_type": "code",
   "execution_count": null,
   "id": "9d76f2c8-c0ff-41b4-bd3a-dff4bf9a4b1e",
   "metadata": {},
   "outputs": [],
   "source": []
  },
  {
   "cell_type": "markdown",
   "id": "bdeb6a0e-52e5-4c41-9478-9c8b109e9c29",
   "metadata": {},
   "source": [
    "### Exercício 8\n",
    "\n",
    "Crie uma função que calcule o ângulo entre dois vetores. Use a definição do produto escalar:\n",
    "\n",
    "\\begin{align}\n",
    "\\vec{v_1} \\cdot \\vec{v_2} &= |\\vec{v_1}|\\ |\\vec{v_2}| \\cos \\theta.\n",
    "\\end{align}\n",
    "\n",
    "Novamente, use as funções que vocêr programou acima."
   ]
  },
  {
   "cell_type": "code",
   "execution_count": null,
   "id": "5f30393c-86e2-47c2-ac57-6db2828d1c80",
   "metadata": {},
   "outputs": [],
   "source": []
  },
  {
   "cell_type": "markdown",
   "id": "f0e61c0d-a7de-4763-b165-fb5da04c656c",
   "metadata": {},
   "source": [
    "### Exercício 9\n",
    "\n",
    "Crie uma função que retorna uma lista de valores entre os argumentos `a` e `b`, com intervalos `h`. Como sugestão, use a seguinte regra para os elementos:\n",
    "\n",
    "$$\n",
    "n_j = a + j h, \\quad j=0,1,2, \\ldots, N - 1.\n",
    "$$"
   ]
  },
  {
   "cell_type": "code",
   "execution_count": null,
   "id": "b014e0ab-f8fe-4b6a-947f-ded695fe62b2",
   "metadata": {},
   "outputs": [],
   "source": []
  }
 ],
 "metadata": {
  "kernelspec": {
   "display_name": "Python 3 (ipykernel)",
   "language": "python",
   "name": "python3"
  },
  "language_info": {
   "codemirror_mode": {
    "name": "ipython",
    "version": 3
   },
   "file_extension": ".py",
   "mimetype": "text/x-python",
   "name": "python",
   "nbconvert_exporter": "python",
   "pygments_lexer": "ipython3",
   "version": "3.10.15"
  }
 },
 "nbformat": 4,
 "nbformat_minor": 5
}
