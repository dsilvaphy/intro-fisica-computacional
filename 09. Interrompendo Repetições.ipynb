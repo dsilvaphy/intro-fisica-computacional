{
 "cells": [
  {
   "cell_type": "markdown",
   "metadata": {},
   "source": [
    "# Repetições\n",
    "\n",
    "## Interrompendo uma repetição\n",
    "\n",
    "Uma característica do laço `while` é que ele só verifica a condição no começo de cada iteração. Isso pode fazer com que a lógica de parada do laço fique complicada em alguns casos.\n",
    "\n",
    "Considere um laço para somar números digitados pelo usuário."
   ]
  },
  {
   "cell_type": "code",
   "execution_count": null,
   "metadata": {},
   "outputs": [],
   "source": [
    "N = 4\n",
    "n = 0\n",
    "soma = 0.0\n",
    "\n",
    "while n < N:\n",
    "    v = float(input('Digite o valor'))\n",
    "    soma += v\n",
    "    n += 1\n",
    "    \n",
    "print('A soma é', soma)"
   ]
  },
  {
   "cell_type": "markdown",
   "metadata": {},
   "source": [
    "Neste laço somamos 4 números. Vamos agora modificar o programa para somar até 4 números. O usuário deve digitar um número negativo para indicar o fim da soma. Precisamos mudar a condição do laço, uma forma possível é a seguinte."
   ]
  },
  {
   "cell_type": "code",
   "execution_count": null,
   "metadata": {},
   "outputs": [],
   "source": []
  },
  {
   "cell_type": "markdown",
   "metadata": {},
   "source": [
    "Conforme o programa fica mais complexo, parar o laço no meio por algum motivo excepcional pode deixar o programa ainda mais complicado. Além disso, a condição do laço também começa a ficar cada vez maior.\n",
    "\n",
    "Como esse é um problema comum, a maioria das linguagens fornece \"atalhos\" para interromper um laço. No Python, usamos as *palavras-chave* `break` e `continue`.\n",
    "\n",
    "Vamos rescrever o programa acima usando `break`, que interrompe o laço imediatamente."
   ]
  },
  {
   "cell_type": "code",
   "execution_count": null,
   "metadata": {},
   "outputs": [],
   "source": []
  },
  {
   "cell_type": "markdown",
   "metadata": {},
   "source": [
    "Não precisamos criar uma variável adicional, e nem colocar o resto do programa num bloco `else`.\n",
    "\n",
    "Considere agora uma outra variante do programa. Queremos somar todos os números, mas se o usuário digitar um número negativo por acidente, queremos avisá-lo e seguir somando. Neste caso, podemos fazer:"
   ]
  },
  {
   "cell_type": "code",
   "execution_count": null,
   "metadata": {},
   "outputs": [],
   "source": []
  },
  {
   "cell_type": "markdown",
   "metadata": {},
   "source": [
    "Usando a palavra-chave `continue`, vamos interromper a iteração atual, indo para o começo da próxima. Neste caso, fazemos:"
   ]
  },
  {
   "cell_type": "code",
   "execution_count": null,
   "metadata": {},
   "outputs": [],
   "source": []
  },
  {
   "cell_type": "markdown",
   "metadata": {},
   "source": [
    "Tanto `break` quanto `continue` são instruções que nos ajudam a escrever programas mais legíveis e menos complicados. Talvez nestes exemplos simples vistos aqui o seu efeito seja pequeno, mas tente usá-las em seus programas no futuro. Essas instruções podem ser bastante úteis e tirar você de alguns apertos."
   ]
  },
  {
   "cell_type": "markdown",
   "metadata": {},
   "source": [
    "### Exercício\n",
    "\n",
    "Considere um objeto em queda livre, partindo de uma altura dada pelo usuário (por exemplo, $2\\,\\mathrm{m}$) em relação ao solo. Escreva um programa que calcula e imprime o tempo desde o início da queda e a posição atual do objeto a cada $0{,}05\\,\\mathrm{s}$, durante $1\\ \\mathrm{s}$. Caso o objeto ultrapasse o solo, interrompa o cálculo.\n",
    "\n",
    "Em seguida, coloque o resultado numa planilha e desenhe um gráfico."
   ]
  },
  {
   "cell_type": "code",
   "execution_count": null,
   "metadata": {},
   "outputs": [],
   "source": []
  }
 ],
 "metadata": {
  "kernelspec": {
   "display_name": "Python 3 (ipykernel)",
   "language": "python",
   "name": "python3"
  },
  "language_info": {
   "codemirror_mode": {
    "name": "ipython",
    "version": 3
   },
   "file_extension": ".py",
   "mimetype": "text/x-python",
   "name": "python",
   "nbconvert_exporter": "python",
   "pygments_lexer": "ipython3",
   "version": "3.10.15"
  }
 },
 "nbformat": 4,
 "nbformat_minor": 4
}
