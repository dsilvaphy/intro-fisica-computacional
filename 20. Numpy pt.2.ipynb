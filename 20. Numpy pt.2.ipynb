{
 "cells": [
  {
   "cell_type": "markdown",
   "id": "7622e9f9-7bf6-4ff5-b1cb-a2a4e1b69576",
   "metadata": {},
   "source": [
    "# Arrays numpy"
   ]
  },
  {
   "cell_type": "code",
   "execution_count": 1,
   "id": "fb5f712b-b66c-453f-8c01-96a20c372d39",
   "metadata": {},
   "outputs": [],
   "source": [
    "import numpy as np\n",
    "import matplotlib.pyplot as plt\n",
    "plt.style.use('ggplot')\n",
    "plt.rcParams['font.family'] = 'serif'\n",
    "plt.rcParams['mathtext.fontset'] = 'stix'"
   ]
  },
  {
   "cell_type": "markdown",
   "id": "5f7d5756-8fd8-4cb0-a23c-30aa6bcbeb0a",
   "metadata": {},
   "source": [
    "## Indexando e fatiando arrays\n",
    "\n",
    "Os arrays podem ser acessados de forma similar a sequências em Python. Lembre que os índices começam em zero."
   ]
  },
  {
   "cell_type": "code",
   "execution_count": 2,
   "id": "ab5dc623-be5f-46d0-9204-af84e03a7baa",
   "metadata": {},
   "outputs": [],
   "source": [
    "a = np.linspace(1, 2, 21)"
   ]
  },
  {
   "cell_type": "code",
   "execution_count": 3,
   "id": "2654e672-06fa-4c07-a85d-f053f4095cf3",
   "metadata": {},
   "outputs": [
    {
     "data": {
      "text/plain": [
       "array([1.  , 1.05, 1.1 , 1.15, 1.2 , 1.25, 1.3 , 1.35, 1.4 , 1.45, 1.5 ,\n",
       "       1.55, 1.6 , 1.65, 1.7 , 1.75, 1.8 , 1.85, 1.9 , 1.95, 2.  ])"
      ]
     },
     "execution_count": 3,
     "metadata": {},
     "output_type": "execute_result"
    }
   ],
   "source": [
    "a"
   ]
  },
  {
   "cell_type": "code",
   "execution_count": 4,
   "id": "03314682-83b6-4fa0-89d7-2f72ae11579e",
   "metadata": {},
   "outputs": [
    {
     "data": {
      "text/plain": [
       "1.0"
      ]
     },
     "execution_count": 4,
     "metadata": {},
     "output_type": "execute_result"
    }
   ],
   "source": [
    "a[0] # Experimente outros números. Que tal -1? "
   ]
  },
  {
   "cell_type": "markdown",
   "id": "5fa173f3-a440-44d2-a5f7-b0efa89212bb",
   "metadata": {},
   "source": [
    "Podemos tomar uma fatia (*slice*) de um array da mesma forma que fazemos com sequências."
   ]
  },
  {
   "cell_type": "code",
   "execution_count": 5,
   "id": "064b1ade-813c-4b5d-ad04-a92c5aaa2ab1",
   "metadata": {},
   "outputs": [
    {
     "data": {
      "text/plain": [
       "array([1.1 , 1.25, 1.4 ])"
      ]
     },
     "execution_count": 5,
     "metadata": {},
     "output_type": "execute_result"
    }
   ],
   "source": [
    "a[2:9:3] # início:fim:passo. \"fim\" não está incluído."
   ]
  },
  {
   "cell_type": "markdown",
   "id": "b0973c79-46ba-45c8-85d3-4a06de082034",
   "metadata": {},
   "source": [
    "É possível omitir qualquer parte da indexação."
   ]
  },
  {
   "cell_type": "code",
   "execution_count": 6,
   "id": "fd50084f-591c-41f8-a6a4-9ecebf05e69c",
   "metadata": {},
   "outputs": [
    {
     "data": {
      "text/plain": [
       "array([1.5 , 1.55, 1.6 , 1.65, 1.7 , 1.75, 1.8 , 1.85, 1.9 , 1.95, 2.  ])"
      ]
     },
     "execution_count": 6,
     "metadata": {},
     "output_type": "execute_result"
    }
   ],
   "source": [
    "a[10:] # do elemento 10 até o final."
   ]
  },
  {
   "cell_type": "code",
   "execution_count": 7,
   "id": "8825113d-6660-4561-bf48-8c69767c1936",
   "metadata": {},
   "outputs": [
    {
     "data": {
      "text/plain": [
       "array([1.  , 1.05, 1.1 , 1.15, 1.2 , 1.25, 1.3 , 1.35, 1.4 , 1.45])"
      ]
     },
     "execution_count": 7,
     "metadata": {},
     "output_type": "execute_result"
    }
   ],
   "source": [
    "a[:10] # até o elemento 10-1 = 9"
   ]
  },
  {
   "cell_type": "code",
   "execution_count": 8,
   "id": "25ddae9a-3b5f-40c1-a790-bdeab7e60592",
   "metadata": {},
   "outputs": [
    {
     "data": {
      "text/plain": [
       "array([1. , 1.1, 1.2, 1.3, 1.4, 1.5, 1.6, 1.7, 1.8, 1.9, 2. ])"
      ]
     },
     "execution_count": 8,
     "metadata": {},
     "output_type": "execute_result"
    }
   ],
   "source": [
    "a[::2] # saltando de 2 em 2."
   ]
  },
  {
   "cell_type": "code",
   "execution_count": 9,
   "id": "cb52ff62-9e23-40ff-8b19-c74676ed56ef",
   "metadata": {},
   "outputs": [
    {
     "data": {
      "text/plain": [
       "array([2.  , 1.95, 1.9 , 1.85, 1.8 , 1.75, 1.7 , 1.65, 1.6 , 1.55, 1.5 ,\n",
       "       1.45, 1.4 , 1.35, 1.3 , 1.25, 1.2 , 1.15, 1.1 , 1.05, 1.  ])"
      ]
     },
     "execution_count": 9,
     "metadata": {},
     "output_type": "execute_result"
    }
   ],
   "source": [
    "a[::-1] # saltando de trás pra frente."
   ]
  },
  {
   "cell_type": "markdown",
   "id": "d5210e22-dfbb-4852-8e78-6e1edb892ff2",
   "metadata": {},
   "source": [
    "Arrays multidimensionais podem ser indexados por tuplas."
   ]
  },
  {
   "cell_type": "code",
   "execution_count": 10,
   "id": "c7e4954d-73f1-47d2-aa22-bdea2951b490",
   "metadata": {},
   "outputs": [],
   "source": [
    "b = np.diag(np.arange(3))"
   ]
  },
  {
   "cell_type": "code",
   "execution_count": 11,
   "id": "d72d066b-0153-48b5-ac68-72b75e2f56e9",
   "metadata": {},
   "outputs": [
    {
     "data": {
      "text/plain": [
       "array([[0, 0, 0],\n",
       "       [0, 1, 0],\n",
       "       [0, 0, 2]])"
      ]
     },
     "execution_count": 11,
     "metadata": {},
     "output_type": "execute_result"
    }
   ],
   "source": [
    "b"
   ]
  },
  {
   "cell_type": "code",
   "execution_count": 12,
   "id": "345e90a0-83bd-4618-8f3c-7325f5cbe3ef",
   "metadata": {},
   "outputs": [
    {
     "data": {
      "text/plain": [
       "1"
      ]
     },
     "execution_count": 12,
     "metadata": {},
     "output_type": "execute_result"
    }
   ],
   "source": [
    "b[1, 1]"
   ]
  },
  {
   "cell_type": "code",
   "execution_count": 13,
   "id": "750c88d2-5cba-4e59-9ec8-768aa0f3dd57",
   "metadata": {},
   "outputs": [],
   "source": [
    "b[2, 1] = 10"
   ]
  },
  {
   "cell_type": "code",
   "execution_count": 14,
   "id": "c8ba1339-73dd-4d2d-bcb7-17e94768a957",
   "metadata": {},
   "outputs": [
    {
     "data": {
      "text/plain": [
       "array([[ 0,  0,  0],\n",
       "       [ 0,  1,  0],\n",
       "       [ 0, 10,  2]])"
      ]
     },
     "execution_count": 14,
     "metadata": {},
     "output_type": "execute_result"
    }
   ],
   "source": [
    "b"
   ]
  },
  {
   "cell_type": "markdown",
   "id": "1f817212-79d0-4df9-ae4f-66cf4e539307",
   "metadata": {},
   "source": [
    "Podemos fazer fatias do mesmo jeito que no caso unidimensional."
   ]
  },
  {
   "cell_type": "code",
   "execution_count": 15,
   "id": "2f5f78a8-5b2f-4ef9-95bf-9d183b0042e9",
   "metadata": {},
   "outputs": [
    {
     "data": {
      "text/plain": [
       "array([1, 0])"
      ]
     },
     "execution_count": 15,
     "metadata": {},
     "output_type": "execute_result"
    }
   ],
   "source": [
    "b[1, 1:3]"
   ]
  },
  {
   "cell_type": "code",
   "execution_count": 16,
   "id": "63aba3e0-33d8-4302-853c-9efe47a66793",
   "metadata": {},
   "outputs": [
    {
     "data": {
      "text/plain": [
       "array([0, 1, 0])"
      ]
     },
     "execution_count": 16,
     "metadata": {},
     "output_type": "execute_result"
    }
   ],
   "source": [
    "b[1,:] #  linha 1, todas as colunas."
   ]
  },
  {
   "cell_type": "markdown",
   "id": "34719b37-466d-414c-afbe-e4efc9951c18",
   "metadata": {},
   "source": [
    "Podemos omitir os `:` das dimensões à direita para simplificar a notação."
   ]
  },
  {
   "cell_type": "code",
   "execution_count": 17,
   "id": "f7c478a1-6e09-4934-a50d-37a6218f3509",
   "metadata": {},
   "outputs": [
    {
     "data": {
      "text/plain": [
       "array([0, 1, 0])"
      ]
     },
     "execution_count": 17,
     "metadata": {},
     "output_type": "execute_result"
    }
   ],
   "source": [
    "b[1]"
   ]
  },
  {
   "attachments": {
    "1ab83601-914c-41a5-972c-cccbfb212ac9.png": {
     "image/png": "[encoded data removed]"
    }
   },
   "cell_type": "markdown",
   "id": "8f744054-ff43-4921-9d82-dd8f860d2aea",
   "metadata": {},
   "source": [
    "Uma ilustração das formas de indexar arrays.\n",
    "\n",
    "![numpy_indexing.png](attachment:1ab83601-914c-41a5-972c-cccbfb212ac9.png)"
   ]
  },
  {
   "cell_type": "markdown",
   "id": "b5c6d54f-f4c4-47c7-baa5-0663018b3ae6",
   "metadata": {},
   "source": [
    "### Exercício 1\n",
    "\n",
    "Crie um array unidimensional com números inteiros crescentes e maiores que zero. Faça slices contendo apenas os números pares e números ímpares."
   ]
  },
  {
   "cell_type": "code",
   "execution_count": 18,
   "id": "61a154bb-d135-4ab3-ab06-24ac63086ad4",
   "metadata": {},
   "outputs": [
    {
     "name": "stdout",
     "output_type": "stream",
     "text": [
      "[ 1  2  3  4  5  6  7  8  9 10 11 12 13 14 15 16 17 18 19]\n",
      "[ 1  3  5  7  9 11 13 15 17 19]\n",
      "[ 2  4  6  8 10 12 14 16 18]\n"
     ]
    }
   ],
   "source": [
    "x = np.arange(1, 20)\n",
    "print(x)\n",
    "impares = x[::2]\n",
    "print(impares)\n",
    "pares = x[1::2]\n",
    "print(pares)"
   ]
  },
  {
   "cell_type": "markdown",
   "id": "5abfedc7-7866-4257-a0d2-8d6038d87894",
   "metadata": {},
   "source": [
    "### Cópias e *views*\n",
    "\n",
    "Quando tomamos um slice usando indexação, o resultado é outro array. Este novo array é uma *view* do array original, isto é, aponta para os mesmos dados que o array original."
   ]
  },
  {
   "cell_type": "code",
   "execution_count": 19,
   "id": "5fc09315-db60-4b8e-966b-dd81ff0b51ae",
   "metadata": {},
   "outputs": [],
   "source": [
    "a = np.arange(10)"
   ]
  },
  {
   "cell_type": "code",
   "execution_count": 20,
   "id": "e6191a74-af92-41a8-89dc-dd9d76accb6d",
   "metadata": {},
   "outputs": [
    {
     "data": {
      "text/plain": [
       "array([0, 1, 2, 3, 4, 5, 6, 7, 8, 9])"
      ]
     },
     "execution_count": 20,
     "metadata": {},
     "output_type": "execute_result"
    }
   ],
   "source": [
    "a"
   ]
  },
  {
   "cell_type": "code",
   "execution_count": 21,
   "id": "78903602-41c7-4312-8a24-9fe931ff9ace",
   "metadata": {},
   "outputs": [],
   "source": [
    "b = a[::2]"
   ]
  },
  {
   "cell_type": "code",
   "execution_count": 22,
   "id": "8c4a184e-420d-4e1b-b01a-75845d92b030",
   "metadata": {},
   "outputs": [
    {
     "data": {
      "text/plain": [
       "array([0, 2, 4, 6, 8])"
      ]
     },
     "execution_count": 22,
     "metadata": {},
     "output_type": "execute_result"
    }
   ],
   "source": [
    "b"
   ]
  },
  {
   "cell_type": "code",
   "execution_count": 23,
   "id": "0f511d01-8294-4433-885a-ac54f7fd91fe",
   "metadata": {},
   "outputs": [],
   "source": [
    "b[0] = 12"
   ]
  },
  {
   "cell_type": "code",
   "execution_count": 24,
   "id": "e4683770-fb5a-4679-a7da-f7e5dc955d2b",
   "metadata": {},
   "outputs": [
    {
     "data": {
      "text/plain": [
       "array([12,  2,  4,  6,  8])"
      ]
     },
     "execution_count": 24,
     "metadata": {},
     "output_type": "execute_result"
    }
   ],
   "source": [
    "b"
   ]
  },
  {
   "cell_type": "code",
   "execution_count": 25,
   "id": "cd1a0abc-2384-445e-aa2d-2237b9681f66",
   "metadata": {},
   "outputs": [
    {
     "data": {
      "text/plain": [
       "array([12,  1,  2,  3,  4,  5,  6,  7,  8,  9])"
      ]
     },
     "execution_count": 25,
     "metadata": {},
     "output_type": "execute_result"
    }
   ],
   "source": [
    "a"
   ]
  },
  {
   "cell_type": "markdown",
   "id": "65513ccd-a8de-44a1-b844-2d46dac38908",
   "metadata": {},
   "source": [
    "Isto pode parecer estranho, mas é o comportamento esperado. Se quisermos modificar a fatia sem modificar o array original, precisamos fazer uma cópia explicitamente."
   ]
  },
  {
   "cell_type": "code",
   "execution_count": 26,
   "id": "700f9149-b0a6-4a66-a476-9081a25c0a78",
   "metadata": {},
   "outputs": [],
   "source": [
    "a = np.arange(10)\n",
    "c = a[::2].copy()\n",
    "c[0] = 12"
   ]
  },
  {
   "cell_type": "code",
   "execution_count": 27,
   "id": "792234ce-9580-4e77-9825-25ca5405b8e6",
   "metadata": {},
   "outputs": [
    {
     "data": {
      "text/plain": [
       "array([12,  2,  4,  6,  8])"
      ]
     },
     "execution_count": 27,
     "metadata": {},
     "output_type": "execute_result"
    }
   ],
   "source": [
    "c"
   ]
  },
  {
   "cell_type": "code",
   "execution_count": 28,
   "id": "5490b692-916c-46dd-94ae-8b225b64416e",
   "metadata": {},
   "outputs": [
    {
     "data": {
      "text/plain": [
       "array([0, 1, 2, 3, 4, 5, 6, 7, 8, 9])"
      ]
     },
     "execution_count": 28,
     "metadata": {},
     "output_type": "execute_result"
    }
   ],
   "source": [
    "a"
   ]
  },
  {
   "cell_type": "markdown",
   "id": "9de7af6c-9a16-4173-8715-02795e8f4b7e",
   "metadata": {
    "tags": []
   },
   "source": [
    "## Aritmética envolvendo arrays booleanos\n",
    "\n"
   ]
  },
  {
   "cell_type": "code",
   "execution_count": 29,
   "id": "bebc21e0-082f-4a51-a8db-3ba0c1134c27",
   "metadata": {},
   "outputs": [],
   "source": [
    "import numpy as np"
   ]
  },
  {
   "cell_type": "markdown",
   "id": "8ffb811f-e7e0-4a9a-bfbd-8c98bf228386",
   "metadata": {},
   "source": [
    "### Operadores relacionais\n",
    "\n",
    "São operações de comparação entre os elementos de arrays. O resultado é um array de booleanos. Já vimos isso ser usado num dos exemplos acima, essas operações são comumente usadas para criar máscaras a serem aplicadas a arrays."
   ]
  },
  {
   "cell_type": "code",
   "execution_count": 30,
   "id": "6522d5a9-904a-4523-9723-009709ca4ef9",
   "metadata": {},
   "outputs": [],
   "source": [
    "a = np.array([1, 2, 3, 4])\n",
    "b = np.array([4, 2, 2, 4])\n",
    "c = a == b"
   ]
  },
  {
   "cell_type": "code",
   "execution_count": 31,
   "id": "16e2ec87-348b-45d0-81ff-1daf9f43025d",
   "metadata": {},
   "outputs": [
    {
     "data": {
      "text/plain": [
       "array([False,  True, False,  True])"
      ]
     },
     "execution_count": 31,
     "metadata": {},
     "output_type": "execute_result"
    }
   ],
   "source": [
    "c"
   ]
  },
  {
   "cell_type": "code",
   "execution_count": 32,
   "id": "5b607066-7291-4ea2-bed0-d580503b8e12",
   "metadata": {},
   "outputs": [
    {
     "data": {
      "text/plain": [
       "array([False, False,  True, False])"
      ]
     },
     "execution_count": 32,
     "metadata": {},
     "output_type": "execute_result"
    }
   ],
   "source": [
    "a > b"
   ]
  },
  {
   "cell_type": "markdown",
   "id": "efa36afc-9865-4350-86a8-4f5d9c449bbf",
   "metadata": {},
   "source": [
    "### Operadores lógicos\n",
    "\n",
    "Esses são operadores da lógica booleana. Incluem AND, OR, NOT e XOR. Note que em Python existem os operadores `and`, `or` e `not`, eles se aplicam apenas a booleanos escalares."
   ]
  },
  {
   "cell_type": "code",
   "execution_count": 33,
   "id": "620e0eb8-5967-49e3-add8-9d1d39a08565",
   "metadata": {},
   "outputs": [],
   "source": [
    "a = np.array([1, 1, 0, 0], dtype='bool')\n",
    "b = np.array([1, 0, 1, 0], dtype='bool')"
   ]
  },
  {
   "cell_type": "code",
   "execution_count": 34,
   "id": "64386fef-0688-4a28-9905-d10d6efebca8",
   "metadata": {},
   "outputs": [],
   "source": [
    "# AND\n",
    "c = a & b"
   ]
  },
  {
   "cell_type": "code",
   "execution_count": 35,
   "id": "ca2db0d7-79cf-432a-a69e-f2063573ce81",
   "metadata": {},
   "outputs": [
    {
     "data": {
      "text/plain": [
       "array([ True, False, False, False])"
      ]
     },
     "execution_count": 35,
     "metadata": {},
     "output_type": "execute_result"
    }
   ],
   "source": [
    "c"
   ]
  },
  {
   "cell_type": "code",
   "execution_count": 36,
   "id": "5884e509-3cb7-4900-8d10-4adbca74c364",
   "metadata": {},
   "outputs": [
    {
     "data": {
      "text/plain": [
       "array([ True,  True,  True, False])"
      ]
     },
     "execution_count": 36,
     "metadata": {},
     "output_type": "execute_result"
    }
   ],
   "source": [
    "# OR\n",
    "a | b"
   ]
  },
  {
   "cell_type": "code",
   "execution_count": 37,
   "id": "c0c7b358-e02f-4e34-a0a7-a850498eada9",
   "metadata": {},
   "outputs": [
    {
     "data": {
      "text/plain": [
       "array([False,  True,  True, False])"
      ]
     },
     "execution_count": 37,
     "metadata": {},
     "output_type": "execute_result"
    }
   ],
   "source": [
    "# XOR\n",
    "a ^ b"
   ]
  },
  {
   "cell_type": "code",
   "execution_count": 38,
   "id": "1110b2de-5ecb-496d-ae0c-d554cddb4968",
   "metadata": {},
   "outputs": [
    {
     "data": {
      "text/plain": [
       "array([False, False,  True,  True])"
      ]
     },
     "execution_count": 38,
     "metadata": {},
     "output_type": "execute_result"
    }
   ],
   "source": [
    "# NOT\n",
    "~a"
   ]
  },
  {
   "cell_type": "markdown",
   "id": "b2f07acd-52d2-48fa-bc3a-3e90397a99fb",
   "metadata": {},
   "source": [
    "**Atenção:** Os operadores lógicos são aplicados elemento a elemento em arrays do tipo `bool`. Se os arrays forem de tipo numérico (`int`, `float`, etc), os operadores são aplicados *bit a bit*, podendo gerar resultados não muito intuitivos para quem não conhece a aritmética booleana de números binários."
   ]
  },
  {
   "cell_type": "code",
   "execution_count": 39,
   "id": "840e234f-f872-4d69-8d62-48c07d17f718",
   "metadata": {},
   "outputs": [],
   "source": [
    "d = np.arange(10) & 5"
   ]
  },
  {
   "cell_type": "code",
   "execution_count": 40,
   "id": "46216bd7-34ff-4c83-831e-3884dbc481f4",
   "metadata": {},
   "outputs": [
    {
     "data": {
      "text/plain": [
       "array([0, 1, 0, 1, 4, 5, 4, 5, 0, 1])"
      ]
     },
     "execution_count": 40,
     "metadata": {},
     "output_type": "execute_result"
    }
   ],
   "source": [
    "d"
   ]
  },
  {
   "cell_type": "markdown",
   "id": "eb112f1b-4679-4ce7-bc26-21cf26adf350",
   "metadata": {},
   "source": [
    "### Reduções lógicas\n",
    "\n",
    "Operam em arrays de booleanos, e retornam um booleano."
   ]
  },
  {
   "cell_type": "code",
   "execution_count": 41,
   "id": "3497d67a-ffd2-48ae-b365-af1807cfebde",
   "metadata": {},
   "outputs": [
    {
     "data": {
      "text/plain": [
       "False"
      ]
     },
     "execution_count": 41,
     "metadata": {},
     "output_type": "execute_result"
    }
   ],
   "source": [
    "# Retorna True se todos os elementos forem True.\n",
    "np.all([True, True, False])"
   ]
  },
  {
   "cell_type": "code",
   "execution_count": 42,
   "id": "80274599-7f3a-414a-b028-a56408485300",
   "metadata": {},
   "outputs": [
    {
     "data": {
      "text/plain": [
       "True"
      ]
     },
     "execution_count": 42,
     "metadata": {},
     "output_type": "execute_result"
    }
   ],
   "source": [
    "# Retorna True se pelo menos um dos elementos for True.\n",
    "np.any([True, True, False])"
   ]
  },
  {
   "cell_type": "code",
   "execution_count": 43,
   "id": "952d3a0b-24d2-4335-88d1-97f81ccdf444",
   "metadata": {},
   "outputs": [],
   "source": [
    "a = np.array([1, 2, 3, 2])\n",
    "b = np.array([2, 2, 3, 2])\n",
    "c = np.array([6, 4, 4, 5])"
   ]
  },
  {
   "cell_type": "code",
   "execution_count": 44,
   "id": "45038bcc-4c75-4fe3-8760-61468b305229",
   "metadata": {},
   "outputs": [
    {
     "data": {
      "text/plain": [
       "True"
      ]
     },
     "execution_count": 44,
     "metadata": {},
     "output_type": "execute_result"
    }
   ],
   "source": [
    "((a <= b) & (b <= c)).all()"
   ]
  },
  {
   "cell_type": "markdown",
   "id": "4ae75313-1a8c-40db-b213-96888991c380",
   "metadata": {},
   "source": [
    "### Indexação avançada (*fancy indexing*)\n",
    "\n",
    "Um arrays pode ser indexado usando outro array com valores booleanos. Este array de booleano é chamado de máscara (*mask*)."
   ]
  },
  {
   "cell_type": "code",
   "execution_count": 45,
   "id": "221e26b0-6c6b-4936-9eb4-2da88c404c84",
   "metadata": {},
   "outputs": [],
   "source": [
    "np.random.seed(1234)\n",
    "a = np.random.rand(10)"
   ]
  },
  {
   "cell_type": "code",
   "execution_count": 46,
   "id": "d69ad0be-f841-44cf-b09a-bfb9623972bd",
   "metadata": {},
   "outputs": [
    {
     "data": {
      "text/plain": [
       "array([0.19151945, 0.62210877, 0.43772774, 0.78535858, 0.77997581,\n",
       "       0.27259261, 0.27646426, 0.80187218, 0.95813935, 0.87593263])"
      ]
     },
     "execution_count": 46,
     "metadata": {},
     "output_type": "execute_result"
    }
   ],
   "source": [
    "a"
   ]
  },
  {
   "cell_type": "code",
   "execution_count": 47,
   "id": "45feb1fa-742d-4367-ae68-627ca2ad313e",
   "metadata": {},
   "outputs": [],
   "source": [
    "mask = a > 0.5 # elementos de a maiores que 0.5"
   ]
  },
  {
   "cell_type": "code",
   "execution_count": 48,
   "id": "b86f4082-b522-4318-b56d-8b7875f2fa83",
   "metadata": {},
   "outputs": [
    {
     "data": {
      "text/plain": [
       "array([False,  True, False,  True,  True, False, False,  True,  True,\n",
       "        True])"
      ]
     },
     "execution_count": 48,
     "metadata": {},
     "output_type": "execute_result"
    }
   ],
   "source": [
    "mask"
   ]
  },
  {
   "cell_type": "code",
   "execution_count": 49,
   "id": "9bcd5a55-c769-4c18-a33d-d7fd57edb35f",
   "metadata": {},
   "outputs": [],
   "source": [
    "b = a[mask] # somente os elementos de a talque a máscara é True."
   ]
  },
  {
   "cell_type": "code",
   "execution_count": 50,
   "id": "8bde9b0e-72a3-4e14-b3ee-39cf40e05b0f",
   "metadata": {},
   "outputs": [
    {
     "data": {
      "text/plain": [
       "array([0.62210877, 0.78535858, 0.77997581, 0.80187218, 0.95813935,\n",
       "       0.87593263])"
      ]
     },
     "execution_count": 50,
     "metadata": {},
     "output_type": "execute_result"
    }
   ],
   "source": [
    "b"
   ]
  },
  {
   "cell_type": "markdown",
   "id": "d9ae1514-0f6a-43f2-88a1-13679a87db77",
   "metadata": {},
   "source": [
    "**Importante!!!** A indexação avançada cria uma cópia automaticamente. `b` e `a` não compartilham os mesmos dados."
   ]
  },
  {
   "cell_type": "code",
   "execution_count": 51,
   "id": "a5ace45f-fc3a-4d67-b068-4e7422b60241",
   "metadata": {},
   "outputs": [],
   "source": [
    "b[0] = 99"
   ]
  },
  {
   "cell_type": "code",
   "execution_count": 52,
   "id": "b99b88b0-f972-4a3b-9337-9dc4cbc57687",
   "metadata": {},
   "outputs": [
    {
     "data": {
      "text/plain": [
       "array([99.        ,  0.78535858,  0.77997581,  0.80187218,  0.95813935,\n",
       "        0.87593263])"
      ]
     },
     "execution_count": 52,
     "metadata": {},
     "output_type": "execute_result"
    }
   ],
   "source": [
    "b"
   ]
  },
  {
   "cell_type": "code",
   "execution_count": 53,
   "id": "ab9d4359-82e3-4ae9-afd5-d3bb8bf33790",
   "metadata": {},
   "outputs": [
    {
     "data": {
      "text/plain": [
       "array([0.19151945, 0.62210877, 0.43772774, 0.78535858, 0.77997581,\n",
       "       0.27259261, 0.27646426, 0.80187218, 0.95813935, 0.87593263])"
      ]
     },
     "execution_count": 53,
     "metadata": {},
     "output_type": "execute_result"
    }
   ],
   "source": [
    "a"
   ]
  },
  {
   "cell_type": "markdown",
   "id": "3ad727ce-b98d-4614-936c-d7da99b7d9c2",
   "metadata": {},
   "source": [
    "Geralmente podemos escrever diretamente a máscara para abreviar o código."
   ]
  },
  {
   "cell_type": "code",
   "execution_count": 54,
   "id": "6afda6ea-bd7d-4dd9-aeaa-1a002d1eb36b",
   "metadata": {},
   "outputs": [],
   "source": [
    "b = a[a > 0.5] # elementos de a, tal que a > 0.5."
   ]
  },
  {
   "cell_type": "code",
   "execution_count": 55,
   "id": "01070906-a555-41b5-94e1-dd7b721b4b38",
   "metadata": {},
   "outputs": [
    {
     "data": {
      "text/plain": [
       "array([0.62210877, 0.78535858, 0.77997581, 0.80187218, 0.95813935,\n",
       "       0.87593263])"
      ]
     },
     "execution_count": 55,
     "metadata": {},
     "output_type": "execute_result"
    }
   ],
   "source": [
    "b"
   ]
  },
  {
   "cell_type": "markdown",
   "id": "52f7218f-441a-4bf1-b169-c9832f755e69",
   "metadata": {},
   "source": [
    "Uma outra forma de indexação avançada é utilizar arrays com inteiros. Esta também cria uma cópia por natureza."
   ]
  },
  {
   "cell_type": "code",
   "execution_count": 56,
   "id": "ccadbb75-b5d7-498d-bdc7-5b3c2faf0867",
   "metadata": {},
   "outputs": [],
   "source": [
    "a = np.linspace(1, 2, 21)"
   ]
  },
  {
   "cell_type": "code",
   "execution_count": 57,
   "id": "45acb94a-9af7-4412-a85d-d336d2ee2395",
   "metadata": {},
   "outputs": [
    {
     "data": {
      "text/plain": [
       "array([1.  , 1.05, 1.1 , 1.15, 1.2 , 1.25, 1.3 , 1.35, 1.4 , 1.45, 1.5 ,\n",
       "       1.55, 1.6 , 1.65, 1.7 , 1.75, 1.8 , 1.85, 1.9 , 1.95, 2.  ])"
      ]
     },
     "execution_count": 57,
     "metadata": {},
     "output_type": "execute_result"
    }
   ],
   "source": [
    "a"
   ]
  },
  {
   "cell_type": "code",
   "execution_count": 58,
   "id": "328b5052-6757-4814-b2fa-379d0fdf8c46",
   "metadata": {},
   "outputs": [],
   "source": [
    "mask = np.array([2, 3, 2, 4, 2])\n",
    "b = a[mask]"
   ]
  },
  {
   "cell_type": "code",
   "execution_count": 59,
   "id": "97ca1d28-86cd-43a3-b2c2-19b1112b12e9",
   "metadata": {},
   "outputs": [
    {
     "data": {
      "text/plain": [
       "array([1.1 , 1.15, 1.1 , 1.2 , 1.1 ])"
      ]
     },
     "execution_count": 59,
     "metadata": {},
     "output_type": "execute_result"
    }
   ],
   "source": [
    "b"
   ]
  },
  {
   "cell_type": "markdown",
   "id": "215f5e9a-6dbd-41d7-b68b-cb48ce2c2a8b",
   "metadata": {},
   "source": [
    "Veja que podemos ter índices repetidos. Note também que o array resultante tem o mesmo tamanho do array de índices.\n",
    "\n",
    "Podemos usar indexação avançada no lado esquerdo da igualdade para modificar valores no array original. esta operação **não** cria uma cópia."
   ]
  },
  {
   "cell_type": "code",
   "execution_count": 60,
   "id": "0f7398d1-8804-41cd-9bc6-add351848653",
   "metadata": {},
   "outputs": [],
   "source": [
    "a = np.arange(20)"
   ]
  },
  {
   "cell_type": "code",
   "execution_count": 61,
   "id": "ec180774-f7ea-4181-841f-7a7a3f70f438",
   "metadata": {},
   "outputs": [
    {
     "data": {
      "text/plain": [
       "array([ 0,  1,  2,  3,  4,  5,  6,  7,  8,  9, 10, 11, 12, 13, 14, 15, 16,\n",
       "       17, 18, 19])"
      ]
     },
     "execution_count": 61,
     "metadata": {},
     "output_type": "execute_result"
    }
   ],
   "source": [
    "a"
   ]
  },
  {
   "cell_type": "code",
   "execution_count": 62,
   "id": "9b99ffbc-463e-440b-8cad-882f8284c935",
   "metadata": {},
   "outputs": [],
   "source": [
    "mask = (a % 2 == 1) # número é ímpar"
   ]
  },
  {
   "cell_type": "code",
   "execution_count": 63,
   "id": "e57693ec-7902-4ebe-a750-0ed20ccdf201",
   "metadata": {},
   "outputs": [
    {
     "data": {
      "text/plain": [
       "array([False,  True, False,  True, False,  True, False,  True, False,\n",
       "        True, False,  True, False,  True, False,  True, False,  True,\n",
       "       False,  True])"
      ]
     },
     "execution_count": 63,
     "metadata": {},
     "output_type": "execute_result"
    }
   ],
   "source": [
    "mask"
   ]
  },
  {
   "cell_type": "code",
   "execution_count": 64,
   "id": "31c9cc11-a16d-45d8-bab5-3f918bf112dd",
   "metadata": {},
   "outputs": [],
   "source": [
    "a[mask] = -1"
   ]
  },
  {
   "cell_type": "code",
   "execution_count": 65,
   "id": "fe9c9334-ca92-42ad-baed-27e15d6a0041",
   "metadata": {},
   "outputs": [
    {
     "data": {
      "text/plain": [
       "array([ 0, -1,  2, -1,  4, -1,  6, -1,  8, -1, 10, -1, 12, -1, 14, -1, 16,\n",
       "       -1, 18, -1])"
      ]
     },
     "execution_count": 65,
     "metadata": {},
     "output_type": "execute_result"
    }
   ],
   "source": [
    "a"
   ]
  },
  {
   "cell_type": "code",
   "execution_count": 66,
   "id": "eed1cffc-607c-43b3-b9d5-d7155ccd4ede",
   "metadata": {},
   "outputs": [],
   "source": [
    "b = np.zeros(20)\n",
    "primes = np.array([2, 3, 5, 7, 11, 13, 17, 19])\n",
    "b[primes] = 1"
   ]
  },
  {
   "cell_type": "code",
   "execution_count": 67,
   "id": "a92a5ce1-21df-417a-8cc8-1fb1757e6c0e",
   "metadata": {},
   "outputs": [
    {
     "data": {
      "text/plain": [
       "array([0., 0., 1., 1., 0., 1., 0., 1., 0., 0., 0., 1., 0., 1., 0., 0., 0.,\n",
       "       1., 0., 1.])"
      ]
     },
     "execution_count": 67,
     "metadata": {},
     "output_type": "execute_result"
    }
   ],
   "source": [
    "b"
   ]
  },
  {
   "cell_type": "markdown",
   "id": "74c2c2b0-dc65-4e8d-8395-48b110b14f5f",
   "metadata": {},
   "source": [
    "### Exercício 2\n",
    "\n",
    "Vamos analisar alguns dados usados para classificação de flores, do catálogo [Iris](https://archive.ics.uci.edu/dataset/53/iris)."
   ]
  },
  {
   "cell_type": "markdown",
   "id": "f30d7c24-740c-4a89-b184-c18d5dc32f46",
   "metadata": {},
   "source": [
    "[Unwin & Kleinman (2021)](https://doi.org/10.1111/1740-9713.01589).\n",
    "\n",
    "![](data:image/jpeg;base64,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\n",
    ")"
   ]
  },
  {
   "cell_type": "markdown",
   "id": "d2ec7ce2-00a0-473c-8b79-d39faa394cee",
   "metadata": {},
   "source": [
    "Abaixo, vamos obter a tabela e guardá-la como dois arrays, um com a classificação em espécie, e outro com as colunas contendo medidas das flores, em centímetros. "
   ]
  },
  {
   "cell_type": "code",
   "execution_count": 68,
   "id": "9db00787-aa30-484a-99e6-0ee3d49637a4",
   "metadata": {},
   "outputs": [],
   "source": [
    "url = 'https://archive.ics.uci.edu/ml/machine-learning-databases/iris/iris.data'\n",
    "iris_class = np.genfromtxt(url, delimiter=',', dtype='U15', usecols=[4])\n",
    "iris_2d = np.genfromtxt(url, delimiter=',', dtype='float', usecols=[0,1,2,3])"
   ]
  },
  {
   "cell_type": "markdown",
   "id": "aa8129f5-a11a-4c01-9a77-b971c6937e5a",
   "metadata": {},
   "source": [
    "Cada elemento do array `iris_class` corresponde à uma linha do array `iris_2d`, que contém 4 colunas:\n",
    "\n",
    "- Comprimento da sépala;\n",
    "- Largura da sépala;\n",
    "- Comprimento da pétala;\n",
    "- Largura da pétala."
   ]
  },
  {
   "cell_type": "markdown",
   "id": "614d3b67-9b9f-414e-8cc3-9946fc99a490",
   "metadata": {},
   "source": [
    "Podemos saber quais as espécies existentes fazendo"
   ]
  },
  {
   "cell_type": "code",
   "execution_count": 69,
   "id": "284d6b76-a1d2-4ff6-acb7-d5db35cca5c0",
   "metadata": {},
   "outputs": [
    {
     "data": {
      "text/plain": [
       "array(['Iris-setosa', 'Iris-versicolor', 'Iris-virginica'], dtype='<U15')"
      ]
     },
     "execution_count": 69,
     "metadata": {},
     "output_type": "execute_result"
    }
   ],
   "source": [
    "np.unique(iris_class)"
   ]
  },
  {
   "cell_type": "markdown",
   "id": "27589d15-14cb-45a5-a09c-563f0e896997",
   "metadata": {},
   "source": [
    "**a.** Descubra quais os valores mínimos e máximos de cada coluna."
   ]
  },
  {
   "cell_type": "code",
   "execution_count": 70,
   "id": "b2932990-2476-4ca1-bfd0-abfb30b86b3f",
   "metadata": {},
   "outputs": [
    {
     "name": "stdout",
     "output_type": "stream",
     "text": [
      "[4.3 2.  1.  0.1]\n",
      "[7.9 4.4 6.9 2.5]\n"
     ]
    }
   ],
   "source": [
    "mínimos = np.min(iris_2d, axis=0)\n",
    "máximos = np.max(iris_2d, axis=0)\n",
    "print(mínimos)\n",
    "print(máximos)"
   ]
  },
  {
   "cell_type": "markdown",
   "id": "45bc46c7-1639-4076-9e0d-e1f1d387590e",
   "metadata": {},
   "source": [
    "**b.** Faça um histograma do comprimento das sépalas de todos os indivíduos. Para fazer um histograma, use a função abaixo.\n",
    "\n",
    "```python\n",
    "ax.hist(array, range=[mínimo, máximo]\n",
    "        bins=15, alpha=0.5)\n",
    "```"
   ]
  },
  {
   "cell_type": "code",
   "execution_count": 71,
   "id": "aa920a92-565a-4c14-9a55-9c3ab8c3bfcd",
   "metadata": {},
   "outputs": [
    {
     "data": {
      "image/png": "[encoded data removed]",
      "text/plain": [
       "<Figure size 640x480 with 1 Axes>"
      ]
     },
     "metadata": {},
     "output_type": "display_data"
    }
   ],
   "source": [
    "fig, ax = plt.subplots()\n",
    "ax.hist(iris_2d[:, 0], range=[mínimos[0], máximos[0]],\n",
    "        bins=10, alpha=0.5)\n",
    "ax.set_xlabel('comprimento da sépala')\n",
    "ax.set_title('todas as espécies')\n",
    "plt.show()"
   ]
  },
  {
   "cell_type": "markdown",
   "id": "d087ad39-e8a1-4adb-895a-1d7398facc35",
   "metadata": {},
   "source": [
    "**c.** Vamos tentar analisar as espécies separadamente. Repita o histograma feito acima, porém selecionando apenas indivíduos da espécie `Iris-virginica'`."
   ]
  },
  {
   "cell_type": "code",
   "execution_count": 72,
   "id": "5ce1f86f-f451-4f5c-80f3-96a26d5df561",
   "metadata": {},
   "outputs": [
    {
     "data": {
      "image/png": "[encoded data removed]",
      "text/plain": [
       "<Figure size 640x480 with 1 Axes>"
      ]
     },
     "metadata": {},
     "output_type": "display_data"
    }
   ],
   "source": [
    "fig, ax = plt.subplots()\n",
    "seleção = iris_class == 'Iris-virginica'\n",
    "ax.hist(iris_2d[seleção, 0], range=[mínimos[0], máximos[0]],\n",
    "        bins=10, alpha=0.5)\n",
    "ax.set_xlabel('comprimento da sépala')\n",
    "ax.set_title('Iris virginica')\n",
    "plt.show()"
   ]
  },
  {
   "cell_type": "markdown",
   "id": "0eddaaa9-1916-4b06-bd9e-1bbf4d951fa4",
   "metadata": {},
   "source": [
    "**d.** Faça o histograma do comprimento da sépala para todas as espécies, no mesmo gráfico."
   ]
  },
  {
   "cell_type": "code",
   "execution_count": 73,
   "id": "6a88c949-788e-4314-bf76-b4856f85ccf1",
   "metadata": {},
   "outputs": [
    {
     "data": {
      "image/png": "[encoded data removed]",
      "text/plain": [
       "<Figure size 640x480 with 1 Axes>"
      ]
     },
     "metadata": {},
     "output_type": "display_data"
    }
   ],
   "source": [
    "fig, ax = plt.subplots()\n",
    "for c in np.unique(iris_class):\n",
    "    seleção = iris_class == c\n",
    "    ax.hist(iris_2d[seleção, 0], range=[mínimos[0], máximos[0]],\n",
    "            bins=10, alpha=0.5, label=c)\n",
    "ax.set_xlabel('comprimento da sépala')\n",
    "ax.legend()\n",
    "plt.show()"
   ]
  },
  {
   "cell_type": "markdown",
   "id": "f5a2263a-101c-41f0-b640-07be7c0eb826",
   "metadata": {},
   "source": [
    "**e.** Vamos agora ver como as diferentes informações presentes nas 4 colunas se relacionam. Faça o gráfico do comprimento da pétala em relação ao comprimento da sépala, separando por espécie. Desenhe todos os gráficos na mesma figura."
   ]
  },
  {
   "cell_type": "code",
   "execution_count": 74,
   "id": "bf97679d-170d-4ffd-8ab0-87dbc0e8c595",
   "metadata": {},
   "outputs": [
    {
     "data": {
      "image/png": "[encoded data removed]",
      "text/plain": [
       "<Figure size 640x480 with 1 Axes>"
      ]
     },
     "metadata": {},
     "output_type": "display_data"
    }
   ],
   "source": [
    "fig, ax = plt.subplots()\n",
    "for c in np.unique(iris_class):\n",
    "    seleção = iris_class == c\n",
    "    ax.scatter(iris_2d[seleção, 0], iris_2d[seleção, 2], label=c)\n",
    "ax.set_xlabel('comprimento da sépala')\n",
    "ax.set_ylabel('comprimento da pétala')\n",
    "ax.legend()\n",
    "plt.show()"
   ]
  },
  {
   "cell_type": "markdown",
   "id": "b27e2fe0-ab9d-4236-9d14-20655ec4720d",
   "metadata": {},
   "source": [
    "**f.** Repita a figura acima, mas para a largura ao invés do comprimento."
   ]
  },
  {
   "cell_type": "code",
   "execution_count": 75,
   "id": "df090d95-6e15-4fd1-9710-a54793157adb",
   "metadata": {},
   "outputs": [
    {
     "data": {
      "image/png": "[encoded data removed]",
      "text/plain": [
       "<Figure size 640x480 with 1 Axes>"
      ]
     },
     "metadata": {},
     "output_type": "display_data"
    }
   ],
   "source": [
    "fig, ax = plt.subplots()\n",
    "for c in np.unique(iris_class):\n",
    "    seleção = iris_class == c\n",
    "    ax.scatter(iris_2d[seleção, 1], iris_2d[seleção, 3], label=c)\n",
    "ax.set_xlabel('largura da sépala')\n",
    "ax.set_ylabel('largura da pétala')\n",
    "ax.legend()\n",
    "plt.show()"
   ]
  },
  {
   "cell_type": "markdown",
   "id": "0dfd5ba9-67ca-4a02-8c72-b869c3f7510f",
   "metadata": {},
   "source": [
    "**g.** Crie um novo array contendo 3 linhas, e 4 colunas. Em cada linha devem estar os dados de cada espécie. Em cada coluna, o valor médio desta coluna no array `iris_2d`, referente à espécie de cada linha. Verifique se os resultados concordam com os gráficos."
   ]
  },
  {
   "cell_type": "code",
   "execution_count": 76,
   "id": "dbedc1cb-6aa6-42df-8117-afdebd0f801c",
   "metadata": {},
   "outputs": [
    {
     "name": "stdout",
     "output_type": "stream",
     "text": [
      "[[5.006 3.418 1.464 0.244]\n",
      " [5.936 2.77  4.26  1.326]\n",
      " [6.588 2.974 5.552 2.026]]\n"
     ]
    }
   ],
   "source": [
    "espécies = np.unique(iris_class)\n",
    "média_espécie = np.zeros((len(espécies), iris_2d.shape[1]))\n",
    "for i in range(len(espécies)):\n",
    "    c = espécies[i]\n",
    "    seleção = iris_class == c\n",
    "    média_espécie[i] = np.mean(iris_2d[seleção], axis=0)\n",
    "print(média_espécie)"
   ]
  }
 ],
 "metadata": {
  "kernelspec": {
   "display_name": "Python 3 (ipykernel)",
   "language": "python",
   "name": "python3"
  },
  "language_info": {
   "codemirror_mode": {
    "name": "ipython",
    "version": 3
   },
   "file_extension": ".py",
   "mimetype": "text/x-python",
   "name": "python",
   "nbconvert_exporter": "python",
   "pygments_lexer": "ipython3",
   "version": "3.10.15"
  }
 },
 "nbformat": 4,
 "nbformat_minor": 5
}
