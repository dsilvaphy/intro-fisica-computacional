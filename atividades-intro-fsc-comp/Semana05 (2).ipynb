{
 "cells": [
  {
   "cell_type": "markdown",
   "metadata": {},
   "source": [
    "# Semana 5\n",
    "## FSC7114 - Introdução à Física Computacional\n",
    "## 25/09/2024\n",
    "\n",
    "Use as células abaixo das questões, não crie células novas. Não modifique o que já está programado.\n",
    "\n",
    "### Atenção\n",
    "- **Não esqueça de reiniciar o kernel e rodar todas as células para testar o notebook antes de enviar.**"
   ]
  },
  {
   "cell_type": "markdown",
   "metadata": {},
   "source": [
    "### Questão 1\n",
    "\n",
    "Calcule a posição de uma onda transversal, dada por\n",
    "\n",
    "$$\n",
    "y(t) = y_0 \\cos \\left[ 2\\pi \\left( \\frac x \\lambda - \\nu t \\right) \\right],\n",
    "$$\n",
    "\n",
    "para $y_0 = 1.00 \\times 10^{-2}\\,\\mathrm{m}$,  $\\nu = 1.00 \\times 10^{5}\\,\\mathrm{Hz}$, $\\lambda = 0.033\\,\\mathrm{m}$, $x = 2.00\\,\\mathrm{m}$, $t = 2.00\\,\\mathrm{s}$.\n",
    "\n",
    "*Resposta:* $y = -0.0079\\,\\mathrm{m}$."
   ]
  },
  {
   "cell_type": "code",
   "execution_count": null,
   "metadata": {
    "nbgrader": {
     "grade": true,
     "grade_id": "cell-aa55c99dab1ef99f",
     "locked": false,
     "points": 2.5,
     "schema_version": 3,
     "solution": true,
     "task": false
    }
   },
   "outputs": [],
   "source": []
  },
  {
   "cell_type": "markdown",
   "metadata": {},
   "source": [
    "### Questão 2\n",
    "\n",
    "Calcule o campo elétrico de uma carga num ponto do espaço.\n",
    "\\begin{align}\n",
    "E_x &= \\frac{kqx}{\\left(x^2 + y^2 + z^2\\right)^{\\frac 3 2}}, \\\\\n",
    "E_y &= \\frac{kqy}{\\left(x^2 + y^2 + z^2\\right)^{\\frac 3 2}}, \\\\\n",
    "E_z &= \\frac{kqz}{\\left(x^2 + y^2 + z^2\\right)^{\\frac 3 2}}.\n",
    "\\end{align}\n",
    "\n",
    "Use $k = 8.99 \\times 10^{9}\\,\\mathrm{N}\\mathrm{m}^2\\mathrm{C}^{-1}$, $q = 1.602 \\times 10^{-19}\\,\\mathrm{C}$, $x = 1.00\\,\\mathrm{nm}$, $y = 2.00\\,\\mathrm{nm}$ e $z = 3.00\\,\\mathrm{nm}$.\n",
    "\n",
    "*Resposta:* $E_x = 2.75 \\times 10^{7}\\,\\mathrm{N}\\mathrm{C}^{-1}$, $E_y = 5.50 \\times 10^{7}\\,\\mathrm{N}\\mathrm{C}^{-1}$, $E_z = 8.25 \\times 10^{7}\\,\\mathrm{N}\\mathrm{C}^{-1}$."
   ]
  },
  {
   "cell_type": "code",
   "execution_count": null,
   "metadata": {
    "nbgrader": {
     "grade": true,
     "grade_id": "cell-8215ccf9681c9e4c",
     "locked": false,
     "points": 2.5,
     "schema_version": 3,
     "solution": true,
     "task": false
    }
   },
   "outputs": [],
   "source": []
  },
  {
   "cell_type": "markdown",
   "metadata": {},
   "source": [
    "### Questão 3\n",
    "\n",
    "Calcule o valor de uma distribuição normal gaussiana, dada por\n",
    "\n",
    "$$\n",
    "g = A \\exp \\left[ - \\frac{(x - x_0)^2}{2\\sigma^2} \\right],\n",
    "$$\n",
    "\n",
    "com $A = 10$, $x_0=5.0$, $\\sigma = \\frac{x_0}{4}$, $x = 2.5$.\n",
    "\n",
    "*Resposta:* $g = 1.4$."
   ]
  },
  {
   "cell_type": "code",
   "execution_count": null,
   "metadata": {
    "nbgrader": {
     "grade": true,
     "grade_id": "cell-d4815987299ddbda",
     "locked": false,
     "points": 2.5,
     "schema_version": 3,
     "solution": true,
     "task": false
    }
   },
   "outputs": [],
   "source": []
  },
  {
   "cell_type": "markdown",
   "metadata": {},
   "source": [
    "### Questão 4\n",
    "Calcule o valor da função de onda do estado fundamental de átomos com um elétron.\n",
    "\n",
    "$$\n",
    "\\Psi = \\frac{1}{\\sqrt{\\pi}} \\left(\\frac{Z}{a_0}\\right)^\\frac{3}{2} \\exp\\left(-\\frac{Zr}{a_0}\\right),\n",
    "$$\n",
    "\n",
    "com $Z = 2$, $a_0 = 5 \\times 10^{-11}\\,\\mathrm{m}$, $r = 2 a_0$.\n",
    "\n",
    "*Resposta:* $\\Psi = 8 \\times 10^{13}\\,\\mathrm{m}^{-\\frac{3}{2}}$.\n"
   ]
  },
  {
   "cell_type": "code",
   "execution_count": null,
   "metadata": {
    "nbgrader": {
     "grade": true,
     "grade_id": "cell-0a48fb18fcf12f0d",
     "locked": false,
     "points": 2.5,
     "schema_version": 3,
     "solution": true,
     "task": false
    }
   },
   "outputs": [],
   "source": []
  }
 ],
 "metadata": {
  "celltoolbar": "Create Assignment",
  "kernelspec": {
   "display_name": "Python 3 (ipykernel)",
   "language": "python",
   "name": "python3"
  },
  "language_info": {
   "codemirror_mode": {
    "name": "ipython",
    "version": 3
   },
   "file_extension": ".py",
   "mimetype": "text/x-python",
   "name": "python",
   "nbconvert_exporter": "python",
   "pygments_lexer": "ipython3",
   "version": "3.11.6"
  }
 },
 "nbformat": 4,
 "nbformat_minor": 4
}
