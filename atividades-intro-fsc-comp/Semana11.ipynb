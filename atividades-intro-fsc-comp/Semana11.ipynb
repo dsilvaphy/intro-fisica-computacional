{
 "cells": [
  {
   "cell_type": "markdown",
   "metadata": {},
   "source": [
    "# Semana 11\n",
    "## FSC7114 - Introdução à Física Computacional\n",
    "## 04/11/2024\n",
    "\n",
    "### Atenção\n",
    "- **Não esqueça de reiniciar o kernel e rodar todas as células para testar o notebook antes de enviar.**"
   ]
  },
  {
   "cell_type": "markdown",
   "metadata": {},
   "source": [
    "## Questão 1\n",
    "\n",
    "Calcule uma aproximação para o número $\\pi$, dada por\n",
    "\n",
    "\\begin{align}\n",
    "\\frac \\pi 4 &= 1 - \\frac 1 3 + \\frac 1 5 - \\frac 1 7 + \\frac 1 9 - \\ldots\n",
    "\\end{align}\n",
    "\n",
    "Some os 1000 primeiros termos, e compare com o valor `math.pi` (não esqueça de fazer `import math`)."
   ]
  },
  {
   "cell_type": "code",
   "execution_count": null,
   "metadata": {},
   "outputs": [],
   "source": []
  },
  {
   "cell_type": "markdown",
   "metadata": {},
   "source": [
    "## Questão 2\n",
    "\n",
    "Dado um número $z$, digitado pelo usuário, calcule $\\sin z$ usando uma aproximação dada pela série\n",
    "\n",
    "\\begin{align}\n",
    "\\sin z = \\sum_{k=0}^\\infty \\frac{(-1)^k z^{2k+1}}{(2k+1)!}\n",
    "\\end{align}\n",
    "\n",
    "Compare o seu resultado com `math.sin(z)`."
   ]
  },
  {
   "cell_type": "code",
   "execution_count": null,
   "metadata": {},
   "outputs": [],
   "source": []
  },
  {
   "cell_type": "markdown",
   "metadata": {},
   "source": [
    "## Questão 3\n",
    "\n",
    "**a.** Faça um programa que cria uma lista com números de $a$ até $b$, com espaçamento de $h$, tal que\n",
    "\n",
    "$$\n",
    "n_j = a + j h,\\quad j = 0,1,2,\\ldots\n",
    "$$\n",
    "\n",
    "A lista não deve incluir o número $b$. Use $a=\\frac{\\pi}{2}$, $b=\\frac{3 \\pi}{2}$ e $h=0.1$."
   ]
  },
  {
   "cell_type": "code",
   "execution_count": null,
   "metadata": {},
   "outputs": [],
   "source": []
  },
  {
   "cell_type": "markdown",
   "metadata": {},
   "source": [
    "**b.** Com base na lista de números que você criou, gere outra lista contendo o cosseno dos valores da lista do item anterior. Isto é, gere uma nova lista, com base na lista original, segundo a regra:\n",
    "\n",
    "$$\n",
    "m_j = \\cos n_j.\n",
    "$$"
   ]
  },
  {
   "cell_type": "code",
   "execution_count": null,
   "metadata": {},
   "outputs": [],
   "source": []
  }
 ],
 "metadata": {
  "kernelspec": {
   "display_name": "Python 3 (ipykernel)",
   "language": "python",
   "name": "python3"
  },
  "language_info": {
   "codemirror_mode": {
    "name": "ipython",
    "version": 3
   },
   "file_extension": ".py",
   "mimetype": "text/x-python",
   "name": "python",
   "nbconvert_exporter": "python",
   "pygments_lexer": "ipython3",
   "version": "3.10.15"
  }
 },
 "nbformat": 4,
 "nbformat_minor": 4
}
