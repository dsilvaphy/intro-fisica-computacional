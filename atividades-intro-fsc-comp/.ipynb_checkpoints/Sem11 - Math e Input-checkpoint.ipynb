{
 "cells": [
  {
   "cell_type": "markdown",
   "metadata": {},
   "source": [
    "## Semana 11\n",
    "### FSC7114 - Introdução à Física Computacional\n",
    "### 04/11/2024"
   ]
  },
  {
   "cell_type": "markdown",
   "metadata": {},
   "source": [
    "## Questão 1\n",
    "\n",
    "Calcule uma aproximação para o número $\\pi$, dada por\n",
    "\n",
    "\\begin{align}\n",
    "\\frac \\pi 4 &= 1 - \\frac 1 3 + \\frac 1 5 - \\frac 1 7 + \\frac 1 9 - \\ldots\n",
    "\\end{align}\n",
    "\n",
    "Some os 1000 primeiros termos, e compare com o valor `math.pi` (não esqueça de fazer `import math`)."
   ]
  },
  {
   "cell_type": "code",
   "execution_count": 2,
   "metadata": {},
   "outputs": [
    {
     "name": "stdout",
     "output_type": "stream",
     "text": [
      "Aproximação para π usando 1000 termos: 3.140592653839794\n",
      "Valor de math.pi: 3.141592653589793\n",
      "Erro relativo: 0.000999999749998981\n"
     ]
    }
   ],
   "source": [
    "import math\n",
    "\n",
    "# Soma dos 1000 primeiros termos\n",
    "n_termos = 1000\n",
    "aprox_pi = 0\n",
    "for k in range(n_termos):\n",
    "    aprox_pi += (-1)**k / (2 * k + 1)\n",
    "\n",
    "aprox_pi *= 4  # Multiplicando por 4 para aproximar π\n",
    "\n",
    "# Resultado\n",
    "print(f\"Aproximação para π usando {n_termos} termos: {aprox_pi}\")\n",
    "print(f\"Valor de math.pi: {math.pi}\")\n",
    "print(f\"Erro relativo: {abs(aprox_pi - math.pi)}\")\n"
   ]
  },
  {
   "cell_type": "markdown",
   "metadata": {},
   "source": [
    "## Questão 2\n",
    "\n",
    "Dado um número $z$, digitado pelo usuário, calcule $\\sin z$ usando uma aproximação dada pela série\n",
    "\n",
    "\\begin{align}\n",
    "\\sin z = \\sum_{k=0}^\\infty \\frac{(-1)^k z^{2k+1}}{(2k+1)!}\n",
    "\\end{align}\n",
    "\n",
    "Compare o seu resultado com `math.sin(z)`."
   ]
  },
  {
   "cell_type": "code",
   "execution_count": null,
   "metadata": {},
   "outputs": [],
   "source": [
    "z = float(input(\"Digite o valor de z (em radianos): \"))\n",
    "\n",
    "# Soma da série para sin(z)\n",
    "n_termos = 20  # Número de termos da série\n",
    "aprox_sin = 0\n",
    "for k in range(n_termos):\n",
    "    termo = ((-1)**k * z**(2*k + 1)) / math.factorial(2*k + 1)\n",
    "    aprox_sin += termo\n",
    "\n",
    "# Comparação com math.sin(z)\n",
    "print(f\"Aproximação para sin({z}) usando {n_termos} termos: {aprox_sin}\")\n",
    "print(f\"Valor de math.sin({z}): {math.sin(z)}\")\n",
    "print(f\"Erro relativo: {abs(aprox_sin - math.sin(z))}\")\n"
   ]
  },
  {
   "cell_type": "markdown",
   "metadata": {},
   "source": [
    "## Questão 3\n",
    "\n",
    "**a.** Faça um programa que cria uma lista com números de $a$ até $b$, com espaçamento de $h$, tal que\n",
    "\n",
    "$$\n",
    "n_j = a + j h,\\quad j = 0,1,2,\\ldots\n",
    "$$\n",
    "\n",
    "A lista não deve incluir o número $b$. Use $a=\\frac{\\pi}{2}$, $b=\\frac{3 \\pi}{2}$ e $h=0.1$."
   ]
  },
  {
   "cell_type": "code",
   "execution_count": null,
   "metadata": {},
   "outputs": [],
   "source": [
    "a = math.pi / 2\n",
    "b = 3 * math.pi / 2\n",
    "h = 0.1\n",
    "\n",
    "# Criando a lista\n",
    "n_list = np.arange(a, b, h)\n",
    "print(\"Lista de números (n):\")\n",
    "print(n_list)\n"
   ]
  },
  {
   "cell_type": "markdown",
   "metadata": {},
   "source": [
    "**b.** Com base na lista de números que você criou, gere outra lista contendo o cosseno dos valores da lista do item anterior. Isto é, gere uma nova lista, com base na lista original, segundo a regra:\n",
    "\n",
    "$$\n",
    "m_j = \\cos n_j.\n",
    "$$"
   ]
  },
  {
   "cell_type": "code",
   "execution_count": null,
   "metadata": {},
   "outputs": [],
   "source": [
    "m_list = np.cos(n_list)\n",
    "\n",
    "print(\"Lista com cossenos (m):\")\n",
    "print(m_list)\n"
   ]
  },
  {
   "cell_type": "code",
   "execution_count": null,
   "metadata": {},
   "outputs": [],
   "source": []
  }
 ],
 "metadata": {
  "kernelspec": {
   "display_name": "Python 3 (ipykernel)",
   "language": "python",
   "name": "python3"
  },
  "language_info": {
   "codemirror_mode": {
    "name": "ipython",
    "version": 3
   },
   "file_extension": ".py",
   "mimetype": "text/x-python",
   "name": "python",
   "nbconvert_exporter": "python",
   "pygments_lexer": "ipython3",
   "version": "3.12.4"
  }
 },
 "nbformat": 4,
 "nbformat_minor": 4
}
