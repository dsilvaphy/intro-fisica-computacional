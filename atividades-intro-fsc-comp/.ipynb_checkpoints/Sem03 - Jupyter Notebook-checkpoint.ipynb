{
 "cells": [
  {
   "cell_type": "markdown",
   "metadata": {},
   "source": [
    "## Semana 3\n",
    "### FSC7114 - Introdução à Física Computacional\n",
    "### 11/09/2024"
   ]
  },
  {
   "cell_type": "markdown",
   "metadata": {
    "nbgrader": {
     "grade": false,
     "grade_id": "cell-a391b0c815f02604",
     "locked": true,
     "points": 2.5,
     "schema_version": 3,
     "solution": false,
     "task": true
    }
   },
   "source": [
    "### Questão 1\n",
    "\n",
    "Faça abaixo algumas células do tipo markdown (texto formatado). Use títulos, subtítulos e parágrafos para escrever algum texto hierárquico. Se não souber o que escrever, tente reproduzir parte do programa da nossa disciplina."
   ]
  },
  {
   "cell_type": "markdown",
   "metadata": {},
   "source": [
    "# Título Principal\r\n",
    "\r\n",
    "## Subtítulo\r\n",
    "\r\n",
    "Este é um parágrafo explicando o tema abordado na disciplina. Aqui, você pode colocar explicações detalhadas sobre o conteúdo.\r\n",
    "\r\n",
    "### Tópicos Importantes:\r\n",
    "- Primeiro tópico\r\n",
    "- Segundo tópico\r\n",
    "- Terceiro tópico\r\n"
   ]
  },
  {
   "cell_type": "markdown",
   "metadata": {
    "nbgrader": {
     "grade": false,
     "grade_id": "cell-eb9e3b6cd4035ef2",
     "locked": true,
     "points": 2.5,
     "schema_version": 3,
     "solution": false,
     "task": true
    }
   },
   "source": [
    "### Questão 2\n",
    "\n",
    "Faça uma lista com bolinhas (*bullet list*) na célula abaixo, com 5 equações simples, usando a sintaxe do MathJax."
   ]
  },
  {
   "cell_type": "markdown",
   "metadata": {},
   "source": [
    "- \\( a + b = c \\)\r\n",
    "- \\( x^2 + y^2 = z^2 \\)\r\n",
    "- \\( \\int_0^1 x^2 dx = \\frac{1}{3} \\)\r\n",
    "- \\( e^{i\\pi} + 1 = 0 \\)\r\n",
    "- \\( F = ma \\)\r\n"
   ]
  },
  {
   "cell_type": "markdown",
   "metadata": {},
   "source": [
    "### Questão 3\n",
    "\n",
    "Some todos os inteiros de 1 a 5, multiplique por 2, e coloque o resultado dentro de uma variável chamada `y`. Em seguida, faça um `print` do resultado. *Solução: 30*"
   ]
  },
  {
   "cell_type": "code",
   "execution_count": 4,
   "metadata": {
    "nbgrader": {
     "grade": true,
     "grade_id": "cell-d4815987299ddbda",
     "locked": false,
     "points": 2.5,
     "schema_version": 3,
     "solution": true,
     "task": false
    }
   },
   "outputs": [
    {
     "name": "stdout",
     "output_type": "stream",
     "text": [
      "30\n"
     ]
    }
   ],
   "source": [
    "# Somando os inteiros de 1 a 5, multiplicando por 2\n",
    "y = sum(range(1, 6)) * 2\n",
    "print(y)  # Solução: 30\n"
   ]
  },
  {
   "cell_type": "markdown",
   "metadata": {},
   "source": [
    "### Questão 4"
   ]
  },
  {
   "cell_type": "markdown",
   "metadata": {},
   "source": [
    "No exemplo abaixo, podemos ler uma linha de texto."
   ]
  },
  {
   "cell_type": "code",
   "execution_count": null,
   "metadata": {},
   "outputs": [],
   "source": [
    "entrada = input('escreva uma linha de texto:')\n",
    "print('você escreveu: ' + entrada)"
   ]
  },
  {
   "cell_type": "markdown",
   "metadata": {},
   "source": [
    "Podemos agora converter esse texto para um valor numérico, $n$. Se você digitou acima algo que não é número, a próxima célula vai acusar o erro."
   ]
  },
  {
   "cell_type": "code",
   "execution_count": null,
   "metadata": {},
   "outputs": [],
   "source": [
    "n = int(entrada)\n",
    "print(n)"
   ]
  },
  {
   "cell_type": "markdown",
   "metadata": {},
   "source": [
    "Faça um programa usando `if` e `else`, que lê a nota de um estudante. Em seguida, o programa deve escrever o texto `reprovado` se $n \\lt 6$, ou o texto `aprovado` se o valor for maior ou igual."
   ]
  },
  {
   "cell_type": "code",
   "execution_count": null,
   "metadata": {},
   "outputs": [],
   "source": [
    "# Lendo a nota do estudante\n",
    "entrada = input('Digite a nota do estudante: ')\n",
    "n = int(entrada)\n",
    "\n",
    "# Verificando se está aprovado ou reprovado\n",
    "if n < 6:\n",
    "    print('Reprovado')\n",
    "else:\n",
    "    print('Aprovado')\n"
   ]
  },
  {
   "cell_type": "code",
   "execution_count": null,
   "metadata": {},
   "outputs": [],
   "source": []
  }
 ],
 "metadata": {
  "celltoolbar": "Create Assignment",
  "kernelspec": {
   "display_name": "Python 3 (ipykernel)",
   "language": "python",
   "name": "python3"
  },
  "language_info": {
   "codemirror_mode": {
    "name": "ipython",
    "version": 3
   },
   "file_extension": ".py",
   "mimetype": "text/x-python",
   "name": "python",
   "nbconvert_exporter": "python",
   "pygments_lexer": "ipython3",
   "version": "3.12.4"
  }
 },
 "nbformat": 4,
 "nbformat_minor": 4
}
