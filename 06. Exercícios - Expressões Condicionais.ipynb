{
 "cells": [
  {
   "cell_type": "markdown",
   "id": "b2a96889-c998-4549-b448-d2e062411273",
   "metadata": {},
   "source": [
    "# Exercícios\n",
    "## Expressões condicionais"
   ]
  },
  {
   "cell_type": "markdown",
   "id": "08b2ee16-8311-4988-ae0a-b9f014f5f21d",
   "metadata": {},
   "source": [
    "### Item 1\n",
    "\n",
    "Escreva um programa onde o usuário digita dois números, e em seguida pergunte qual a operação que você deseja realizar. O usuário precisará especificar a operção com os caracteres +, -, * e /."
   ]
  },
  {
   "cell_type": "markdown",
   "id": "8943355a-da7c-454f-928e-a1df0c6d32a4",
   "metadata": {},
   "source": [
    "*Dicas*:\n",
    "- Use a funcão `input('pergunta')` para ler texto digitado pelo usuário.\n",
    "- Podemos ler e comparar strings usando o operador relacional `==`."
   ]
  },
  {
   "cell_type": "code",
   "execution_count": null,
   "id": "e3f3ba0d-3b08-47c4-b24a-4f31feaa351e",
   "metadata": {},
   "outputs": [],
   "source": []
  },
  {
   "cell_type": "markdown",
   "id": "38a0ab86-3539-4d01-83bf-04058f01dc6d",
   "metadata": {},
   "source": [
    "### Item 2\n",
    "\n",
    "Escreva um programa onde o usuário digita um ano, e o programa imprime uma linha de texto dizendo se o ano é bissexto ou não."
   ]
  },
  {
   "cell_type": "code",
   "execution_count": null,
   "id": "0c3b6e8c-d944-43a6-b3ce-ecc175ae9162",
   "metadata": {},
   "outputs": [],
   "source": []
  },
  {
   "cell_type": "markdown",
   "id": "a7295ba9-45e6-4a3d-84e3-ba06796e1add",
   "metadata": {},
   "source": [
    "### Item 3\n",
    "\n",
    "Escreva um programa que calcule a aceleração gravitacional a uma distância $r$ do centro da Terra, digitada pelo usuário, supondo que a sua densidade seja constante. A distância pode ser qualquer uma, de zero até infinito."
   ]
  },
  {
   "cell_type": "code",
   "execution_count": null,
   "id": "314f985b-c10a-47a2-99f3-26fd96466018",
   "metadata": {},
   "outputs": [],
   "source": []
  }
 ],
 "metadata": {
  "kernelspec": {
   "display_name": "Python 3 (ipykernel)",
   "language": "python",
   "name": "python3"
  },
  "language_info": {
   "codemirror_mode": {
    "name": "ipython",
    "version": 3
   },
   "file_extension": ".py",
   "mimetype": "text/x-python",
   "name": "python",
   "nbconvert_exporter": "python",
   "pygments_lexer": "ipython3",
   "version": "3.11.4"
  }
 },
 "nbformat": 4,
 "nbformat_minor": 5
}
