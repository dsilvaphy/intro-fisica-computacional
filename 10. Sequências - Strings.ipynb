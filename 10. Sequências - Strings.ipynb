{
 "cells": [
  {
   "cell_type": "markdown",
   "id": "88aab03d-a1b6-44d7-8a45-c14ed041b051",
   "metadata": {},
   "source": [
    "# Sequências: strings, tuplas e listas\n",
    "\n",
    "Sequências são tipos de objetos que contêm uma coleção de outros objetos, em uma ordem definida. As sequências mais simples de todas são as strings, onde temos uma coleção ordenada de caracteres que formam um texto. Outro tipo de sequência mais genérica são as tuplas, que podem armazenar qualquer coisa, mesmo objetos de tipos variados. Finalmente, temos as listas, que são sequências similares às tuplas, porém podem ser modificadas."
   ]
  },
  {
   "cell_type": "markdown",
   "id": "ae35896e-c467-418c-94df-e2dd5b8bc9cb",
   "metadata": {},
   "source": [
    "## Strings\n",
    "\n",
    "### Criando strings\n",
    "Strings são tipos tão fundamentais e intuitivos que já começamos a usá-las sem entender muito o seu funcionamento. O tipo de objetos string é `str`, e escrevemos um valor string usando como delimitadores aspas simples (`'`) ou duplas (`\"`)."
   ]
  },
  {
   "cell_type": "code",
   "execution_count": null,
   "id": "abe4afac-c224-4aa0-bca2-7568d5500965",
   "metadata": {},
   "outputs": [],
   "source": [
    "x = 'Olá mundo!'\n",
    "y = \"Outra string\"\n",
    "print(x)\n",
    "print(y)\n",
    "print(type(x))"
   ]
  },
  {
   "cell_type": "markdown",
   "id": "c3d6c1a2-2647-411a-a695-91e1995a806d",
   "metadata": {},
   "source": [
    "Por padrão recomenda-se aspas simples, exceto quando queremos escrever uma string que contém aspas simples."
   ]
  },
  {
   "cell_type": "code",
   "execution_count": null,
   "id": "cefe16fd-ff35-441d-90ff-ca3e618b29fe",
   "metadata": {},
   "outputs": [],
   "source": [
    "print(\"Texto com aspas simples (') pode ser escrito entre aspas duplas.\")"
   ]
  },
  {
   "cell_type": "markdown",
   "id": "8b72124d-da23-463d-abdf-a1def52fa369",
   "metadata": {},
   "source": [
    "Por fim, podemos usar *heredocs* para definir strings com múltiplas linhas, usando três aspas simples em sequências."
   ]
  },
  {
   "cell_type": "code",
   "execution_count": null,
   "id": "daff8cc0-8035-4721-ba47-323ce0c08e91",
   "metadata": {},
   "outputs": [],
   "source": [
    "x = '''Textos longos\n",
    "com muitas linhas\n",
    "podem ser escritos muito facilmente.'''\n",
    "\n",
    "print(x)"
   ]
  },
  {
   "cell_type": "markdown",
   "id": "0328ad2c-56ba-4f22-af89-33f5e252c060",
   "metadata": {},
   "source": [
    "### Estrutura de uma string\n",
    "\n",
    "Strings formam uma sequência ordenada de caracteres. Os caracteres podem ser letras, números, sinais de pontuação, caracteres em outras línguas, emojis, etc. Cada caractere tem uma posição definida. Por exemplo, na string `'Olá mundo'`, o primeiro elemento é a letra `'O'`, o segundo é a letra `'l'`, e assim por diante. Para acessar um determinado caractere de uma string, usamos o operador indexação, `[]`. Este operador recebe um número chamado índice, que indica a posição que queremos. **Em Python os índices começam em zero!** Por exemplo: "
   ]
  },
  {
   "cell_type": "code",
   "execution_count": null,
   "id": "f3440144-e30a-4a05-a210-0c4736328f86",
   "metadata": {},
   "outputs": [],
   "source": [
    "s = 'Olá mundo'\n",
    "print(s[0])\n",
    "print(s[1])\n",
    "print(s[2])"
   ]
  },
  {
   "cell_type": "markdown",
   "id": "2259ac91-6af2-439a-a40f-ab3643c3afe3",
   "metadata": {},
   "source": [
    "As strings em Python são *imutáveis*, isto é, seu conteúdo não muda. Se quisermos modificar uma string, precisamos criar uma string nova. Por serem imutáveis, as strings têm um tamanho fixo associado. Podemos descobrir o tamanho de uma string usando a função `len()`, que retorna um número inteiro."
   ]
  },
  {
   "cell_type": "code",
   "execution_count": null,
   "id": "56b2945e-5d42-4b88-81ca-6215a65b357d",
   "metadata": {},
   "outputs": [],
   "source": [
    "n = len(s)\n",
    "print(n)"
   ]
  },
  {
   "cell_type": "markdown",
   "id": "b5aea013-b606-4585-9e9f-4f2748d1d2e0",
   "metadata": {},
   "source": [
    "#### Exercício 1\n",
    "\n",
    "Use um laço para escrever todos os caracteres de uma string digitada pelo usuário."
   ]
  },
  {
   "cell_type": "code",
   "execution_count": null,
   "id": "3668fcae-f1bf-42a2-a772-981ba4736344",
   "metadata": {},
   "outputs": [],
   "source": []
  },
  {
   "cell_type": "markdown",
   "id": "aa3fdc3d-7d2d-430a-8adf-4f0172e66dde",
   "metadata": {},
   "source": [
    "### Operações com strings\n",
    "\n",
    "As strings que usamos até agora sempre foram constantes, seja escrita explicitamente no código, ou digitada pelo usuário usando a função `input()`. Porém, geralmente precisamos poder criar strings de forma dinâmica, e para isso necessitamos de algumas funções e mecanismos que manipulem strings. Vejamos algumas formas de manipulação de strings."
   ]
  },
  {
   "cell_type": "markdown",
   "id": "d864b2a8-b635-4c78-9452-29459eefbe29",
   "metadata": {},
   "source": [
    "#### Comparação\n",
    "\n",
    "Todos os operadores relacionais funcionam com strings. Os operadores igual (`==`) e diferente (`!=`) retornam um `bool` indicando se as strings são idênticas, caractere a caractere."
   ]
  },
  {
   "cell_type": "code",
   "execution_count": null,
   "id": "080881e8-cc3a-4886-8013-ec7f45ebf7b4",
   "metadata": {},
   "outputs": [],
   "source": [
    "overrated = 'Python'\n",
    "print('Python' == overrated)"
   ]
  },
  {
   "cell_type": "code",
   "execution_count": null,
   "id": "40689a5e-629c-4c42-bc14-b6d461df40ac",
   "metadata": {},
   "outputs": [],
   "source": [
    "print('ab' == 'abc')"
   ]
  },
  {
   "cell_type": "code",
   "execution_count": null,
   "id": "ca4d71a5-e491-4bb1-9425-d42cbfc229c6",
   "metadata": {},
   "outputs": [],
   "source": [
    "print('Cleese' == 'Idle')"
   ]
  },
  {
   "cell_type": "markdown",
   "id": "47634200-d76f-4d8e-af55-fe4bb5ff4798",
   "metadata": {},
   "source": [
    "Os operadores maior que (`>`, `>=`) e menor que (`<`, `<=`) comparam as strings por ordem alfabética."
   ]
  },
  {
   "cell_type": "code",
   "execution_count": null,
   "id": "98660e8b-ae84-498d-b51e-fdc04732d335",
   "metadata": {},
   "outputs": [],
   "source": [
    "print('a' < 'b')"
   ]
  },
  {
   "cell_type": "code",
   "execution_count": null,
   "id": "9846512f-a1f3-405e-a097-2545075b5caf",
   "metadata": {},
   "outputs": [],
   "source": [
    "print('c' < 'a')"
   ]
  },
  {
   "cell_type": "markdown",
   "id": "aba8df64-ab72-4d12-af9d-d3b0e9ea6edf",
   "metadata": {},
   "source": [
    "Muito cuidado com maiúsculas e minúsculas, e com outros caracteres."
   ]
  },
  {
   "cell_type": "code",
   "execution_count": null,
   "id": "f80d0745-3b95-4a67-9b78-5010484b527f",
   "metadata": {},
   "outputs": [],
   "source": [
    "print('a' < 'B')"
   ]
  },
  {
   "cell_type": "code",
   "execution_count": null,
   "id": "09685074-4fe3-4eeb-b6c1-23dbd38ac5fa",
   "metadata": {},
   "outputs": [],
   "source": [
    "print('🤷‍♂️' > '🤪')"
   ]
  },
  {
   "cell_type": "markdown",
   "id": "5db0dee7-894a-4289-aae4-b55cef68acd4",
   "metadata": {},
   "source": [
    "#### Concatenação\n",
    "\n",
    "Quando queremos colocar duas strings em sequência, uma depois da outra, como uma nova string, fazemos uma operação chamada *concatenação*. Em Python, usamos o operador `+`, o mesmo da adição, para fazer a concatenação."
   ]
  },
  {
   "cell_type": "code",
   "execution_count": null,
   "id": "d26dd2a6-e10a-4b42-b985-a192e6711ea9",
   "metadata": {},
   "outputs": [],
   "source": [
    "x = 'abcd'\n",
    "y = 'efgh'\n",
    "print(x + y)"
   ]
  },
  {
   "cell_type": "markdown",
   "id": "32ccb43d-d763-460f-899c-2c5d476c1271",
   "metadata": {},
   "source": [
    "Também podemos usar o operador `*` com um número, e talvez já tenha ficado evidente o seu efeito."
   ]
  },
  {
   "cell_type": "code",
   "execution_count": null,
   "id": "3d1a31c5-1868-4f02-ba1f-e172ada5ef2a",
   "metadata": {},
   "outputs": [],
   "source": [
    "print(x * 4)\n",
    "# \"Aritmética\" de strings.\n",
    "print(x + ' ' + '-' * 10 + ' ' + y)"
   ]
  },
  {
   "cell_type": "markdown",
   "id": "7180fe9d-6f8d-412c-b360-3b1e6774f87a",
   "metadata": {},
   "source": [
    "Podemos usar esses operadores para criar strings bem complicadas. Um caso bastante comum é criar uma string com base em algum resultado numérico. Neste caso, precisamos primeiro converter o valor numérico para string usando a função `str()`."
   ]
  },
  {
   "cell_type": "code",
   "execution_count": null,
   "id": "a816efe5-6cde-4349-8ca9-e7fd4d9eed10",
   "metadata": {},
   "outputs": [],
   "source": [
    "altura = 1.7\n",
    "print('Minha altura é ' + str(altura) + ' m')"
   ]
  },
  {
   "cell_type": "markdown",
   "id": "9a96dc5e-8430-4bc1-bb0e-55f2bc90ed40",
   "metadata": {},
   "source": [
    "#### Composição\n",
    "\n",
    "Montar strings com base em outras variáveis desta forma nem sempre é prático. Como quase tudo em Python, existem formas mais amigáveis e legíveis de fazer isso. Vamos aprender uma delas, usando o conceito de *strings formatadas*, ou f-strings. Para isso, precisamos mudar ligeiramente a forma como escrevemos a string, para indicar que estamos fazendo uma string formatada.\n",
    "\n",
    "Primeiro, ao declarar a string, adicionamos um `f` antes das aspas. Por exemplo, `f'string formatada'`. Dentro de uma string dessas, podemos adicionar locais onde queremos inserir variáveis usando o nome da variável entre chaves, por exemplo `{variavel}`. Veja como fica mais simples:"
   ]
  },
  {
   "cell_type": "code",
   "execution_count": null,
   "id": "a9377497-1b44-45f8-85ff-a00818020f6a",
   "metadata": {},
   "outputs": [],
   "source": [
    "print(f'Minha altura é {altura} m')"
   ]
  },
  {
   "cell_type": "markdown",
   "id": "c71647d6-04db-4bf8-b5a8-b07c89270e1f",
   "metadata": {},
   "source": [
    "Outro exemplo:"
   ]
  },
  {
   "cell_type": "code",
   "execution_count": null,
   "id": "c8e2f4bd-d76a-47cb-ae8b-99696f656ca5",
   "metadata": {},
   "outputs": [],
   "source": [
    "import math\n",
    "x = math.pi / 5\n",
    "print(f'x = {x}')"
   ]
  },
  {
   "cell_type": "markdown",
   "id": "862c6349-9b91-4b20-854e-2f4b5aceb052",
   "metadata": {},
   "source": [
    "É muito comum querer exibir números float com um número fixo de casas decimais. Neste caso, precisamos formatar. Fazemos isso adicionando `:` e mais um *especificador de formato*. Há muitas opções para especificar a formatação, [veja neste site](https://datagy.io/python-f-strings/#Formatting_Values_with_Python_f-strings), e na [documentação oficial](https://docs.python.org/pt-br/3/tutorial/inputoutput.html#formatted-string-literals). Para o caso de floats, é simplesmente `.`, seguido do número de casas decimais e terminando com a letra `f`. Alternativamente podemos escrever em notação científica terminando o especificador com `e`. Por exemplo, `x` com 4 casas decimais, e também com 2 + 1 algarismos significativos."
   ]
  },
  {
   "cell_type": "code",
   "execution_count": null,
   "id": "2c8fd643-e5b8-4e27-9498-2d29d82936b2",
   "metadata": {},
   "outputs": [],
   "source": [
    "print(f'x = {x:.4f}')\n",
    "print(f'x = {x:.2e}')"
   ]
  },
  {
   "cell_type": "markdown",
   "id": "9e7b94fb-52ed-44f6-bf54-66e54528d1f2",
   "metadata": {},
   "source": [
    "#### Fatias ou *slices*\n",
    "\n",
    "Vimos que é possível usar o operador indexação `[]` para escolher um caractere ou elemento posicional de uma string. Este porém é apenas uma das formas de usar esse operador. De forma mais geral, podemos tomar *fatias*, também chamadas de *slices* de uma sequência qualquer. Para isso, precisamos dizer a faixa de valores que queremos, usando como índice `[início:fim]`."
   ]
  },
  {
   "cell_type": "code",
   "execution_count": null,
   "id": "d42a8b0f-1fdc-4af0-8e90-5ad7fd320199",
   "metadata": {},
   "outputs": [],
   "source": [
    "s1 = 'ABCDEFG'\n",
    "s2 = s1[1:4]\n",
    "print(s2)"
   ]
  },
  {
   "cell_type": "markdown",
   "id": "413cba1d-79be-4676-9929-5491ad1e28ec",
   "metadata": {},
   "source": [
    "Repare que os caracteres selecionados vão de `início` até `(fim - 1)`, como a função `range()`. Isso pode parecer um pouco confuso, mas considere o seguinte: dada a frase `'Eric Idle é o melhor python'`, pegue uma slice de 15 caracteres a partir do caractere 5."
   ]
  },
  {
   "cell_type": "code",
   "execution_count": null,
   "id": "bbbd8b12-a251-4f87-b523-31f5b0962d68",
   "metadata": {},
   "outputs": [],
   "source": [
    "frase = 'Eric Idle é o melhor python!'\n",
    "ini = 5\n",
    "n = 15\n",
    "fin = ini + n\n",
    "outra_frase = frase[ini:fin]\n",
    "print(outra_frase)\n",
    "print(f'A nova frase tem {len(outra_frase)} caracteres.')"
   ]
  },
  {
   "cell_type": "markdown",
   "id": "cf897741-4675-4398-a525-a249a6f2ecb3",
   "metadata": {},
   "source": [
    "Quer dizer, o número de caracteres de uma slice `[início:fim]` é `(fim - início)`.\n",
    "\n",
    "Se usamos um número negativo como índice, ele é contado da direita para a esquerda. Denovo, pode parecer estranho mas é consistente!"
   ]
  },
  {
   "cell_type": "code",
   "execution_count": null,
   "id": "d9861cca-26da-4056-942d-bb8be9918d4d",
   "metadata": {},
   "outputs": [],
   "source": [
    "print(frase[-1])\n",
    "print(frase[-7:-1])"
   ]
  },
  {
   "cell_type": "markdown",
   "id": "3e147828-f1b6-4d9c-9c7c-b56044c45998",
   "metadata": {},
   "source": [
    "Finalmente, podemos escolher um *salto* ou *stride*. É o terceiro número num índice, `[início:fim:salto]`."
   ]
  },
  {
   "cell_type": "code",
   "execution_count": null,
   "id": "c096576f-2437-439a-8dd9-2804ea86fbc4",
   "metadata": {},
   "outputs": [],
   "source": [
    "s = 'ABCDEFGHIJKLMNOPQRSTUVWXYZ'\n",
    "print(s[5:20:2])"
   ]
  },
  {
   "cell_type": "markdown",
   "id": "b8c92ba8-7630-478a-85b1-6330dfdbae62",
   "metadata": {},
   "source": [
    "O salto também pode ser negativo, mas o início tem que ser menor que o fim."
   ]
  },
  {
   "cell_type": "code",
   "execution_count": null,
   "id": "f3da0228-9df5-4c3e-9ddb-987fffd8f43f",
   "metadata": {},
   "outputs": [],
   "source": [
    "print(s[20:5:-1])"
   ]
  },
  {
   "cell_type": "markdown",
   "id": "8ec879cd-ea02-4640-a0ab-26140c263a83",
   "metadata": {},
   "source": [
    "Qualquer um dos três índices pode ser omitido, e então se usa um valor padrão. O valor padrão do início é 0 (começo da string), o fim é o tamanho da string (vai até o final), e o salto é 1 (pula de 1 em 1)."
   ]
  },
  {
   "cell_type": "code",
   "execution_count": null,
   "id": "b10bcbe5-63cc-4c57-87b8-4ef0947f3db8",
   "metadata": {},
   "outputs": [],
   "source": [
    "print(s[5:])"
   ]
  },
  {
   "cell_type": "code",
   "execution_count": null,
   "id": "4eb52037-daee-432b-8934-2bb8889b2798",
   "metadata": {},
   "outputs": [],
   "source": [
    "print(s[:20])"
   ]
  },
  {
   "cell_type": "code",
   "execution_count": null,
   "id": "f7a10c25-d7e9-4829-9959-17f3dcf6120b",
   "metadata": {},
   "outputs": [],
   "source": [
    "print(s[::-1])"
   ]
  },
  {
   "cell_type": "code",
   "execution_count": null,
   "id": "c42f9a29-7c92-4e0e-bb47-58db067209db",
   "metadata": {},
   "outputs": [],
   "source": [
    "print(s[:])"
   ]
  },
  {
   "cell_type": "markdown",
   "id": "aeafdd38-ac2c-479a-8e20-cad7ea017f99",
   "metadata": {},
   "source": [
    "#### Exercício 2\n",
    "\n",
    "Leia uma frase do usuário. Depois leia um caractere escolhido pelo usuário. Usando um laço, encontre e imprima a posição de todas as ocorrências desse caractere."
   ]
  },
  {
   "cell_type": "code",
   "execution_count": null,
   "id": "13201302-435b-4373-a5f2-f596b1f11e79",
   "metadata": {},
   "outputs": [],
   "source": []
  },
  {
   "cell_type": "markdown",
   "id": "fc238806-b331-4173-86cc-3faf71e46708",
   "metadata": {},
   "source": [
    "#### Exercício 3\n",
    "\n",
    "Leia uma frase escrita pelo usuário. Cada palavra vai estar separada da outra por um caractere de espaço, `' '`. Use esta informação para encontrar cada palavra da frase, e imprimir uma linha para cada uma delas, na forma \"A palavra XXXXXXXX tem N caracteres.\"\n"
   ]
  },
  {
   "cell_type": "code",
   "execution_count": null,
   "id": "9775fff5-86a1-4ea5-8ef7-ea834df3ce0b",
   "metadata": {},
   "outputs": [],
   "source": []
  }
 ],
 "metadata": {
  "kernelspec": {
   "display_name": "Python 3 (ipykernel)",
   "language": "python",
   "name": "python3"
  },
  "language_info": {
   "codemirror_mode": {
    "name": "ipython",
    "version": 3
   },
   "file_extension": ".py",
   "mimetype": "text/x-python",
   "name": "python",
   "nbconvert_exporter": "python",
   "pygments_lexer": "ipython3",
   "version": "3.11.6"
  }
 },
 "nbformat": 4,
 "nbformat_minor": 5
}
