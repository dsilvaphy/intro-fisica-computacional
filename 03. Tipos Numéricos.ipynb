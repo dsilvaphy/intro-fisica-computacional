{
 "cells": [
  {
   "cell_type": "markdown",
   "metadata": {},
   "source": [
    "# Modelo de dados\n",
    "Em inglês, *data model*. É primordial que se compreenda como as informações são armazenadas em um computador, e que tipo de abstração é utilizada para que nós, humanos, possamos interagir com esses dados através de uma dada linguagem de computador.\n",
    "\n",
    "Tudo em Python são objetos. Eles são a abstração do Python para todos os tipos de dados. Todos os objetos têm uma identidade, um tipo e um valor."
   ]
  },
  {
   "cell_type": "markdown",
   "metadata": {},
   "source": [
    "A **identidade** de um objeto nunca muda, ela é definida quando o objeto é criado.\n",
    "É como um ponteiro ou endereço de memória em C. A função `id()` retorna a identidade de um objeto.\n",
    "\n",
    "O **tipo** de um objeto define as operações que podemos fazer com ele, e os valores que ele pode tomar. Exemplos: números inteiros (`int`), números reais (`float`), sequências de caracteres (`str`).\n",
    "Podemos usar a função `type()` para saber o tipo de um objeto."
   ]
  },
  {
   "cell_type": "code",
   "execution_count": null,
   "metadata": {},
   "outputs": [],
   "source": [
    "type(1)"
   ]
  },
  {
   "cell_type": "code",
   "execution_count": null,
   "metadata": {},
   "outputs": [],
   "source": [
    "type(3.14)"
   ]
  },
  {
   "cell_type": "code",
   "execution_count": null,
   "metadata": {},
   "outputs": [],
   "source": [
    "type('uma cadeia de caracteres, ou string.')"
   ]
  },
  {
   "cell_type": "markdown",
   "metadata": {},
   "source": [
    "O tipo de um objeto nunca muda, dizemos que o Python tem *tipagem forte*.\n",
    "\n",
    "O **valor** de alguns objetos pode mudar. Esses são objetos *mutáveis*.\n",
    "Outros objetos têm um valor fixo dado na sua criação.\n",
    "São objetos *imutáveis*. Isso pode ser complicado quando temos objetos mais elaborados, como *contêiners*, que contêm referências a outros objetos.\n",
    "Não se preocupe com esse conceito mutável/imutável por enquanto."
   ]
  },
  {
   "cell_type": "markdown",
   "metadata": {},
   "source": [
    "Quando damos nome a um objeto, criamos uma **variável**. As variáveis são como etiquetas com nomes coladas nos objetos.\n",
    "Numa equivalência com a linguagem C, variáveis *apontam* para os objetos, mas sem a aritmética de ponteiros.\n",
    "Podemos mudar os objetos para qual uma variável aponta, independente do seu tipo.\n",
    "Chamamos isto de *tipagem dinâmica*."
   ]
  },
  {
   "cell_type": "markdown",
   "metadata": {},
   "source": [
    "O nome de uma variável deve conter apenas letras romanas maiúsculas e minúsculas (alguns símbolos e acentos são permitidos, mas podem confundir), números e o caractere `_`, iniciando sempre com uma letra. Repare que o Python diferencia maiúsculas de minúsculas! Convém sempre usar nomes bem descritivos para uma variável, tentando não usar nomes muito longos. No exemplo abaixo, vamos criar uma variável `x` com o valor numérico `1.5`, e vamos mostrar o seu valor e o seu tipo com a função `print()`."
   ]
  },
  {
   "cell_type": "code",
   "execution_count": null,
   "metadata": {},
   "outputs": [],
   "source": [
    "x = 1.5\n",
    "print(x, type(x))"
   ]
  },
  {
   "cell_type": "markdown",
   "metadata": {},
   "source": [
    "Objetos em Python são objetos compostos, isto é, contêm um estrutura interna. Podemos interagir com parte dessa estrutura usando o operador `.` para acessar *propriedades* e *métodos*. Propriedades são como variáveis internas de um objeto, enquanto métodos são como funções que podem modificar o estado de um objeto."
   ]
  },
  {
   "cell_type": "code",
   "execution_count": null,
   "metadata": {},
   "outputs": [],
   "source": [
    "# Exemplo de chamada de método.\n",
    "x.as_integer_ratio()"
   ]
  },
  {
   "cell_type": "code",
   "execution_count": null,
   "metadata": {},
   "outputs": [],
   "source": [
    "# Exemplo de acesso a uma propriedade.\n",
    "x.imag"
   ]
  },
  {
   "cell_type": "markdown",
   "metadata": {},
   "source": [
    "Não é preciso declarar o tipo de uma variável. Podemos mudar o valor de `x` para qualquer outra coisa. Por exemplo, o texto `'dois'`."
   ]
  },
  {
   "cell_type": "code",
   "execution_count": null,
   "metadata": {},
   "outputs": [],
   "source": [
    "x = 'spam'\n",
    "print(x, type(x))"
   ]
  },
  {
   "cell_type": "markdown",
   "metadata": {},
   "source": [
    "Veja que o tipo da variável `x` mudou de `int` para `str`.\n",
    "\n",
    "Outras variáveis podem *referenciar* o mesmo objeto. Abaixo, `x` e `y` referenciam o objeto numérico de valor `1.0`."
   ]
  },
  {
   "cell_type": "code",
   "execution_count": null,
   "metadata": {},
   "outputs": [],
   "source": [
    "y = 1.0\n",
    "x = y\n",
    "print(x, y)"
   ]
  },
  {
   "cell_type": "markdown",
   "metadata": {},
   "source": [
    "Isso fica mais claro quando vemos que as identidades de `x` e `y` são iguais."
   ]
  },
  {
   "cell_type": "code",
   "execution_count": null,
   "metadata": {},
   "outputs": [],
   "source": [
    "print(id(x), id(y))"
   ]
  },
  {
   "cell_type": "markdown",
   "metadata": {},
   "source": [
    "Por outro lado, nem todo valor numérico igual significa que são os mesmo objetos. No exemplo, `z` tem valor igual a `x`, mas identidade diferente."
   ]
  },
  {
   "cell_type": "code",
   "execution_count": null,
   "metadata": {},
   "outputs": [],
   "source": [
    "z = 1.0\n",
    "print(x, y, z)\n",
    "print(id(x), id(y), id(z))"
   ]
  },
  {
   "cell_type": "markdown",
   "metadata": {},
   "source": [
    "Temos então dois objetos, um deles vale `1.0` e está referenciado por `x` e `y`, e outro que também vale `1.0`, mas é referenciado por `z`. No caso de números, isso praticamente não faz diferença, mas pode fazer para tipos mais complicados. Vamos estudar aqui os tipos numéricos, e veremos outros tipos de dados nas próximas semanas."
   ]
  },
  {
   "cell_type": "markdown",
   "metadata": {},
   "source": [
    "## Tipos numéricos\n",
    "Estes são imutáveis, e incluem:\n",
    "- Booleanos/lógicos (`bool`): Valores `True` ou `False`.\n",
    "- Inteiros (`int`): Valores inteiros, sem limite superior ou inferior. Inteiros em Python se comportam de maneira *muito diferente do C*, onde especificamos o tamanho em bytes (`char`, `int`, `long`, etc.).\n",
    "- Números reais/ponto flutuante (`float`): Equivalente ao `double` do C, geralmente segue o padrão IEEE-754. O site [Float Toy](http://evanw.github.io/float-toy/) demonstra como os `float`s funcionam. Nem sempre eles se comportam como números reais!\n",
    "- Números complexos (`complex`): Par de `float`s contendo as partes real e imaginária.\n",
    " "
   ]
  },
  {
   "cell_type": "markdown",
   "metadata": {},
   "source": [
    "### Exemplos\n",
    "\n",
    "#### Booleanos\n",
    "\n",
    "Servem para representar informações lógicas, com valor verdadeiro ou falso."
   ]
  },
  {
   "cell_type": "code",
   "execution_count": null,
   "metadata": {},
   "outputs": [],
   "source": [
    "x = True\n",
    "y = False\n",
    "print(x, y)"
   ]
  },
  {
   "cell_type": "code",
   "execution_count": null,
   "metadata": {},
   "outputs": [],
   "source": [
    "type(x)"
   ]
  },
  {
   "cell_type": "markdown",
   "metadata": {},
   "source": [
    "#### Inteiros\n",
    "\n",
    "Os números usuais. Servem para representar coisas contáveis, posições, etc."
   ]
  },
  {
   "cell_type": "code",
   "execution_count": null,
   "metadata": {},
   "outputs": [],
   "source": [
    "x = 1\n",
    "y = 2"
   ]
  },
  {
   "cell_type": "code",
   "execution_count": null,
   "metadata": {},
   "outputs": [],
   "source": [
    "type(y)"
   ]
  },
  {
   "cell_type": "markdown",
   "metadata": {},
   "source": [
    "#### Números de ponto flutuante\n",
    "\n",
    "Representam números reais. Repare como algumas operações com números `int` podem resultar em números `float`. Dizemos que valores `int` são *promovidos* a `float`, isso é feito automaticamente pelo Python."
   ]
  },
  {
   "cell_type": "code",
   "execution_count": null,
   "metadata": {},
   "outputs": [],
   "source": [
    "x = 3.14\n",
    "y = 1 / 3\n",
    "print(x, y)"
   ]
  },
  {
   "cell_type": "code",
   "execution_count": null,
   "metadata": {},
   "outputs": [],
   "source": [
    "type(x)"
   ]
  },
  {
   "cell_type": "markdown",
   "metadata": {},
   "source": [
    "#### Números complexos\n",
    "\n",
    "São a extensão do conjunto de números reais. Em Python é representado por um par de `float`s, com algumas funcionalidades extras."
   ]
  },
  {
   "cell_type": "code",
   "execution_count": null,
   "metadata": {},
   "outputs": [],
   "source": [
    "x = 3 + 4j\n",
    "print(x)\n",
    "print(x.conjugate())\n",
    "print(x.real, x.imag)"
   ]
  },
  {
   "cell_type": "code",
   "execution_count": null,
   "metadata": {},
   "outputs": [],
   "source": [
    "type(x)"
   ]
  },
  {
   "cell_type": "code",
   "execution_count": null,
   "metadata": {},
   "outputs": [],
   "source": [
    "c = x * x.conjugate()\n",
    "print(c, c.real, c.imag)"
   ]
  },
  {
   "cell_type": "markdown",
   "metadata": {},
   "source": [
    "# Operadores numéricos\n",
    "\n",
    "Os operadores numéricos em Python são parecidos com as outras linguagens. Vamos ver a seguir os tipos de operadores existentes."
   ]
  },
  {
   "cell_type": "markdown",
   "metadata": {},
   "source": [
    "## Operadores aritméticos\n",
    "Funcionam para tipos numéricos, `int`, `float` e `complex`. Os valores são promovidos nesta ordem (`int` vira `float`, `float` vira `complex`) quando as operações envolvem tipos diferentes.\n",
    "\n",
    "Adição e subtração são triviais, certo? Vejamos com inteiros."
   ]
  },
  {
   "cell_type": "code",
   "execution_count": null,
   "metadata": {},
   "outputs": [],
   "source": [
    "x = 3\n",
    "y = x + 2\n",
    "print(x, y, y + 5)"
   ]
  },
  {
   "cell_type": "markdown",
   "metadata": {},
   "source": [
    "Que tal tentar com `float`s?"
   ]
  },
  {
   "cell_type": "code",
   "execution_count": null,
   "metadata": {},
   "outputs": [],
   "source": [
    "3.14 + 3.14"
   ]
  },
  {
   "cell_type": "markdown",
   "metadata": {},
   "source": [
    "Parece a mesma coisa. Vamos testar outra coisa."
   ]
  },
  {
   "cell_type": "code",
   "execution_count": null,
   "metadata": {},
   "outputs": [],
   "source": [
    "3.0 + 3.14"
   ]
  },
  {
   "cell_type": "markdown",
   "metadata": {},
   "source": [
    "Isso foi inesperado, o resultado deveria ser `6.14`. De fato, veja que"
   ]
  },
  {
   "cell_type": "code",
   "execution_count": null,
   "metadata": {},
   "outputs": [],
   "source": [
    "(3 + 3.14) - 6.14"
   ]
  },
  {
   "cell_type": "markdown",
   "metadata": {},
   "source": [
    "Outro exemplo:"
   ]
  },
  {
   "cell_type": "code",
   "execution_count": null,
   "metadata": {},
   "outputs": [],
   "source": [
    "(0.1 + 0.1 + 0.1) - 0.3"
   ]
  },
  {
   "cell_type": "markdown",
   "metadata": {},
   "source": [
    "O problema está na conversão de `3.14` para binário. Este número não tem uma representação exata em binário, do mesmo jeito que $\\frac 1 3$ não tem representação exata em decimal. Vamos explorar melhor esse \"defeito\" dos `float`s na semana que vem. Se tiver muita curiosidade, veja o site [Floating Point Visually Explained](https://fabiensanglard.net/floating_point_visually_explained/index.html) para uma explicação mais detalhada.\n",
    "\n",
    "Seguindo com os operadores, o operador de potenciação é `**`. Para fazer $2^3$, usamos"
   ]
  },
  {
   "cell_type": "code",
   "execution_count": null,
   "metadata": {},
   "outputs": [],
   "source": [
    "2**3"
   ]
  },
  {
   "cell_type": "markdown",
   "metadata": {},
   "source": [
    "**Não use o operador `^`, ele significa outra operação completamente diferente!**"
   ]
  },
  {
   "cell_type": "markdown",
   "metadata": {},
   "source": [
    "Para divisão há 2 operadores. Divisão \"normal\" dá um resultado `float`."
   ]
  },
  {
   "cell_type": "code",
   "execution_count": null,
   "metadata": {},
   "outputs": [],
   "source": [
    "11 / 3"
   ]
  },
  {
   "cell_type": "markdown",
   "metadata": {},
   "source": [
    "Se quisermos a divisão de inteiros, usamos o operador `//`."
   ]
  },
  {
   "cell_type": "code",
   "execution_count": null,
   "metadata": {},
   "outputs": [],
   "source": [
    "11 // 3"
   ]
  },
  {
   "cell_type": "markdown",
   "metadata": {},
   "source": [
    "Temos também o operador módulo (`%`), usado na aritmética modular. Ele dá o resto da divisão inteira quando os operandos são inteiros positivos."
   ]
  },
  {
   "cell_type": "code",
   "execution_count": null,
   "metadata": {},
   "outputs": [],
   "source": [
    "11 % 3"
   ]
  },
  {
   "cell_type": "markdown",
   "metadata": {},
   "source": [
    "Veja que podemos misturar tipos, e o Python se arranja."
   ]
  },
  {
   "cell_type": "code",
   "execution_count": null,
   "metadata": {},
   "outputs": [],
   "source": [
    "(3 + 2j) * (1 + 2j) + 3.14 + 4"
   ]
  },
  {
   "cell_type": "markdown",
   "metadata": {},
   "source": [
    "## Exercício 1\n",
    "\n",
    "Calcule o valor da posição dada pela equação do movimento retilíneo uniformemente variado,\n",
    "\n",
    "$$\n",
    "x(t) = x_0 + v_0 t + \\frac {at^2}{2},\n",
    "$$\n",
    "\n",
    "onde temos $x_0 = 3.00\\,\\mathrm{m}$, $v_0 = 5.00\\,\\mathrm{m}\\mathrm{s}^{-1}$,  $a = -9.81\\,\\mathrm{m}\\mathrm{s}^{-2}$ e $t = 2.00\\,\\mathrm{s}$."
   ]
  },
  {
   "cell_type": "code",
   "execution_count": null,
   "metadata": {},
   "outputs": [],
   "source": []
  },
  {
   "cell_type": "markdown",
   "metadata": {},
   "source": [
    "## Operadores relacionais\n",
    "\n",
    "Servem para fazer comparação entre tipos numéricos, e retornam um valor booleano. Os operadores são os seguintes:\n",
    "\n",
    "### Igual / diferente\n",
    "\n",
    "O operador igualdade (`==`) é muito parecido com o de atribuição (`=`). Tome muito cuidado, há contextos onde a troca deles pode resultar num programa válido, mas que não faz as operações que desejamos corretamente."
   ]
  },
  {
   "cell_type": "code",
   "execution_count": null,
   "metadata": {},
   "outputs": [],
   "source": [
    "2 == 2"
   ]
  },
  {
   "cell_type": "code",
   "execution_count": null,
   "metadata": {},
   "outputs": [],
   "source": [
    "2 == 3"
   ]
  },
  {
   "cell_type": "code",
   "execution_count": null,
   "metadata": {},
   "outputs": [],
   "source": [
    "2 != 3"
   ]
  },
  {
   "cell_type": "markdown",
   "metadata": {},
   "source": [
    "### Menor que"
   ]
  },
  {
   "cell_type": "code",
   "execution_count": null,
   "metadata": {},
   "outputs": [],
   "source": [
    "2 < 3"
   ]
  },
  {
   "cell_type": "markdown",
   "metadata": {},
   "source": [
    "### Menor ou igual a"
   ]
  },
  {
   "cell_type": "code",
   "execution_count": null,
   "metadata": {},
   "outputs": [],
   "source": [
    "2 <= 3"
   ]
  },
  {
   "cell_type": "markdown",
   "metadata": {},
   "source": [
    "### Maior que"
   ]
  },
  {
   "cell_type": "code",
   "execution_count": null,
   "metadata": {},
   "outputs": [],
   "source": [
    "2 > 3"
   ]
  },
  {
   "cell_type": "markdown",
   "metadata": {},
   "source": [
    "### Maior ou igual a"
   ]
  },
  {
   "cell_type": "code",
   "execution_count": null,
   "metadata": {},
   "outputs": [],
   "source": [
    "2 >= 3"
   ]
  },
  {
   "cell_type": "markdown",
   "metadata": {},
   "source": [
    "**Cuidado ao usar esses operadores com `float`.** Lembre do caso de `3.14`:"
   ]
  },
  {
   "cell_type": "code",
   "execution_count": null,
   "metadata": {},
   "outputs": [],
   "source": [
    "(3.14 + 3) == 6.14"
   ]
  },
  {
   "cell_type": "markdown",
   "metadata": {},
   "source": [
    "Em geral deve-se evitar comparar a igualdade de `float`s, usando sempre `>` ou `<` quando possível."
   ]
  },
  {
   "cell_type": "markdown",
   "metadata": {},
   "source": [
    "## Atribuição compacta\n",
    "\n",
    "Já vimos como funciona a atribuição."
   ]
  },
  {
   "cell_type": "code",
   "execution_count": null,
   "metadata": {},
   "outputs": [],
   "source": [
    "x = 2\n",
    "x = x + 2\n",
    "print(x)"
   ]
  },
  {
   "cell_type": "markdown",
   "metadata": {},
   "source": [
    "Existem versões compactas dos operadores aritméticos. Para fazer `x = x + 2`, podemos também usar"
   ]
  },
  {
   "cell_type": "code",
   "execution_count": null,
   "metadata": {},
   "outputs": [],
   "source": [
    "x += 2\n",
    "print(x)"
   ]
  },
  {
   "cell_type": "markdown",
   "metadata": {},
   "source": [
    "Neste caso, chamamos `+=` de operador de incremento. Temos os operadores de atribuição `+=`, `-=`, `*=`, `/=`, `%=` e `**=`.\n",
    "\n",
    "Não existe o operador de incremento e decremento:"
   ]
  },
  {
   "cell_type": "markdown",
   "metadata": {},
   "source": [
    "Não existe o operador de incremento e decremento da linguagem C. Quer dizer, não podemos fazer algo do tipo `x++`. "
   ]
  },
  {
   "cell_type": "markdown",
   "metadata": {},
   "source": [
    "# Funções matemáticas\n",
    "\n",
    "Os operadores aritméticos são suficientes para resolver muitos problemas. Porém, alguns requerem funções matemáticas mais avançadas, como logaritmo, ou funções trigonométricas. O Python dispõe de muitos pacotes que provêm essas funções, mas o mais simples é o `math`. [Veja a sua documentação](https://docs.python.org/pt-br/3/library/math.html). Para acessar o pacote `math` no nosso script, precisamos *importá-lo* com o comando:"
   ]
  },
  {
   "cell_type": "code",
   "execution_count": null,
   "metadata": {},
   "outputs": [],
   "source": [
    "import math"
   ]
  },
  {
   "cell_type": "markdown",
   "metadata": {},
   "source": [
    "## Constantes\n",
    "\n",
    "O pacote `math` tem as constantes $\\pi$ e $\\mathrm{e}$."
   ]
  },
  {
   "cell_type": "code",
   "execution_count": null,
   "metadata": {},
   "outputs": [],
   "source": [
    "print(math.pi, math.e)"
   ]
  },
  {
   "cell_type": "markdown",
   "metadata": {},
   "source": [
    "## Números e representação numérica\n",
    "\n",
    "A seguir algumas funções que lidam com a representação dos números.\n",
    "\n",
    "### `fabs(x)`\n",
    "\n",
    "Retorna o valor absoluto de `x`, isto é, $|x|$."
   ]
  },
  {
   "cell_type": "code",
   "execution_count": null,
   "metadata": {},
   "outputs": [],
   "source": [
    "math.fabs(-2)"
   ]
  },
  {
   "cell_type": "markdown",
   "metadata": {},
   "source": [
    "### `factorial(n)`\n",
    "\n",
    "Retorna o fatorial de `n`, isto é, $n! = 1 \\times 2 \\times 3 \\times \\ldots \\times n-1 \\times n$. Aceita somente `n` inteiro."
   ]
  },
  {
   "cell_type": "code",
   "execution_count": null,
   "metadata": {},
   "outputs": [],
   "source": [
    "math.factorial(5)"
   ]
  },
  {
   "cell_type": "markdown",
   "metadata": {},
   "source": [
    "### `ceil(x)`, `floor(x)`, `trunc(x)`\n",
    "\n",
    "Essas funções servem para arredondar um `float` para um inteiro. `ceil(x)` retorna um inteiro arredondado para cima, `floor(x)` arredondado para baixo. A função `trunc(x)` retorna a parte inteira de `x`, descartando a parte fracionária."
   ]
  },
  {
   "cell_type": "code",
   "execution_count": null,
   "metadata": {},
   "outputs": [],
   "source": [
    "math.ceil(3.14)"
   ]
  },
  {
   "cell_type": "code",
   "execution_count": null,
   "metadata": {},
   "outputs": [],
   "source": [
    "math.floor(3.14)"
   ]
  },
  {
   "cell_type": "code",
   "execution_count": null,
   "metadata": {},
   "outputs": [],
   "source": [
    "math.trunc(3.14)"
   ]
  },
  {
   "cell_type": "markdown",
   "metadata": {},
   "source": [
    "Essas funções podem resultados diferentes do que esperamos quando os valores são negativos."
   ]
  },
  {
   "cell_type": "code",
   "execution_count": null,
   "metadata": {},
   "outputs": [],
   "source": [
    "math.ceil(-3.14)"
   ]
  },
  {
   "cell_type": "code",
   "execution_count": null,
   "metadata": {},
   "outputs": [],
   "source": [
    "math.floor(-3.14)"
   ]
  },
  {
   "cell_type": "code",
   "execution_count": null,
   "metadata": {},
   "outputs": [],
   "source": [
    "math.trunc(-3.14)"
   ]
  },
  {
   "cell_type": "markdown",
   "metadata": {},
   "source": [
    "## Potenciação e logaritmo\n",
    "\n",
    "### `sqrt(x)`\n",
    "\n",
    "Retorna a raiz quadrada de `x`. Equivalente a `x**0.5`."
   ]
  },
  {
   "cell_type": "code",
   "execution_count": null,
   "metadata": {},
   "outputs": [],
   "source": [
    "print(math.sqrt(2), 2**0.5)"
   ]
  },
  {
   "cell_type": "markdown",
   "metadata": {},
   "source": [
    "### `pow(x, y)`, `exp(x)`\n",
    "\n",
    "A função `pow(x, y)` retorna $x^y$, e é equivalente a `x**y`. A função `exp(x)` é um caso particular, e equivale a `pow(e, x)`, isto é, $\\mathrm{e}^x$."
   ]
  },
  {
   "cell_type": "code",
   "execution_count": null,
   "metadata": {},
   "outputs": [],
   "source": [
    "print(math.pow(2, 0.5), math.sqrt(2))"
   ]
  },
  {
   "cell_type": "code",
   "execution_count": null,
   "metadata": {},
   "outputs": [],
   "source": [
    "print(math.exp(-2), math.pow(math.e, -2))"
   ]
  },
  {
   "cell_type": "markdown",
   "metadata": {},
   "source": [
    "### `log(x, [b])`, `log2(x)`, `log10(x)`\n",
    "\n",
    "A função `log(x, b)` retorna o logaritmo de `x` na base `b`, quer dizer, $\\log_b x$. Caso o argumento `b` seja omitido, o seu valor padrão é $\\mathrm{e}$, ou seja o logaritmo natural.\n",
    "\n",
    "As funções `log2(x)` e `log10(x)` retornam o logaritmo nas bases 2 e 10, respectivamente."
   ]
  },
  {
   "cell_type": "code",
   "execution_count": null,
   "metadata": {},
   "outputs": [],
   "source": [
    "x = math.exp(5)\n",
    "print(math.log(x), math.log(x, math.e))"
   ]
  },
  {
   "cell_type": "code",
   "execution_count": null,
   "metadata": {},
   "outputs": [],
   "source": [
    "print(math.log2(32), math.log10(1000))"
   ]
  },
  {
   "cell_type": "markdown",
   "metadata": {},
   "source": [
    "## Funções trigonométricas e hiperbólicas\n",
    "\n",
    "### `radians(x)`, `degrees(x)`\n",
    "\n",
    "Funções de conversão de unidades angulares. `radians(x)` converte `x` de graus para radianos. A função `degrees(x)` faz a conversão contrária."
   ]
  },
  {
   "cell_type": "code",
   "execution_count": null,
   "metadata": {},
   "outputs": [],
   "source": [
    "x = math.radians(45)\n",
    "print(x)"
   ]
  },
  {
   "cell_type": "code",
   "execution_count": null,
   "metadata": {},
   "outputs": [],
   "source": [
    "y = math.degrees(math.pi)\n",
    "print(y)"
   ]
  },
  {
   "cell_type": "markdown",
   "metadata": {},
   "source": [
    "### `sin(x)`, `cos(x)`, `tan(x)`\n",
    "\n",
    "São as funções trigonométricas usuais. Aceitam `x` em radianos, e retornam um `float`."
   ]
  },
  {
   "cell_type": "code",
   "execution_count": null,
   "metadata": {},
   "outputs": [],
   "source": [
    "x = math.radians(45)\n",
    "print(math.sin(x))"
   ]
  },
  {
   "cell_type": "markdown",
   "metadata": {},
   "source": [
    "### `asin(x)`, `acos(x)`, `atan(x)`\n",
    "\n",
    "São as funções inversas das funções trigonométricas. Aceitam `x` do tipo `float`, respeitando o domínio das funções. Retornam um valor `float` em radianos."
   ]
  },
  {
   "cell_type": "code",
   "execution_count": null,
   "metadata": {},
   "outputs": [],
   "source": [
    "z = math.asin(math.sqrt(2) / 2)\n",
    "print(z, math.degrees(z))"
   ]
  },
  {
   "cell_type": "markdown",
   "metadata": {},
   "source": [
    "## Funções hiperbólicas\n",
    "\n",
    "Funções hiperbólicas são análogas às trigonométricas, porém baseadas em hipérbolas ao invés de círculos. São elas: `sinh(x)`, `cosh(x)`, `tanh(x)`, e suas inversas: `asinh(x)`, `acosh(x)`, `atanh(x)`."
   ]
  },
  {
   "cell_type": "code",
   "execution_count": null,
   "metadata": {},
   "outputs": [],
   "source": [
    "math.sinh(10)"
   ]
  },
  {
   "cell_type": "markdown",
   "metadata": {},
   "source": [
    "## Exercício 2\n",
    "\n",
    "A posição de um oscilador harmônico amortecido é dada pela equação\n",
    "\n",
    "$$\n",
    "x(t) = A\\, \\mathrm{e}^{-\\frac{b}{2m} t}\\cos (\\omega t + \\phi),\n",
    "$$\n",
    "\n",
    "onde $A$ é a amplitude inicial do movimento, $m$ é a massa da partícula, $b$ é o coeficiente de amortecimento. A frequência de oscilação $\\omega$ é\n",
    "\n",
    "$$\n",
    "\\omega = \\sqrt{\\frac k m - \\left(\\frac b {2m}\\right)^2}.\n",
    "$$"
   ]
  },
  {
   "cell_type": "markdown",
   "metadata": {},
   "source": [
    "Calcule a posição da partícula quando\n",
    "\n",
    "\\begin{align}\n",
    "m &= 250\\,\\mathrm{g}, \\\\\n",
    "k &= 85\\,\\mathrm{N}\\,\\mathrm{m}^{-1}, \\\\\n",
    "b &= 0.070\\,\\mathrm{kg}\\,\\mathrm{s}^{-1}, \\\\\n",
    "A &= 25\\,\\mathrm{cm}, \\\\\n",
    "\\phi &= 45^\\circ, \\\\\n",
    "t &= 4.3\\,\\mathrm{s}.\n",
    "\\end{align}"
   ]
  },
  {
   "cell_type": "markdown",
   "metadata": {},
   "source": [
    "*Resposta:* $x = -0.54\\,\\mathrm{cm}.$"
   ]
  },
  {
   "cell_type": "code",
   "execution_count": null,
   "metadata": {},
   "outputs": [],
   "source": []
  },
  {
   "cell_type": "markdown",
   "metadata": {},
   "source": [
    "# Conclusão\n",
    "\n",
    "A Discussão inicial sobre  modelo de dados pode parecer uma tecnicalidade chata, mas é muito importante. Nós ainda não terminamos de falar sobre o data model, nos falta ainda conhecer outros tipos de dados, mas temos bastante caminho a percorrer.\n",
    "\n",
    "Por enquanto já aprendemos o suficiente para fazer alguma coisa útil para um físico. Podemos enfim fazer alguns cálculos e resolver problemas simples."
   ]
  }
 ],
 "metadata": {
  "kernelspec": {
   "display_name": "Python 3 (ipykernel)",
   "language": "python",
   "name": "python3"
  },
  "language_info": {
   "codemirror_mode": {
    "name": "ipython",
    "version": 3
   },
   "file_extension": ".py",
   "mimetype": "text/x-python",
   "name": "python",
   "nbconvert_exporter": "python",
   "pygments_lexer": "ipython3",
   "version": "3.11.6"
  }
 },
 "nbformat": 4,
 "nbformat_minor": 4
}
