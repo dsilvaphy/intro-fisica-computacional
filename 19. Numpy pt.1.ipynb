{
 "cells": [
  {
   "cell_type": "markdown",
   "id": "00563f5d-e1a2-4054-8a5b-9fab8631a7f2",
   "metadata": {},
   "source": [
    "# Arrays numpy\n",
    "\n",
    "## Por que usar numpy?\n",
    "\n",
    "Em Python temos nativamente várias ferramentas para cálculo numérico:\n",
    "\n",
    "- Tipos numéricos: `int`, `float`, `complex`.\n",
    "- Containers: listas, tuplas, dicionários, conjuntos, etc.\n",
    "- Funções matemáticas com o pacote `math`.\n",
    "\n",
    "Entretanto, tudo isso é executado dentro do interpretador. Existem muitos gargalos nos paradigmas usados no interpretador Python, não vamos entrar em detalhes aqui. Apenas fique sabendo que um programa puramente Python é extremamente ineficiente se comparado a uma linguagem compilada, como C ou Fortran, e o nosso curso acabaria bem aqui."
   ]
  },
  {
   "cell_type": "markdown",
   "id": "118432e7-c7be-4965-8974-f4842dd3af1e",
   "metadata": {},
   "source": [
    "Uma das características da linguagem Python é a imensa biblioteca de pacotes, aliada à facilidade em *linkar* código compilado em outras linguagens. Com isso, não demorou muito para surgirem vários pacotes voltados ao cálculo numérico. O `numpy` é pacote que emergiu desse esforço. Ele está por trás da grande maioria dos pacotes de alto nível para computação científica, como `scipy`, `matplotlib`, `pandas`, etc.\n",
    "\n",
    "O `numpy` fornece:\n",
    "\n",
    "- Arrays multidimensionais.\n",
    "- Aritmética de arrays.\n",
    "- Computação mais próxima ao hardware (sem interpretador).\n",
    "\n",
    "A [documentação oficial](https://numpy.org/doc/stable/) do `numpy` contém muito mais detalhes do que veremos aqui."
   ]
  },
  {
   "cell_type": "markdown",
   "id": "3411fc30-dbbc-40c8-ad39-ed0006170454",
   "metadata": {},
   "source": [
    "## Criando arrays manualmente\n",
    "\n",
    "A forma mais simples de criar um array é usando algum container em Python, como uma lista."
   ]
  },
  {
   "cell_type": "code",
   "execution_count": null,
   "id": "2f38e140-177b-4ba8-80e0-c6bfe9ef5992",
   "metadata": {},
   "outputs": [],
   "source": [
    "import numpy as np"
   ]
  },
  {
   "cell_type": "code",
   "execution_count": null,
   "id": "288e1f83-f4d7-4870-a155-3bfd84e3d563",
   "metadata": {},
   "outputs": [],
   "source": [
    "a = np.array([0.0, 1.0, 2.0, 3.0, 4.0])\n",
    "print(type(a), a)"
   ]
  },
  {
   "cell_type": "markdown",
   "id": "14b48ffc-9c27-4d11-bdcc-b5716c3b4b71",
   "metadata": {},
   "source": [
    "O array `a` é unidimensional. Podemos criar arrays com mais dimensões usando listas aninhadas."
   ]
  },
  {
   "cell_type": "code",
   "execution_count": null,
   "id": "e6404d68-3cfc-4c3a-b8e5-80dff751f1f2",
   "metadata": {},
   "outputs": [],
   "source": [
    "b = np.array([[0, 1, 2], [3, 4, 5]])\n",
    "c = np.array([[[1, 2, 3], [4, 5, 6]], [[7, 8, 9], [10, 11, 12]]])"
   ]
  },
  {
   "cell_type": "code",
   "execution_count": null,
   "id": "664451d0-cc32-4f4a-adcd-5811b1332ff8",
   "metadata": {},
   "outputs": [],
   "source": [
    "b"
   ]
  },
  {
   "cell_type": "code",
   "execution_count": null,
   "id": "66a0ed76-3986-4032-935f-979d310caa52",
   "metadata": {},
   "outputs": [],
   "source": [
    "c"
   ]
  },
  {
   "cell_type": "markdown",
   "id": "db9f9e44-c319-44a0-85f4-476ef9962f4e",
   "metadata": {},
   "source": [
    "Diferente de uma lista, os arrays só podem conter dados de um único tipo, e o tamanho do arrays é fixo. Tente criar um array multidimensional com formato inconsistente, não vai funcionar!"
   ]
  },
  {
   "cell_type": "markdown",
   "id": "7da1ac70-ef0d-4cf1-a676-5465c01bc56b",
   "metadata": {},
   "source": [
    "Arrays possuem algumas propriedades:\n",
    "- Número de dimensões (`ndim`).\n",
    "- Formato (`shape`).\n",
    "- Tipo de dados (`dtype`).\n",
    "- Flags internas (`flags`)."
   ]
  },
  {
   "cell_type": "code",
   "execution_count": null,
   "id": "a7be26b4-4751-4ee0-9f63-242adc9b489c",
   "metadata": {},
   "outputs": [],
   "source": [
    "print(f'ndim: {c.ndim}')\n",
    "print(f'shape: {c.shape}')\n",
    "print(f'dtype: {c.dtype}')\n",
    "print(f'flags: {c.flags}')"
   ]
  },
  {
   "cell_type": "markdown",
   "id": "c6bc1ad7-123d-41a6-9b71-49802a2ee2a9",
   "metadata": {},
   "source": [
    "## Funções para criar arrays\n",
    "\n",
    "Na prática, raramente escrevemos o conteúdo de um array manualmente. Temos funções para criar os arrays mais comuns:\n",
    "\n",
    "### Arrays vazios, com zeros, uns ou valores constantes\n",
    "\n",
    "Nestas funções, o primeiro argumento é o formato ou tamanho (*shape*), do array. Para um array unidimensional, use um inteiro. Se quiser criar um array multidimensional, use uma tupla para especificar o shape."
   ]
  },
  {
   "cell_type": "code",
   "execution_count": null,
   "id": "fe9c37b4-6b2b-495b-bc58-66a8fbe4f5a5",
   "metadata": {},
   "outputs": [],
   "source": [
    "b = np.zeros(10)"
   ]
  },
  {
   "cell_type": "code",
   "execution_count": null,
   "id": "ce01be5f-b52e-4869-baba-44a7c6e21b14",
   "metadata": {},
   "outputs": [],
   "source": [
    "b"
   ]
  },
  {
   "cell_type": "code",
   "execution_count": null,
   "id": "80b9aab9-d074-4a20-99fd-237d5bd873e3",
   "metadata": {},
   "outputs": [],
   "source": [
    "c = np.ones((5, 4))"
   ]
  },
  {
   "cell_type": "code",
   "execution_count": null,
   "id": "9c4163c4-2330-4f48-bb3d-cd2ef7b177a6",
   "metadata": {},
   "outputs": [],
   "source": [
    "c"
   ]
  },
  {
   "cell_type": "code",
   "execution_count": null,
   "id": "0108d5a9-5ea0-45d4-b74d-ac775c067232",
   "metadata": {},
   "outputs": [],
   "source": [
    "d = np.full(10, 5.9)"
   ]
  },
  {
   "cell_type": "code",
   "execution_count": null,
   "id": "ac17475b-cdab-4075-80c8-1a8b0b55798c",
   "metadata": {},
   "outputs": [],
   "source": [
    "d"
   ]
  },
  {
   "cell_type": "markdown",
   "id": "686c403b-9272-4092-b693-c3d67d8f4b7c",
   "metadata": {},
   "source": [
    "### Faixas de valores\n",
    "\n",
    "Similares às funções que já programamos."
   ]
  },
  {
   "cell_type": "code",
   "execution_count": null,
   "id": "e9c0dd7f-de1b-4fcb-9e19-34041c2b02ef",
   "metadata": {},
   "outputs": [],
   "source": [
    "a = np.arange(10) # similar à função range do Python."
   ]
  },
  {
   "cell_type": "code",
   "execution_count": null,
   "id": "fa74b924-e829-4068-8d3b-9c8f2671c859",
   "metadata": {},
   "outputs": [],
   "source": [
    "a"
   ]
  },
  {
   "cell_type": "code",
   "execution_count": null,
   "id": "3c9a25da-1b81-442d-81eb-7a521f36a5e5",
   "metadata": {},
   "outputs": [],
   "source": [
    "b = np.arange(0, 1, 0.01) # espaçamento definido."
   ]
  },
  {
   "cell_type": "code",
   "execution_count": null,
   "id": "de9d6e42-e48c-4470-a9da-6f2c6dc83275",
   "metadata": {},
   "outputs": [],
   "source": [
    "b"
   ]
  },
  {
   "cell_type": "code",
   "execution_count": null,
   "id": "59f35bde-d88e-4a08-8ba4-c5e8aab7c633",
   "metadata": {},
   "outputs": [],
   "source": [
    "c = np.linspace(0, 1, 20) # Número de divisões igualmente espaçadas."
   ]
  },
  {
   "cell_type": "code",
   "execution_count": null,
   "id": "b7af6e8e-4579-470e-a43c-e73d79d1aa2c",
   "metadata": {},
   "outputs": [],
   "source": [
    "c"
   ]
  },
  {
   "cell_type": "markdown",
   "id": "6cbcb8a1-6c3c-4526-acee-b0e3584d957c",
   "metadata": {},
   "source": [
    "### Outros arrays comuns"
   ]
  },
  {
   "cell_type": "code",
   "execution_count": null,
   "id": "a910756e-c52b-42bb-a6b9-f18d8d815c1f",
   "metadata": {},
   "outputs": [],
   "source": [
    "a = np.eye(3) # matriz diagonal \"identidade\"."
   ]
  },
  {
   "cell_type": "code",
   "execution_count": null,
   "id": "8c31e41f-1fbb-449c-8110-70d99ac96607",
   "metadata": {},
   "outputs": [],
   "source": [
    "a"
   ]
  },
  {
   "cell_type": "code",
   "execution_count": null,
   "id": "3433ec21-a4da-4863-b84e-a078e96be67b",
   "metadata": {},
   "outputs": [],
   "source": [
    "b = np.arange(1, 5)\n",
    "c = np.diag(b) # matriz diagonal com elementos dados."
   ]
  },
  {
   "cell_type": "code",
   "execution_count": null,
   "id": "88abd64a-1c2f-404d-965a-95401f01fb0a",
   "metadata": {},
   "outputs": [],
   "source": [
    "c"
   ]
  },
  {
   "cell_type": "markdown",
   "id": "ed12292f-109c-4180-b767-47ca5eea6d89",
   "metadata": {},
   "source": [
    "### Números aleatórios\n",
    "\n",
    "A linguagem Python tem um gerador de números pseudo-aleatórios interno."
   ]
  },
  {
   "cell_type": "code",
   "execution_count": null,
   "id": "0e870b8c-79a9-4ca4-b6dc-3b7bdf2cc1fc",
   "metadata": {},
   "outputs": [],
   "source": [
    "np.random.seed(1234) # Semente do gerador de números aleatórios.\n",
    "a = np.random.rand(10) # distribuição uniforme em [0, 1]."
   ]
  },
  {
   "cell_type": "code",
   "execution_count": null,
   "id": "82e0279f-cf00-4e4c-8610-f746c051210d",
   "metadata": {},
   "outputs": [],
   "source": [
    "a"
   ]
  },
  {
   "cell_type": "code",
   "execution_count": null,
   "id": "41481e38-956f-41e5-9c7b-4a0d0ac543f1",
   "metadata": {},
   "outputs": [],
   "source": [
    "b = np.random.randn(4) # distribuição normal (gaussiana centrada em zero)."
   ]
  },
  {
   "cell_type": "code",
   "execution_count": null,
   "id": "3f110e02-f74c-4b32-88b0-32c2375dd17e",
   "metadata": {},
   "outputs": [],
   "source": [
    "b"
   ]
  },
  {
   "cell_type": "markdown",
   "id": "625c95d1-af6e-4528-8556-659d9e2345a1",
   "metadata": {},
   "source": [
    "## Tipos de dados\n",
    "\n",
    "Podemos ter vários tipos de dados necessários para aplicações diferentes. Existem tipos numéricos inteiros (`int`), de ponto flutuante (`float`) e complexos (`complex`). Os tipos inteiros podem ser com ou sem sinal. Além disso, podemos escolher a precisão ou tamanho do tipo, com 32, 64 ou 128 bits (depende do computador). Os tipos de dados são geralmente detectados pelo `numpy` quando vamos criar um array, mas podemos forçar um tipo específico usando o argumento `dtype='tipo'`."
   ]
  },
  {
   "cell_type": "code",
   "execution_count": null,
   "id": "4e6f49b9-6bc0-4c31-aa4f-1a483b7fc534",
   "metadata": {},
   "outputs": [],
   "source": [
    "a = np.array([1, -2, 3], dtype='float32')"
   ]
  },
  {
   "cell_type": "code",
   "execution_count": null,
   "id": "42150af5-4bdc-472d-b926-fdb8a899d9de",
   "metadata": {},
   "outputs": [],
   "source": [
    "a"
   ]
  },
  {
   "cell_type": "code",
   "execution_count": null,
   "id": "82cb7bff-2730-41a4-b92f-7bf7ba71b3d6",
   "metadata": {},
   "outputs": [],
   "source": [
    "a.dtype"
   ]
  },
  {
   "cell_type": "markdown",
   "id": "9b5ceee7-f759-4f6a-af91-ab6d2a4d1648",
   "metadata": {},
   "source": [
    "Podemos ter também arrays booleanos (`bool`) e com strings. As strings têm tamanho fixo, pode ser um pouco inconveniente trabalhar com elas."
   ]
  },
  {
   "cell_type": "code",
   "execution_count": null,
   "id": "ebb60ef6-9678-4dff-ae63-d4d923433b26",
   "metadata": {},
   "outputs": [],
   "source": [
    "b = np.array([True, False, False, True])"
   ]
  },
  {
   "cell_type": "code",
   "execution_count": null,
   "id": "6ed415ab-e6ec-4e60-8ea7-a09ed1c0ef45",
   "metadata": {},
   "outputs": [],
   "source": [
    "b"
   ]
  },
  {
   "cell_type": "code",
   "execution_count": null,
   "id": "8a7082d0-c878-48d8-bc76-9a7679213e84",
   "metadata": {},
   "outputs": [],
   "source": [
    "b.dtype"
   ]
  },
  {
   "cell_type": "code",
   "execution_count": null,
   "id": "2cf8791d-b7bd-40af-a2ae-4b607dea7d87",
   "metadata": {},
   "outputs": [],
   "source": [
    "np.ones(5, dtype='bool')"
   ]
  },
  {
   "cell_type": "code",
   "execution_count": null,
   "id": "731640a1-3c6c-4052-99f1-57ed39560749",
   "metadata": {},
   "outputs": [],
   "source": [
    "c = np.array(['Hello', 'World', '!'])"
   ]
  },
  {
   "cell_type": "code",
   "execution_count": null,
   "id": "8bbde8e3-fc10-4051-bd82-b6b379b0a702",
   "metadata": {},
   "outputs": [],
   "source": [
    "c"
   ]
  },
  {
   "cell_type": "code",
   "execution_count": null,
   "id": "1cf6ae8c-df7e-4d0f-a1b8-1fafd0b06869",
   "metadata": {},
   "outputs": [],
   "source": [
    "c.dtype"
   ]
  },
  {
   "cell_type": "markdown",
   "id": "9de7af6c-9a16-4173-8715-02795e8f4b7e",
   "metadata": {},
   "source": [
    "## Aritmética de arrays\n",
    "\n",
    "Até agora vimos como arrays são contêiners muito convenientes quando tratamos de dados homogêneos. Se você nunca usou `numpy` ou linguagens como IDL e Matlab, o que veremos aqui vai te deixar de boca aberta.\n",
    "\n",
    "Quando fizems operações com arrays, tivemos que realizar os cálculos com cada elemento desses arrays. Geralmente a abordagem é fazer alguns laços indexando os arrays para ler e modificar os seus elementos. Logicamente não temos como fugir disso, mas podemos delegar esta tarefa para quem sabe iterar arrays de forma eficiente. As operações que veremos a seguir ocultam vários desses laços, que são executados em código compilado, geralmente Fortran ou C/C++, dependendo da biblioteca por trás das funções."
   ]
  },
  {
   "cell_type": "markdown",
   "id": "65d0dcff-82cd-431a-886a-b09611171916",
   "metadata": {},
   "source": [
    "### Aritmética básica\n",
    "\n",
    "As operações aritméticas do Python podem ser aplicadas aos arrays. Podem envolver array com array, ou array com escalar.\n",
    "\n",
    "#### Array com escalar\n",
    "\n",
    "Aplica a operação a cada elemento do array, e resulta em um array do mesmo shape."
   ]
  },
  {
   "cell_type": "code",
   "execution_count": null,
   "id": "b36fd2a9-d14f-4558-9a1b-dd7ca5255c92",
   "metadata": {},
   "outputs": [],
   "source": [
    "a = np.arange(10)"
   ]
  },
  {
   "cell_type": "code",
   "execution_count": null,
   "id": "38ea521e-7eac-427f-850c-2c69eb5077af",
   "metadata": {},
   "outputs": [],
   "source": [
    "a"
   ]
  },
  {
   "cell_type": "code",
   "execution_count": null,
   "id": "69c987c2-3c22-473b-8dc3-11bd0220ac21",
   "metadata": {},
   "outputs": [],
   "source": [
    "b = a + 1"
   ]
  },
  {
   "cell_type": "code",
   "execution_count": null,
   "id": "2f64799a-30f2-4101-9c85-8f6eb5e3ebb3",
   "metadata": {},
   "outputs": [],
   "source": [
    "b"
   ]
  },
  {
   "cell_type": "code",
   "execution_count": null,
   "id": "6e14f47b-2035-45df-ad5c-bcff4cb9e636",
   "metadata": {},
   "outputs": [],
   "source": [
    "2**a"
   ]
  },
  {
   "cell_type": "markdown",
   "id": "4d18f97a-a792-4999-8fc3-48d8abe41d57",
   "metadata": {},
   "source": [
    "Além de ser mais legível, a aritmética de arrays é muito mais rápida do que laços explícitos em Python."
   ]
  },
  {
   "cell_type": "code",
   "execution_count": null,
   "id": "91f87820-cdd8-424a-b5e6-05cf6fe1e083",
   "metadata": {},
   "outputs": [],
   "source": [
    "# Aritmética de arrays.\n",
    "%timeit a + 1"
   ]
  },
  {
   "cell_type": "code",
   "execution_count": null,
   "id": "1c31e13b-e845-4058-8190-4a5d5c61c67c",
   "metadata": {},
   "outputs": [],
   "source": [
    "# Laço explícito.\n",
    "b = np.zeros_like(a) # Array com zeros do mesmo tamanho e tipo de a.\n",
    "%timeit for i in a: b[i] = a[i] + 1"
   ]
  },
  {
   "cell_type": "markdown",
   "id": "0da71548-b003-4694-adfa-39360db0506b",
   "metadata": {},
   "source": [
    "A diferença é pouca quando o array é pequeno. Experimente mudar o tamanho do array `a` para 1000 ao invés de 10.\n",
    "\n",
    "#### Array com array\n",
    "\n",
    "As operações são feitas elemento por elemento."
   ]
  },
  {
   "cell_type": "code",
   "execution_count": null,
   "id": "b7197a15-4426-4bda-aff0-b9a6b3cc2e33",
   "metadata": {},
   "outputs": [],
   "source": [
    "b = np.arange(10)\n",
    "c = np.arange(10, 110, 10)"
   ]
  },
  {
   "cell_type": "code",
   "execution_count": null,
   "id": "aa082ccf-8af0-44c2-9e35-36f618097208",
   "metadata": {},
   "outputs": [],
   "source": [
    "print(c)\n",
    "print(b)\n",
    "print(c - b)"
   ]
  },
  {
   "cell_type": "markdown",
   "id": "c815ad3d-3e60-44be-bb25-6fd93a3e96e2",
   "metadata": {},
   "source": [
    "Podemos misturar muitas operações, exatamente como faríamos com escalares."
   ]
  },
  {
   "cell_type": "code",
   "execution_count": null,
   "id": "45357554-d6fe-4d3a-9506-5c9780b0644b",
   "metadata": {},
   "outputs": [],
   "source": [
    "d = 2**(b + 1) - c"
   ]
  },
  {
   "cell_type": "code",
   "execution_count": null,
   "id": "7b16f3f4-b456-4257-bb8b-27bd5286d6f9",
   "metadata": {},
   "outputs": [],
   "source": [
    "d"
   ]
  },
  {
   "cell_type": "markdown",
   "id": "6cd805ba-7cdb-45ba-9e1a-cbad7d3535ae",
   "metadata": {},
   "source": [
    "**Atenção:** Aritmética de arrays **não** é aritmética de matrizes! A multiplicação de dois arrays ocorre elemento a elemento. Quer dizer, para arrays bidimensionais, a operação `e = c * d` significa\n",
    "\n",
    "$$\n",
    "e_{ij} = c_{ij} \\times d_{ij}.\n",
    "$$"
   ]
  },
  {
   "cell_type": "code",
   "execution_count": null,
   "id": "0d0c7347-d0ff-4cee-bbf3-227484aafafe",
   "metadata": {},
   "outputs": [],
   "source": [
    "c = np.ones((3, 3))"
   ]
  },
  {
   "cell_type": "code",
   "execution_count": null,
   "id": "e2bea33f-631d-4d3b-8d6c-8ab3b50b232a",
   "metadata": {},
   "outputs": [],
   "source": [
    "c"
   ]
  },
  {
   "cell_type": "code",
   "execution_count": null,
   "id": "84f3baa4-f7d7-4a4e-a48f-faca9c5b1455",
   "metadata": {},
   "outputs": [],
   "source": [
    "d = np.diag(np.arange(3))"
   ]
  },
  {
   "cell_type": "code",
   "execution_count": null,
   "id": "b8dc628d-59bd-43c9-b245-bcddf8149fb3",
   "metadata": {},
   "outputs": [],
   "source": [
    "d"
   ]
  },
  {
   "cell_type": "code",
   "execution_count": null,
   "id": "2e55e9f4-9226-4335-9ec3-9a36bfe57180",
   "metadata": {},
   "outputs": [],
   "source": [
    "e = c * d"
   ]
  },
  {
   "cell_type": "code",
   "execution_count": null,
   "id": "8a394c0a-b829-44fa-b97d-f58f479b8191",
   "metadata": {},
   "outputs": [],
   "source": [
    "e"
   ]
  },
  {
   "cell_type": "markdown",
   "id": "7799494a-46bb-46d3-8a37-531731828a29",
   "metadata": {},
   "source": [
    "A multiplicação de matrizes\n",
    "\n",
    "$$\n",
    "f_{ij} = \\sum_k c_{ik}\\ d_{kj}\n",
    "$$\n",
    "\n",
    "pode ser feita usando a função `np.matmul()`."
   ]
  },
  {
   "cell_type": "code",
   "execution_count": null,
   "id": "3ce9026d-01a3-4c39-9728-0abf92686955",
   "metadata": {},
   "outputs": [],
   "source": []
  },
  {
   "cell_type": "code",
   "execution_count": null,
   "id": "80a3fc31-2c19-43de-87b6-d8bf070341b0",
   "metadata": {},
   "outputs": [],
   "source": [
    "f = np.matmul(c, d)"
   ]
  },
  {
   "cell_type": "markdown",
   "id": "0c6d0142-24d1-465c-83d0-c561d07ed4e7",
   "metadata": {},
   "source": [
    "#### Exercício 1\n",
    "\n",
    "Vamos calcular valores do polinômio de Legendre de quinto grau,\n",
    "\n",
    "$$\n",
    "P_5(x) = \\frac{1}{8} \\left(63 x^5 - 70 x^3 + 15 x \\right).\n",
    "$$\n",
    "\n",
    "Defina `x` como um array igualmente espaçado tal que $-1 \\leq x \\leq 1$, e calcule todos os valores de $P_5(x)$ usando aritmética de arrays numpy. Faça o gráfico da função."
   ]
  },
  {
   "cell_type": "code",
   "execution_count": null,
   "id": "77a10f1a-9019-4a64-a5ff-e3207133adb1",
   "metadata": {},
   "outputs": [],
   "source": []
  },
  {
   "cell_type": "markdown",
   "id": "fd61c6ca-3b47-4d02-a263-844de933744a",
   "metadata": {},
   "source": [
    "### Funções transcendentais\n",
    "\n",
    "Temos as várias funções transcendentais (e mais uma penca de funções de conveniência) presentes no pacote `math` em versão `numpy`, prontas para serem usadas junto com a aritmética de arrays."
   ]
  },
  {
   "cell_type": "code",
   "execution_count": null,
   "id": "f9c5b9aa-e7ae-4790-9f2a-e28f27d1cbae",
   "metadata": {},
   "outputs": [],
   "source": [
    "x = np.linspace(0, 2 * np.pi, 20)\n",
    "y = 5 * np.cos(x)"
   ]
  },
  {
   "cell_type": "code",
   "execution_count": null,
   "id": "1409f376-ad9d-4071-b537-0cf80e655223",
   "metadata": {},
   "outputs": [],
   "source": [
    "y"
   ]
  },
  {
   "cell_type": "code",
   "execution_count": null,
   "id": "07a650e1-fb72-4b9c-9d4f-8c9a9c83ebb4",
   "metadata": {},
   "outputs": [],
   "source": [
    "np.log(x)"
   ]
  },
  {
   "cell_type": "code",
   "execution_count": null,
   "id": "9c37774a-2952-415e-ba7d-5f803e4a4bf3",
   "metadata": {},
   "outputs": [],
   "source": [
    "np.exp(x)"
   ]
  },
  {
   "cell_type": "code",
   "execution_count": null,
   "id": "c3320abe-bf66-46de-ad16-3d068b6f5fad",
   "metadata": {},
   "outputs": [],
   "source": [
    "np.sqrt(x)"
   ]
  },
  {
   "cell_type": "markdown",
   "id": "72394084-48e1-4064-9261-f17eb83a4f67",
   "metadata": {},
   "source": [
    "#### Exercício 2\n",
    "\n",
    "Faça o gráfico de um oscilador amortecido, dado por\n",
    "\n",
    "$$\n",
    "x(t) = A\\,e^{-\\gamma t} \\cos \\omega t,\n",
    "$$\n",
    "\n",
    "onde $A = 1$, $\\gamma = 1$, e $\\omega = 10$."
   ]
  },
  {
   "cell_type": "code",
   "execution_count": null,
   "id": "412999dc-cfba-4b91-8494-46aefd0f73cd",
   "metadata": {},
   "outputs": [],
   "source": []
  },
  {
   "cell_type": "markdown",
   "id": "de522e05-15a0-4603-87fe-e1ef4da29be6",
   "metadata": {},
   "source": [
    "### Reduções\n",
    "\n",
    "Existem algumas operações que agem sobre arrays, mas retornam arrays menores, ou mesmo um escalar. Chamamos essas operações de *reduções*.\n",
    "\n",
    "#### Somatórios"
   ]
  },
  {
   "cell_type": "code",
   "execution_count": null,
   "id": "cc3f30b2-4817-42a7-a7e5-8412840a2e5f",
   "metadata": {},
   "outputs": [],
   "source": [
    "# Soma de todos os números de 1 a 100\n",
    "x = np.arange(1, 101)"
   ]
  },
  {
   "cell_type": "code",
   "execution_count": null,
   "id": "fc40c699-c061-40b3-9538-c10dad85c17a",
   "metadata": {},
   "outputs": [],
   "source": [
    "np.sum(x)"
   ]
  },
  {
   "cell_type": "markdown",
   "id": "4a577552-5a39-43e4-b72e-01ea43aaa791",
   "metadata": {},
   "source": [
    "Notação alternativa, usando o método `.sum()` dos arrays."
   ]
  },
  {
   "cell_type": "code",
   "execution_count": null,
   "id": "eb3dae13-6701-42fa-8c4e-00294e6a3ab8",
   "metadata": {},
   "outputs": [],
   "source": [
    "x.sum()"
   ]
  },
  {
   "cell_type": "markdown",
   "id": "ca34a378-c9e2-419c-9fe6-43c81b737632",
   "metadata": {},
   "source": [
    "Os somatórios podem ser feitos por linha ou coluna (ou por alguma dimensão maior, em arrays multidimensionais."
   ]
  },
  {
   "cell_type": "code",
   "execution_count": null,
   "id": "2ed5dff0-12b7-42af-a222-677e9d5747cb",
   "metadata": {},
   "outputs": [],
   "source": [
    "x = np.array([[1, 1], [2, 2]])"
   ]
  },
  {
   "cell_type": "code",
   "execution_count": null,
   "id": "649bcfa3-1a39-404a-ba81-ad822d7d72fa",
   "metadata": {},
   "outputs": [],
   "source": [
    "x"
   ]
  },
  {
   "cell_type": "code",
   "execution_count": null,
   "id": "f4116af9-4c56-4f1a-88f0-ea93fbe71f7a",
   "metadata": {},
   "outputs": [],
   "source": [
    "# Somar colunas, desaparece o eixo 0 (linhas)\n",
    "x.sum(axis=0)"
   ]
  },
  {
   "cell_type": "code",
   "execution_count": null,
   "id": "85e4b156-019f-4c5d-9cbd-7b75675bcbe1",
   "metadata": {},
   "outputs": [],
   "source": [
    "# Somar linhas, desaparece o eixo 1 (colunas)\n",
    "x.sum(axis=1)"
   ]
  },
  {
   "cell_type": "markdown",
   "id": "d8dfcb62-9fb5-45c2-be02-ea31505be98c",
   "metadata": {},
   "source": [
    "#### Extremos"
   ]
  },
  {
   "cell_type": "code",
   "execution_count": null,
   "id": "3bace316-aac6-4525-8f0a-ca309c0e45f7",
   "metadata": {},
   "outputs": [],
   "source": [
    "x = np.array([1, 3, 2])"
   ]
  },
  {
   "cell_type": "code",
   "execution_count": null,
   "id": "a478e697-6cc1-42f4-8b79-5f6a291117e8",
   "metadata": {},
   "outputs": [],
   "source": [
    "x.min()"
   ]
  },
  {
   "cell_type": "code",
   "execution_count": null,
   "id": "f0851b32-24c7-42a2-8a2f-16988b9a5d92",
   "metadata": {},
   "outputs": [],
   "source": [
    "x.max()"
   ]
  },
  {
   "cell_type": "code",
   "execution_count": null,
   "id": "adbcbdf3-76f5-4988-b891-83fc0b3ed37b",
   "metadata": {},
   "outputs": [],
   "source": [
    "x.argmin()  # índice do mínimo."
   ]
  },
  {
   "cell_type": "code",
   "execution_count": null,
   "id": "14525ff5-0e30-41b4-aa65-04aaee8e0e79",
   "metadata": {},
   "outputs": [],
   "source": [
    "x.argmax()  # índice do máximo."
   ]
  },
  {
   "cell_type": "markdown",
   "id": "f57544eb-c877-434d-9c91-45d9d28c875e",
   "metadata": {},
   "source": [
    "#### Estatística básica"
   ]
  },
  {
   "cell_type": "code",
   "execution_count": null,
   "id": "6a280bfd-a758-40bf-913f-1c9d753b903e",
   "metadata": {},
   "outputs": [],
   "source": [
    "x = np.array([1, 2, 3, 1])\n",
    "y = np.array([[1, 2, 3], [5, 6, 1]])"
   ]
  },
  {
   "cell_type": "code",
   "execution_count": null,
   "id": "a625bb8a-1a7d-48f5-b894-0869f011c81b",
   "metadata": {},
   "outputs": [],
   "source": [
    "# Média\n",
    "x.mean()"
   ]
  },
  {
   "cell_type": "code",
   "execution_count": null,
   "id": "266161f8-ea1f-4bd3-843a-a15204c567ab",
   "metadata": {},
   "outputs": [],
   "source": [
    "# Mediana\n",
    "np.median(x)"
   ]
  },
  {
   "cell_type": "code",
   "execution_count": null,
   "id": "9decc34b-a380-4cc5-b361-77a7ea76bfd5",
   "metadata": {
    "tags": []
   },
   "outputs": [],
   "source": [
    "# Desvio padrão\n",
    "x.std()"
   ]
  },
  {
   "cell_type": "markdown",
   "id": "47301f65-56c3-4009-906a-28a572c45e5f",
   "metadata": {},
   "source": [
    "Podemos selecionar sobre qual dimensão queremos a estatísica."
   ]
  },
  {
   "cell_type": "code",
   "execution_count": null,
   "id": "e849ecd7-8773-498d-b4d3-2ef686637a37",
   "metadata": {
    "tags": []
   },
   "outputs": [],
   "source": [
    "np.median(y, axis=1)"
   ]
  }
 ],
 "metadata": {
  "kernelspec": {
   "display_name": "Python 3 (ipykernel)",
   "language": "python",
   "name": "python3"
  },
  "language_info": {
   "codemirror_mode": {
    "name": "ipython",
    "version": 3
   },
   "file_extension": ".py",
   "mimetype": "text/x-python",
   "name": "python",
   "nbconvert_exporter": "python",
   "pygments_lexer": "ipython3",
   "version": "3.10.15"
  }
 },
 "nbformat": 4,
 "nbformat_minor": 5
}
