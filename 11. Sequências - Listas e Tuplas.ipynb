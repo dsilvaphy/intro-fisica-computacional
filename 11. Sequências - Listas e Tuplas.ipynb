{
 "cells": [
  {
   "cell_type": "markdown",
   "metadata": {},
   "source": [
    "# Sequências\n",
    "\n",
    "Seguimos estudando sequências. Lembrando, sequências são coleções de objetos com uma ordem definida. Aprendemos sobre strings na semana passada, agora vamos conhecer *tuplas* e *listas*."
   ]
  },
  {
   "cell_type": "markdown",
   "metadata": {},
   "source": [
    "## Tuplas\n",
    "\n",
    "Tuplas são sequências imutáveis, como strings. Seu tipo é `tuple`. Assim como strings, podem ser indexadas e fatiadas usando o operador `[]`.\n"
   ]
  },
  {
   "cell_type": "markdown",
   "metadata": {},
   "source": [
    "### Criando tuplas\n",
    "\n",
    "As tuplas são criadas fazendo uma sequência de objetos separadas por vírgulas. Geralmente se usa usando parênteses para \"cercar\" a tupla, mas nem sempre é necessário."
   ]
  },
  {
   "cell_type": "code",
   "execution_count": 1,
   "metadata": {},
   "outputs": [
    {
     "name": "stdout",
     "output_type": "stream",
     "text": [
      "(1, 2, 3)\n",
      "(4, 5, 6, 7)\n",
      "<class 'tuple'>\n"
     ]
    }
   ],
   "source": [
    "x = 1, 2, 3\n",
    "y = (4, 5, 6, 7)\n",
    "print(x)\n",
    "print(y)\n",
    "print(type(x))"
   ]
  },
  {
   "cell_type": "markdown",
   "metadata": {},
   "source": [
    "A tupla vazia é simplesmente um par de parênteses."
   ]
  },
  {
   "cell_type": "code",
   "execution_count": 2,
   "metadata": {},
   "outputs": [
    {
     "name": "stdout",
     "output_type": "stream",
     "text": [
      "()\n",
      "<class 'tuple'>\n"
     ]
    }
   ],
   "source": [
    "z = ()\n",
    "print(z)\n",
    "print(type(z))"
   ]
  },
  {
   "cell_type": "markdown",
   "metadata": {},
   "source": [
    "Para criar uma tupla de um único objeto, é preciso ter o cuidado de colocar uma vírgula."
   ]
  },
  {
   "cell_type": "code",
   "execution_count": 3,
   "metadata": {},
   "outputs": [
    {
     "name": "stdout",
     "output_type": "stream",
     "text": [
      "(999,)\n",
      "<class 'tuple'>\n"
     ]
    }
   ],
   "source": [
    "w = (999,)\n",
    "print(w)\n",
    "print(type(w))"
   ]
  },
  {
   "cell_type": "markdown",
   "metadata": {},
   "source": [
    "Como uma string é uma sequência, podemos \"converter\" strings para tuplas usando a função `tuple()`."
   ]
  },
  {
   "cell_type": "code",
   "execution_count": 4,
   "metadata": {},
   "outputs": [
    {
     "name": "stdout",
     "output_type": "stream",
     "text": [
      "('u', 'm', 'a', ' ', 's', 't', 'r', 'i', 'n', 'g')\n"
     ]
    }
   ],
   "source": [
    "s = 'uma string'\n",
    "t = tuple(s)\n",
    "print(t)"
   ]
  },
  {
   "cell_type": "markdown",
   "metadata": {},
   "source": [
    "### Estrutura de uma tupla\n",
    "\n",
    "Uma tupla pode conter qualquer tipo de objeto, mesmo tipos misturados. Isso inclui outras tuplas aninhadas!"
   ]
  },
  {
   "cell_type": "code",
   "execution_count": 5,
   "metadata": {},
   "outputs": [
    {
     "name": "stdout",
     "output_type": "stream",
     "text": [
      "('texto', 1.5, 42, ('outra', 'tupla'))\n"
     ]
    }
   ],
   "source": [
    "x = ('texto', 1.5, 42, ('outra', 'tupla'))\n",
    "print(x)"
   ]
  },
  {
   "cell_type": "markdown",
   "metadata": {},
   "source": [
    "Uma tupla tem um tamanho definido, que podemos descobrir usando a função `len()`. Note que o tamanho retornado é o número de objetos na tupla inicial, não são contados os objetos de tuplas aninhadas."
   ]
  },
  {
   "cell_type": "code",
   "execution_count": 6,
   "metadata": {},
   "outputs": [
    {
     "name": "stdout",
     "output_type": "stream",
     "text": [
      "4\n"
     ]
    }
   ],
   "source": [
    "print(len(x))"
   ]
  },
  {
   "cell_type": "markdown",
   "metadata": {},
   "source": [
    "### Acessando elementos de uma tupla\n",
    "\n",
    "Podemos acessar elementos individuais fazendo indexação."
   ]
  },
  {
   "cell_type": "code",
   "execution_count": 7,
   "metadata": {},
   "outputs": [
    {
     "name": "stdout",
     "output_type": "stream",
     "text": [
      "1.5\n",
      "outra\n"
     ]
    }
   ],
   "source": [
    "print(x[1])\n",
    "print(x[3][0])"
   ]
  },
  {
   "cell_type": "markdown",
   "metadata": {},
   "source": [
    "Assim como strings, não podemos acessar fora da faixa de valores de índices permitidos. Se uma tupla tem `N = len(t)` elementos, podemos indexar `t[i]` somente com `i = 0` até `i = N - 1`."
   ]
  },
  {
   "cell_type": "code",
   "execution_count": 8,
   "metadata": {},
   "outputs": [
    {
     "ename": "IndexError",
     "evalue": "tuple index out of range",
     "output_type": "error",
     "traceback": [
      "\u001b[0;31m---------------------------------------------------------------------------\u001b[0m",
      "\u001b[0;31mIndexError\u001b[0m                                Traceback (most recent call last)",
      "Cell \u001b[0;32mIn[8], line 2\u001b[0m\n\u001b[1;32m      1\u001b[0m \u001b[38;5;66;03m# Esta célula vai falhar!\u001b[39;00m\n\u001b[0;32m----> 2\u001b[0m \u001b[38;5;28mprint\u001b[39m(\u001b[43mx\u001b[49m\u001b[43m[\u001b[49m\u001b[38;5;241;43m10\u001b[39;49m\u001b[43m]\u001b[49m)\n",
      "\u001b[0;31mIndexError\u001b[0m: tuple index out of range"
     ]
    }
   ],
   "source": [
    "# Esta célula vai falhar!\n",
    "print(x[10])"
   ]
  },
  {
   "cell_type": "markdown",
   "metadata": {},
   "source": [
    "Também podemos fatiar uma tupla, como fazemos com strings."
   ]
  },
  {
   "cell_type": "code",
   "execution_count": 9,
   "metadata": {},
   "outputs": [
    {
     "name": "stdout",
     "output_type": "stream",
     "text": [
      "(13, 15, 17, 19, 21)\n"
     ]
    }
   ],
   "source": [
    "y = (10, 11, 12, 13, 14, 15, 16, 17, 18, 19, 20, 21)\n",
    "print(y[3:18:2])"
   ]
  },
  {
   "cell_type": "markdown",
   "metadata": {},
   "source": [
    "Finalmente, vale lembrar que tuplas são imutáveis, logo não se pode modificar um elemento de uma tupla, apenas criar uma tupla nova."
   ]
  },
  {
   "cell_type": "code",
   "execution_count": 10,
   "metadata": {
    "scrolled": true
   },
   "outputs": [
    {
     "ename": "TypeError",
     "evalue": "'tuple' object does not support item assignment",
     "output_type": "error",
     "traceback": [
      "\u001b[0;31m---------------------------------------------------------------------------\u001b[0m",
      "\u001b[0;31mTypeError\u001b[0m                                 Traceback (most recent call last)",
      "Cell \u001b[0;32mIn[10], line 2\u001b[0m\n\u001b[1;32m      1\u001b[0m \u001b[38;5;66;03m# Esta célula vai falhar.\u001b[39;00m\n\u001b[0;32m----> 2\u001b[0m \u001b[43my\u001b[49m\u001b[43m[\u001b[49m\u001b[38;5;241;43m0\u001b[39;49m\u001b[43m]\u001b[49m \u001b[38;5;241m=\u001b[39m \u001b[38;5;241m9\u001b[39m\n",
      "\u001b[0;31mTypeError\u001b[0m: 'tuple' object does not support item assignment"
     ]
    }
   ],
   "source": [
    "# Esta célula vai falhar.\n",
    "y[0] = 9"
   ]
  },
  {
   "cell_type": "markdown",
   "metadata": {},
   "source": [
    "### Desempacotando uma tupla\n",
    "\n",
    "Se queremos separar uma tupla, em uma variável para cada elemento, a forma ingênua seria:"
   ]
  },
  {
   "cell_type": "code",
   "execution_count": 11,
   "metadata": {},
   "outputs": [
    {
     "name": "stdout",
     "output_type": "stream",
     "text": [
      "Disciplina: Física Computacional\n",
      "Horário: 15h10min\n",
      "Local: Lab. Informática\n"
     ]
    }
   ],
   "source": [
    "x = ('Física Computacional', '15h10min', 'Lab. Informática')\n",
    "disciplina = x[0]\n",
    "horário = x[1]\n",
    "local = x[2]\n",
    "\n",
    "print(f'''Disciplina: {disciplina}\n",
    "Horário: {horário}\n",
    "Local: {local}''')"
   ]
  },
  {
   "cell_type": "markdown",
   "metadata": {},
   "source": [
    "O *desempacotamento* é uma forma resumida de fazer essa separação."
   ]
  },
  {
   "cell_type": "code",
   "execution_count": 12,
   "metadata": {},
   "outputs": [
    {
     "name": "stdout",
     "output_type": "stream",
     "text": [
      "Disciplina: Física Computacional\n",
      "Horário: 15h10min\n",
      "Local: Lab. Informática\n"
     ]
    }
   ],
   "source": [
    "x = ('Física Computacional', '15h10min', 'Lab. Informática')\n",
    "disciplina, horário, local = x\n",
    "\n",
    "print(f'''Disciplina: {disciplina}\n",
    "Horário: {horário}\n",
    "Local: {local}''')"
   ]
  },
  {
   "cell_type": "markdown",
   "metadata": {},
   "source": [
    "Apenas precisamos nos certificar que o número de elementos da tupla coincide com o número de variáveis no lado esquerdo da atribuição. Na verdade, a própria variável `x` é redundante, podemos fazer diretamente"
   ]
  },
  {
   "cell_type": "code",
   "execution_count": 13,
   "metadata": {},
   "outputs": [
    {
     "name": "stdout",
     "output_type": "stream",
     "text": [
      "Disciplina: Física Computacional\n",
      "Horário: 15h10min\n",
      "Local: Lab. Informática\n"
     ]
    }
   ],
   "source": [
    "disciplina, horário, local = 'Física Computacional', '15h10min', 'Lab. Informática'\n",
    "\n",
    "print(f'''Disciplina: {disciplina}\n",
    "Horário: {horário}\n",
    "Local: {local}''')"
   ]
  },
  {
   "cell_type": "markdown",
   "metadata": {},
   "source": [
    "#### Exercício 1\n",
    "\n",
    "Um objeto teve sua posição medida experimentalmente muitas vezes. Calcule a posição média do objeto, dada por\n",
    "\n",
    "$$\n",
    "\\bar{x} = \\frac 1 N \\sum_{i=0}^{N-1} x_i.\n",
    "$$"
   ]
  },
  {
   "cell_type": "code",
   "execution_count": 14,
   "metadata": {},
   "outputs": [
    {
     "name": "stdout",
     "output_type": "stream",
     "text": [
      "Média = 29.48\n"
     ]
    }
   ],
   "source": [
    "posição = (28.5, 31.8, 30.1, 28.9, 27.1, 30.5)\n",
    "i = 0\n",
    "soma = 0.0\n",
    "while i < len(posição):\n",
    "    soma += posição[i]\n",
    "    i += 1\n",
    "média = soma / len(posição)\n",
    "print(f'Média = {média:.2f}')"
   ]
  },
  {
   "cell_type": "markdown",
   "metadata": {},
   "source": [
    "## Listas\n",
    "\n",
    "As listas são coleções de tipos variados como as tuplas. Porém, elas são mutáveis, quer dizer, podemos adicionar, remover ou modificar elementos de uma lista.\n",
    "\n",
    "O acesso aos elementos é feito do mesmo jeito, com indexação ou desempacotamento. O tamanho de uma lista também pode ser descoberto com a função `len()`. Mas, no caso de uma lista, esse tamanho pode variar."
   ]
  },
  {
   "cell_type": "markdown",
   "metadata": {},
   "source": [
    "### Criando uma lista\n",
    "\n",
    "Podemos criar uma lista de forma similar a uma tupla, mas usamos colchetes em vez de parênteses."
   ]
  },
  {
   "cell_type": "code",
   "execution_count": 15,
   "metadata": {},
   "outputs": [
    {
     "name": "stdout",
     "output_type": "stream",
     "text": [
      "['a', 'b', 'c', 'd', 'e', 'f', 'g']\n",
      "<class 'list'>\n"
     ]
    }
   ],
   "source": [
    "l = ['a', 'b', 'c', 'd', 'e', 'f', 'g']\n",
    "print(l)\n",
    "print(type(l))"
   ]
  },
  {
   "cell_type": "markdown",
   "metadata": {},
   "source": [
    "Lista vazia:"
   ]
  },
  {
   "cell_type": "code",
   "execution_count": 16,
   "metadata": {},
   "outputs": [
    {
     "name": "stdout",
     "output_type": "stream",
     "text": [
      "[]\n",
      "<class 'list'>\n"
     ]
    }
   ],
   "source": [
    "lista_vazia = []\n",
    "print(lista_vazia)\n",
    "print(type(lista_vazia))"
   ]
  },
  {
   "cell_type": "markdown",
   "metadata": {},
   "source": [
    "Por serem coleções, strings e tuplas podem ser convertidas a listas."
   ]
  },
  {
   "cell_type": "code",
   "execution_count": 17,
   "metadata": {},
   "outputs": [
    {
     "name": "stdout",
     "output_type": "stream",
     "text": [
      "['a', 'b', 'c', 'd', 'e']\n"
     ]
    }
   ],
   "source": [
    "letras = list('abcde')\n",
    "print(letras)"
   ]
  },
  {
   "cell_type": "code",
   "execution_count": 18,
   "metadata": {},
   "outputs": [
    {
     "name": "stdout",
     "output_type": "stream",
     "text": [
      "(4, 5, 'meia dúzia')\n",
      "[4, 5, 'meia dúzia']\n"
     ]
    }
   ],
   "source": [
    "números = (4, 5, 'meia dúzia')\n",
    "print(números)\n",
    "l = list(números)\n",
    "print(l)"
   ]
  },
  {
   "cell_type": "markdown",
   "metadata": {},
   "source": [
    "Claro, podemos converter uma lista a uma tupla."
   ]
  },
  {
   "cell_type": "code",
   "execution_count": 19,
   "metadata": {},
   "outputs": [
    {
     "name": "stdout",
     "output_type": "stream",
     "text": [
      "['a', 'b', 'c', 'd', 'e']\n",
      "('a', 'b', 'c', 'd', 'e')\n"
     ]
    }
   ],
   "source": [
    "print(letras)\n",
    "letras_tuple = tuple(letras)\n",
    "print(letras_tuple)"
   ]
  },
  {
   "cell_type": "markdown",
   "metadata": {},
   "source": [
    "### Modificando uma lista\n",
    "\n",
    "As listas são objetos muito versáteis. Podemos adicionar ou remover elementos em qualquer posição, e também podemos substituir um elemento qualquer."
   ]
  },
  {
   "cell_type": "markdown",
   "metadata": {},
   "source": [
    "#### substituir elementos\n",
    "\n",
    "Para substituir, basta fazer uma atribuição ao elemento."
   ]
  },
  {
   "cell_type": "code",
   "execution_count": 20,
   "metadata": {},
   "outputs": [
    {
     "name": "stdout",
     "output_type": "stream",
     "text": [
      "['A', 'b', 'c', 'd', 'e', 'f', 'g', 'h', 'i', 'j']\n"
     ]
    }
   ],
   "source": [
    "l = list('abcdefghij')\n",
    "l[0] = 'A'\n",
    "print(l)"
   ]
  },
  {
   "cell_type": "markdown",
   "metadata": {},
   "source": [
    "Podemos usar slices, mas o resultado pode nem sempre ser intuitivo. Experimente mudar a faixa de valores, ou mesmo usar uma outra lista ou tupla do lado direito da atribuição."
   ]
  },
  {
   "cell_type": "code",
   "execution_count": 21,
   "metadata": {},
   "outputs": [
    {
     "name": "stdout",
     "output_type": "stream",
     "text": [
      "['A', 'f', 'g', 'h', 'i', 'j']\n"
     ]
    }
   ],
   "source": [
    "l = list('abcdefghij')\n",
    "l[0:5] = 'A'\n",
    "print(l)"
   ]
  },
  {
   "cell_type": "markdown",
   "metadata": {},
   "source": [
    "#### Adicionar elementos\n",
    "\n",
    "Lembre que objetos em python podem ter funções embutidas, chamadas *métodos*. São funções que agem diretamente sobre o objeto. No caso das listas, existe o método `insert()` para inserir um elemento numa posição arbitrária. Para chamar um método, usamos o operador `.` seguido da chamada do método. Por exemplo, vamos inserir uma letra antes do elemento de índice 1 (o segundo elemento)."
   ]
  },
  {
   "cell_type": "code",
   "execution_count": 22,
   "metadata": {},
   "outputs": [
    {
     "name": "stdout",
     "output_type": "stream",
     "text": [
      "['alfa', 'beta', 'gama']\n"
     ]
    }
   ],
   "source": [
    "l = ['alfa', 'gama']\n",
    "l.insert(1, 'beta')\n",
    "print(l)"
   ]
  },
  {
   "cell_type": "markdown",
   "metadata": {},
   "source": [
    "É muito comum adicionarmos elementos ao final de uma lista."
   ]
  },
  {
   "cell_type": "code",
   "execution_count": 23,
   "metadata": {},
   "outputs": [
    {
     "name": "stdout",
     "output_type": "stream",
     "text": [
      "['alfa', 'beta', 'gama', 'delta']\n"
     ]
    }
   ],
   "source": [
    "l.insert(len(l), 'delta')\n",
    "print(l)"
   ]
  },
  {
   "cell_type": "markdown",
   "metadata": {},
   "source": [
    "Existe o método `append()` para deixar essa operação mais legível."
   ]
  },
  {
   "cell_type": "code",
   "execution_count": 24,
   "metadata": {},
   "outputs": [
    {
     "name": "stdout",
     "output_type": "stream",
     "text": [
      "['alfa', 'beta', 'gama', 'delta', 'epsilon']\n"
     ]
    }
   ],
   "source": [
    "l.append('epsilon')\n",
    "print(l)"
   ]
  },
  {
   "cell_type": "markdown",
   "metadata": {},
   "source": [
    "#### Remover elementos\n",
    "\n",
    "Para remover um elemento de uma lista, usamos a instrução `del` seguida do elemento da lista."
   ]
  },
  {
   "cell_type": "code",
   "execution_count": 25,
   "metadata": {},
   "outputs": [
    {
     "name": "stdout",
     "output_type": "stream",
     "text": [
      "['alfa', 'beta', 'gama', 'delta', 'epsilon']\n",
      "['alfa', 'beta', 'delta', 'epsilon']\n"
     ]
    }
   ],
   "source": [
    "print(l)\n",
    "del l[2]\n",
    "print(l)"
   ]
  },
  {
   "cell_type": "markdown",
   "metadata": {},
   "source": [
    "O método `pop()` remove um elemento e retorna esse valor."
   ]
  },
  {
   "cell_type": "code",
   "execution_count": 26,
   "metadata": {},
   "outputs": [
    {
     "name": "stdout",
     "output_type": "stream",
     "text": [
      "epsilon\n",
      "['alfa', 'beta', 'delta']\n"
     ]
    }
   ],
   "source": [
    "x = l.pop()\n",
    "print(x)\n",
    "print(l)"
   ]
  },
  {
   "cell_type": "markdown",
   "metadata": {},
   "source": [
    "Por padrão `pop()` remove o último elemento, mas podemos especificar um índice"
   ]
  },
  {
   "cell_type": "code",
   "execution_count": 27,
   "metadata": {},
   "outputs": [
    {
     "name": "stdout",
     "output_type": "stream",
     "text": [
      "alfa\n",
      "['beta', 'delta']\n"
     ]
    }
   ],
   "source": [
    "primeiro = l.pop(0)\n",
    "print(primeiro)\n",
    "print(l)"
   ]
  },
  {
   "cell_type": "markdown",
   "metadata": {},
   "source": [
    "Podemos transformar uma lista de volta em uma string, se todos os seus elementos forem strings. O jeito não é muito elegante, mas é o indicado."
   ]
  },
  {
   "cell_type": "code",
   "execution_count": 28,
   "metadata": {},
   "outputs": [
    {
     "name": "stdout",
     "output_type": "stream",
     "text": [
      "['J', 'o', 'h', 'n', ' ', 'C', 'l', 'e', 'e', 's', 'e']\n"
     ]
    }
   ],
   "source": [
    "nome = 'john cleese'\n",
    "l = list(nome)\n",
    "l[0] = 'J'\n",
    "l[5] = 'C'\n",
    "print(l)"
   ]
  },
  {
   "cell_type": "code",
   "execution_count": 29,
   "metadata": {},
   "outputs": [
    {
     "name": "stdout",
     "output_type": "stream",
     "text": [
      "John Cleese\n"
     ]
    }
   ],
   "source": [
    "# o método x.join(y) junta todos os elementos\n",
    "# da lista y numa string, colocando o separador x\n",
    "# entre os elementos.\n",
    "nome_capitalizado = ''.join(l)\n",
    "print(nome_capitalizado)"
   ]
  },
  {
   "cell_type": "markdown",
   "metadata": {},
   "source": [
    "#### Exercício 2\n",
    "\n",
    "**a.** Modifique o programa do exercício 1 para que o usuário digite uma quantidade arbitrária (sem um quantidade predefinida) de medidas de posição, e essas medidas fiquem armazenadas numa lista. Use uma string vazia para sinalizar que a entrada de lista de medidas terminou."
   ]
  },
  {
   "cell_type": "code",
   "execution_count": 30,
   "metadata": {},
   "outputs": [
    {
     "name": "stdin",
     "output_type": "stream",
     "text": [
      "Digite a medida 1\n",
      "Digite a medida 2\n",
      "Digite a medida 3\n",
      "Digite a medida \n"
     ]
    },
    {
     "name": "stdout",
     "output_type": "stream",
     "text": [
      "Acabaram as medidas.\n",
      "Média = 2.00\n"
     ]
    }
   ],
   "source": [
    "posição = []\n",
    "i = 0\n",
    "while True:\n",
    "    m = input('Digite a medida')\n",
    "    if m == '':\n",
    "        print('Acabaram as medidas.')\n",
    "        break\n",
    "    posição.append(float(m))\n",
    "\n",
    "i = 0\n",
    "soma = 0.0\n",
    "while i < len(posição):\n",
    "    soma += posição[i]\n",
    "    i += 1\n",
    "média = soma / len(posição)\n",
    "print(f'Média = {média:.2f}')"
   ]
  },
  {
   "cell_type": "markdown",
   "metadata": {},
   "source": [
    "**b.** Calcule agora o desvio padrão das medidas, dado por\n",
    "\n",
    "$$\n",
    "\\sigma^2 = \\frac 1 N \\sum_{i=0}^{N-1} (x_i - \\bar{x})^2.\n",
    "$$"
   ]
  },
  {
   "cell_type": "code",
   "execution_count": 31,
   "metadata": {},
   "outputs": [
    {
     "name": "stdout",
     "output_type": "stream",
     "text": [
      "Desvio padrão = 0.82\n"
     ]
    }
   ],
   "source": [
    "i = 0\n",
    "soma2 = 0.0\n",
    "while i < len(posição):\n",
    "    soma2 += (posição[i] - média)**2\n",
    "    i += 1\n",
    "desv_padrão = (soma2 / len(posição))**0.5\n",
    "print(f'Desvio padrão = {desv_padrão:.2f}')"
   ]
  },
  {
   "cell_type": "markdown",
   "metadata": {},
   "source": [
    "## Usando laços `for`\n",
    "\n",
    "O laço `while` pode resolver todos os nossos problemas de repetição. Porém, já conseguimos reparar que há um certo padrão quando queremos iterar todos os elementos de uma sequência. Seguindo o estilo do Python, existe uma forma mais elegante e resumida de iterar uma sequência, usando um laço `for`. Considere um exemplo onde queremos mostrar cada elemento de uma lista (ou tupla) em uma linha."
   ]
  },
  {
   "cell_type": "code",
   "execution_count": 32,
   "metadata": {},
   "outputs": [
    {
     "name": "stdout",
     "output_type": "stream",
     "text": [
      "10\n",
      "23\n",
      "93\n",
      "33\n",
      "80\n",
      "37\n"
     ]
    }
   ],
   "source": [
    "quantidades = [10, 23, 93, 33, 80, 37]\n",
    "i = 0\n",
    "while i < len(quantidades):\n",
    "    print(quantidades[i])\n",
    "    i += 1"
   ]
  },
  {
   "cell_type": "markdown",
   "metadata": {},
   "source": [
    "Vejamos como fica usando a sintaxe do `for`."
   ]
  },
  {
   "cell_type": "code",
   "execution_count": 33,
   "metadata": {},
   "outputs": [
    {
     "name": "stdout",
     "output_type": "stream",
     "text": [
      "10\n",
      "23\n",
      "93\n",
      "33\n",
      "80\n",
      "37\n"
     ]
    }
   ],
   "source": [
    "quantidades = [10, 23, 93, 33, 80, 37]\n",
    "for q in quantidades:\n",
    "    print(q)"
   ]
  },
  {
   "cell_type": "markdown",
   "metadata": {},
   "source": [
    "Esta sintaxe é muito mais conveniente e segura do que usar um `while`. Quantas vezes você já ficou \"pendurado\" num laço infinito porque esqueceu de incrementar o contador? Ou quantas vezes errou o cálculo ou a comparação do índice e deixou o último elemento de fora? Tudo isso é feito de forma automática com `for`, quando queremos iterar todos os elementos de uma sequência."
   ]
  },
  {
   "cell_type": "markdown",
   "metadata": {},
   "source": [
    "#### Exercício 3\n",
    "\n",
    "Refaça o exercício 2, mas agora use um laço `for` para calcular a média e o desvio padrão. Reutilize o código de entrada de dados."
   ]
  },
  {
   "cell_type": "code",
   "execution_count": 35,
   "metadata": {},
   "outputs": [
    {
     "name": "stdout",
     "output_type": "stream",
     "text": [
      "Média = 2.00, desv. padrão = 0.82\n"
     ]
    }
   ],
   "source": [
    "soma = 0.0\n",
    "for xi in posição:\n",
    "    soma += xi\n",
    "média = soma / len(posição)\n",
    "\n",
    "soma2 = 0.0\n",
    "for xi in posição:\n",
    "    soma2 += (xi - média)**2\n",
    "\n",
    "desv_padrão = (soma2 / len(posição))**0.5\n",
    "\n",
    "print(f'Média = {média:.2f}, desv. padrão = {desv_padrão:.2f}')"
   ]
  }
 ],
 "metadata": {
  "kernelspec": {
   "display_name": "Python 3 (ipykernel)",
   "language": "python",
   "name": "python3"
  },
  "language_info": {
   "codemirror_mode": {
    "name": "ipython",
    "version": 3
   },
   "file_extension": ".py",
   "mimetype": "text/x-python",
   "name": "python",
   "nbconvert_exporter": "python",
   "pygments_lexer": "ipython3",
   "version": "3.10.15"
  }
 },
 "nbformat": 4,
 "nbformat_minor": 4
}
