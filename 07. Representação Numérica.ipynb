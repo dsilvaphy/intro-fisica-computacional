{
 "cells": [
  {
   "cell_type": "markdown",
   "metadata": {
    "tags": []
   },
   "source": [
    "# Representação binária de números\n",
    "\n",
    "Veremos aqui como funciona a representação binária de números inteiros e fracionários. Também vamos aprender como essas operações podem ser efetuadas através de operações usando lógica booleana."
   ]
  },
  {
   "cell_type": "markdown",
   "metadata": {
    "tags": []
   },
   "source": [
    "## Números inteiros\n",
    "\n",
    "Representamos um número inteiro com algarismos de 0 a 9. Usamos uma *notação posicional* de base 10, onde a posição do algarismo diz por qual potência de 10 ele está multiplicado. Esse sistema está tão entranhado no nosso pensamento que muitas vezes não nos damos conta."
   ]
  },
  {
   "cell_type": "markdown",
   "metadata": {
    "tags": []
   },
   "source": [
    "Seja o número 215. No sistema decimal, entendemos que este número contém 2 centenas, 1 dezena e 5 unidades. Isto é,\n",
    "\n",
    "$$\n",
    "215 = 2 \\times 10^2 + 1 \\times 10^1 + 5 \\times 10^0.\n",
    "$$\n",
    "\n",
    "Este número também pode ser expresso em outras bases. Estamos interessados particularmente na base 2, também conhecida como base binária, que usa os algarismos 0 e 1. Neste caso, pode-se verificar facilmente que.\n",
    "\n",
    "$$\n",
    "215 = 1 \\times 2^7 + 1 \\times 2^6 + 0 \\times 2^5 + \n",
    "1 \\times 2^4 + 0 \\times 2^3 + 1 \\times 2^2 + 1 \\times 2^1 + 1 \\times 2^0.\n",
    "$$"
   ]
  },
  {
   "cell_type": "markdown",
   "metadata": {},
   "source": [
    "Assim como fizemos com a base 10, podemos escrever o número 215 em base 2 de forma resumida, usando a notação posicional,\n",
    "\n",
    "$$\n",
    "215_{10} = 11010111_2\n",
    "$$\n",
    "\n",
    "onde os subscritos 10 e 2 indicam a base utilizada. A conversão de base pode ser um pouco tediosa, veja um [exemplo da Khan Academy](https://www.youtube.com/watch?v=gOXO5H4i18Y)."
   ]
  },
  {
   "cell_type": "markdown",
   "metadata": {
    "tags": []
   },
   "source": [
    "### Adição\n",
    "\n",
    "Visto que números em representação binária são definidos da mesma forma que em representação decimal, é de se esperar que as operações aritméticas funcionem todas de modo semelhante. De fato, para fazer uma adição, usamos a mesma regra aprendida na escola. Vamos somar, por exemplo, $23 + 26$. Em binário:\n",
    "\n",
    "$$\n",
    "\\begin{array}{cccccc}\n",
    "      & ^11 & ^10 & ^11 & 1 & 1_2 \\\\\n",
    "    + & 1 & 1 & 0 & 1 & 0_2 \\\\\n",
    "    \\hline\n",
    "    1 & 1 & 0 & 0 & 0 & 1_2 \\\\\n",
    "\\end{array}\n",
    "$$"
   ]
  },
  {
   "cell_type": "code",
   "execution_count": null,
   "metadata": {},
   "outputs": [],
   "source": [
    "A = 0b10111\n",
    "B = 0b11010\n",
    "C = A + B\n",
    "print(A)\n",
    "print(B)\n",
    "print(C)\n",
    "print(0b110001)"
   ]
  },
  {
   "cell_type": "markdown",
   "metadata": {
    "tags": []
   },
   "source": [
    "É preciso atentar para o conceito de \"vai um\", ou *carry*. Por exemplo, se fizermos a soma em decimal, no primeiro passo, $8+3 = 11$, escrevemos $1$ e guardamos um *carry* de $1$. De forma similar, em binário, $1_2 + 1_2 = 10_2$, então escrevemos $0$, e guardamos um *carry* de $1$. É mais instrutivo ver uma soma sendo feita passo a passo, como [neste vídeo da khan Academy](https://www.youtube.com/watch?v=NFTG-VGkik8)."
   ]
  },
  {
   "cell_type": "markdown",
   "metadata": {
    "tags": []
   },
   "source": [
    "#### Adição usando operações lógicas\n",
    "\n",
    "Um conjunto de algarismos binários em notação posicional pode ser facilmente representado como um conjunto de bits, isto é, um conjunto de variáveis lógicas. Com 8 bits, podemos representar números de $0$ até $255$. Neste caso, é possível construir uma função booleana que calcule a soma de dois bits, um de cada número sendo somado. Vamos ver todas as possibilidades da soma entre dois números de 1 bit, $A$ e $B$ (o operador $+$ aqui significa *soma*).\n",
    "\n",
    "$$\n",
    "\\begin{array}{cc|c}\n",
    "    A & B & A+B \\\\\n",
    "    \\hline\n",
    "    0 & 0 & 0 \\\\\n",
    "    0 & 1 & 1 \\\\\n",
    "    1 & 0 & 1 \\\\\n",
    "    1 & 1 & 2 = 10_2 \\\\\n",
    "\\end{array}\n",
    "$$"
   ]
  },
  {
   "cell_type": "markdown",
   "metadata": {
    "tags": []
   },
   "source": [
    "Essa tabela se parece muito com uma tabela verdade, porém o resultado é um número que utiliza dois bits. Quando fazemos uma soma nós separamos estes bits no valor da soma e no *carry*, tal que o número fica na forma $CS_2$. Vamos então construir uma tabela verdade para $S$ e $C$ em função de $A$ e $B$.\n",
    "\n",
    "$$\n",
    "\\begin{array}{cc|cc}\n",
    "    A & B & C & S \\\\\n",
    "    \\hline\n",
    "    0 & 0 & 0 & 0 \\\\\n",
    "    0 & 1 & 0 & 1 \\\\\n",
    "    1 & 0 & 0 & 1 \\\\\n",
    "    1 & 1 & 1 & 0 \\\\\n",
    "\\end{array}\n",
    "$$"
   ]
  },
  {
   "cell_type": "markdown",
   "metadata": {
    "tags": []
   },
   "source": [
    "A função $C$ é simplesmente a função *E* entre $A$ e $B$. Já $S$ é uma função um pouco mais complicada (também conhecida como *OU exclusivo*):\n",
    "\n",
    "\\begin{align}\n",
    "A \\oplus B &= (A + B) \\cdot \\overline{(A \\cdot B)}\n",
    "\\end{align}"
   ]
  },
  {
   "cell_type": "markdown",
   "metadata": {
    "tags": []
   },
   "source": [
    "Neste caso, as saídas são\n",
    "\n",
    "\\begin{align}\n",
    "S &= (A + B) \\cdot \\overline{(A \\cdot B)} \\\\\n",
    "C &= A \\cdot B.\n",
    "\\end{align}"
   ]
  },
  {
   "cell_type": "markdown",
   "metadata": {
    "tags": []
   },
   "source": [
    "Este é apenas um meio-somador. Não levamos em conta o *carry* que pode vir da soma anterior, deixando a função ainda mais complicada. Mas, o recado importante é que, para qualquer operação entre números binários, podemos sempre criar uma tabela verdade e gerar a função booleana que a implementa. É meio trabalhoso, mas no final temos:\n",
    "\n",
    "\\begin{align}\n",
    "S &= A \\oplus B \\oplus C_\\mathrm{in} \\\\\n",
    "C_\\mathrm{out} &= A \\cdot B + C_\\mathrm{in} \\cdot (A \\oplus B)\n",
    "\\end{align}\n",
    "\n",
    "onde $C_\\mathrm{in}$ é o *carry* da soma anterior e $C_\\mathrm{out}$ é o *carry* resultante da soma atual."
   ]
  },
  {
   "cell_type": "markdown",
   "metadata": {},
   "source": [
    "### Números negativos\n",
    "\n",
    "Até agora representamos apenas números naturais, tanto em decimal quanto em binário. Entretanto, precisamos conseguir representar números negativos para poder realizar a operação de subtração. Podemos ficar tentados a usar um bit para representar o sinal, por exemplo $0$ é positivo, e $1$ é negativo. Esta notação tem muitos problemas, e requer modificações severas nas funções lógicas para funcionar corretamente."
   ]
  },
  {
   "cell_type": "markdown",
   "metadata": {},
   "source": [
    "Em vez disso, usamos uma notação conhecida como *complemento de 2*. Essa notação está relacionada a [números p-ádicos](https://www.youtube.com/watch?v=tRaq4aYPzCc). ([Link obrigatório do Numberphile](https://www.youtube.com/watch?v=Sgupo9DLMGs).)"
   ]
  },
  {
   "cell_type": "markdown",
   "metadata": {},
   "source": [
    "Como determinar o complemento de 2 de um número? Primeiro, temos que fixar o número de bits de uma número. Para tomar o valor negativo de um número, invertemos todos os seus bits, e somamos $1$ a ele. Por exemplo, $-7$, representado em 5 bits. Começamos com $7 = 00111_2$. Invertendo os bits, temos $11000_2$. Somamos $1$, e ficamos com $11001$, que representa $-7$. Veja que $7 + (-7) = 0$, e de fato,\n",
    "\n",
    "$$\n",
    "\\begin{array}{cccccc}\n",
    "      & 0 & 0 & 1 & 1 & 1_2 \\\\\n",
    "    + & 1 & 1 & 0 & 0 & 1_2 \\\\\n",
    "    \\hline\n",
    "    \\color{gray}{1} & 0 & 0 & 0 & 0 & 0_2 \\\\\n",
    "\\end{array}\n",
    "$$"
   ]
  },
  {
   "cell_type": "markdown",
   "metadata": {},
   "source": [
    "O algarismo $1$ está em cinza à esquerda porque foi descartado dentro dos 5 bits da nossa representação. Assim, o resultado é o esperado, zero. Definimos então números negativos como o complemento de 2, e a operação de subtração como\n",
    "\n",
    "$$\n",
    "x - y = x + (-y).\n",
    "$$"
   ]
  },
  {
   "cell_type": "markdown",
   "metadata": {
    "tags": []
   },
   "source": [
    "### Multiplicação e divisão\n",
    "\n",
    "A multiplicação de inteiros pode ser implementada como uma [soma repetida](https://www.youtube.com/watch?v=FeSdyNElWME). Mesmo a técnica aprendida na escola pode ser aplicada em binário como fizemos com a adição, com a vantagem de não precisar decorar a tabuada. O mesmo acontece com a divisão, o [algoritmo é o mesmo](https://www.youtube.com/watch?v=9d92h9HKflE) que no caso decimal.\n",
    "\n",
    "Vamos ver, entretanto um caso especial. Um número em base decimal, multiplicado por $10$, tem seus algarismos deslocados para a esquerda, preenchendo com $0$ o algarismo menos significativo. A divisão por $10$ tem um efeito semelhante, porém deslocando à direita e descartando o algarismo menos significativo.\n",
    "\n",
    "O mesmo ocorre quando multiplicamos ou dividimos um número binário por $2$. Isto é, para multiplicar um número binário por $2$, basta deslocar os bits para a esquerda e preencher o bit menos significativo com zero."
   ]
  },
  {
   "cell_type": "markdown",
   "metadata": {},
   "source": [
    "## Números fracionários\n",
    "\n",
    "Quando fazemos uma divisão de um número binário por $2$, $4$, ou qualquer potência $2^n$, deslocamos os bits para a direita. No caso de inteiros, descartamos os bits menos significativos. Mas, e se quisermos manter a parte fracionária? Lembrando, no caso de números decimais, ao dividir um número por 10, o algarismo das unidades \"passa para o outro lado da vírgula\". Por exemplo:\n",
    "\n",
    "\\begin{align}\n",
    "23 &= 2 \\times 10^{1} + 3 \\times 10^{0} \\\\\n",
    "\\frac{23}{10} = 2{,}3 &= 2 \\times 10^{0} + 3 \\times 10^{-1}.\n",
    "\\end{align}"
   ]
  },
  {
   "cell_type": "markdown",
   "metadata": {},
   "source": [
    "O mesmo acontece em binário:\n",
    "\n",
    "\\begin{align}\n",
    "5_{10} = 101_2 &= 1 \\times 2^2 + 0 \\times 2^1 + 1 \\times 2^0 \\\\\n",
    "\\frac{5_{10}}{2_{10}} = \\frac{101_2}{10_2} = 10{,}1_2 &= 1 \\times 2^1 + 0 \\times 2^0 + 1 \\times 2^{-1} \n",
    "\\end{align}"
   ]
  },
  {
   "cell_type": "markdown",
   "metadata": {},
   "source": [
    "Veja que algumas frações, que são representadas como decimais exatos, não são exatas em binário, por exemplo, $0{,}1_{10}.$\n",
    "\n",
    "\\begin{align}\n",
    "0{,}1_{10} &= \\frac{1}{10_{10}} \\\\\n",
    "&= \\frac{1}{1010_{2}} \\\\\n",
    "&= 0{,}00011001100110011\\ldots \n",
    "\\end{align}"
   ]
  },
  {
   "cell_type": "markdown",
   "metadata": {},
   "source": [
    "### Representação de ponto fixo\n",
    "\n",
    "Em princípio, nada nos impede de definir, em um conjunto de bits usado para representar um número, o local onde fica a vírgula. Basta que sejamos consistentes com a notação: todos os números ficam com a vírgula no mesmo lugar. Desta forma, os inteiros são um caso particular, com a vírgula à direita do bit menos significativo."
   ]
  },
  {
   "cell_type": "markdown",
   "metadata": {},
   "source": [
    "Porém, ter a vírgula num local fixo traz desvantagens. A mais evidente é que diminui a faixa de valores que podem ser representados: com 8 bits pode-se representar inteiros de $0$ até $255$, mas se usarmos 4 bits para a parte inteira mais 4 para a parte fracionária, ficamos apenas com $0$ a $15$, com precisão de $2^{-4} = 0{,}0625$."
   ]
  },
  {
   "cell_type": "markdown",
   "metadata": {},
   "source": [
    "### Representação de ponto flutuante (`float`)\n",
    "\n",
    "Existe uma representação alternativa, e um pouco mais complicada, para ter números fracionários com uma faixa grande de valores, e com precisão variável. Assim podemos tratar de números de diversas magnitudes com a mesma representação. Essa representação é chamada de ponto flutuante, ou *floating point*. Fabien Sanglard tem uma [explicação visual de ponto flutuante](https://fabiensanglard.net/floating_point_visually_explained/index.html) bastante didática e talvez mais fácil de entender (em inglês)."
   ]
  },
  {
   "cell_type": "markdown",
   "metadata": {},
   "source": [
    "Suponha que temos 16 bits para representar um número. Vamos representá-lo sempre em notação científica, com um dígito à esquerda da vírgula, e com um dado expoente, na forma $\\pm 1{,}mmm\\ldots \\times 2^E$. Os dígitos $mmm\\ldots$ são chamados de *mantissa*. Usamos os 16 bits para representar o sinal, o expoente e a mantissa, com a seguinte  configuração: 1 bit para o sinal, 5 bits para o expoente e 10 bits para a mantissa.\n",
    "\n",
    "$$\n",
    "s|eeeee|mmmmmmmmmm\n",
    "$$"
   ]
  },
  {
   "cell_type": "markdown",
   "metadata": {},
   "source": [
    "Um número binário representado assim fica \n",
    "\n",
    "$$\n",
    "(-1)^s \\times (1 + 0{,}mmm \\ldots) \\times 2^E.\n",
    "$$\n",
    "\n",
    "Vamos tentar representar o número $3{,}14$ como um número de ponto flutuante binário."
   ]
  },
  {
   "cell_type": "markdown",
   "metadata": {},
   "source": [
    "Primeiro o sinal. Como o sinal é positivo, $s = 0$. Depois, precisamos achar o expoente. O número representado na mantissa deve ficar entre $1$ (todos os bits $m$ iguais a zero) e $2$ (todos iguais a $1$). Se $E = 0$, podemos representar os números de $1$ até $2$. Se $E = 1$, representamos de $2$ até $4$, e assim por diante. Cada expoente define um intervalo, ou a \"janela\", nos valores possíveis. No nosso exemplo, $3{.}14$ cai na janela $[2,4)$, logo $E = 1$. Lembre que $E$ pode também ser negativo!\n",
    "\n",
    "Precisamos agora determinar a mantissa. sabemos que $(1 + M) \\times 2^1 = 3{,}14$, onde $M = 0{,}mmm\\ldots$, assim basta isolar $M$."
   ]
  },
  {
   "cell_type": "markdown",
   "metadata": {},
   "source": [
    "\\begin{align}\n",
    "(1 + M) \\times 2^1 &= 3{,}14 \\\\\n",
    "1 + M &= \\frac{3{,}14}{2} \\\\\n",
    "M &= \\frac{3{,}14}{2} - 1 \\\\\n",
    "&= \\frac{3{,}14 - 2}{2} = \\frac{1{,}14}{2} \\\\\n",
    "&= 0{,}57 \\\\\n",
    "&= 0{,}1001000111\\ldots_2.\n",
    "\\end{align}\n",
    "\n",
    "O número $0.57$ não pode ser representado exatamente com uma mantissa de 10 bits, logo alguns dígitos foram perdidos. Assim,\n",
    "\n",
    "\\begin{align}\n",
    "3.14 &= (-1)^0 \\times (1 + 0.57) \\times 2^1 \\\\\n",
    "&= 1.57 \\times 2^1 \\\\\n",
    "&\\cong 1.1001000111_2 \\times 2^1.\n",
    "\\end{align}"
   ]
  },
  {
   "cell_type": "markdown",
   "metadata": {},
   "source": [
    "Nos computadores que usamos normalmente, os números de ponto flutuante funcionam de uma forma similar, porém com algumas diferenças sutis, definida no padrão IEEE 754, que é como os números do tipo `float` são representados em Python. Podemos visualizar de forma interativa como números são representados usando o [Float Toy](http://evanw.github.io/float-toy/) de Evan Wallace."
   ]
  }
 ],
 "metadata": {
  "kernelspec": {
   "display_name": "Python 3 (ipykernel)",
   "language": "python",
   "name": "python3"
  },
  "language_info": {
   "codemirror_mode": {
    "name": "ipython",
    "version": 3
   },
   "file_extension": ".py",
   "mimetype": "text/x-python",
   "name": "python",
   "nbconvert_exporter": "python",
   "pygments_lexer": "ipython3",
   "version": "3.10.15"
  }
 },
 "nbformat": 4,
 "nbformat_minor": 4
}
