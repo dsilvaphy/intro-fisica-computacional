{
 "cells": [
  {
   "cell_type": "markdown",
   "id": "48cbbe66-e135-4d06-8790-1f0674a85c7b",
   "metadata": {},
   "source": [
    "# Sequências\n",
    "\n",
    "## Funções convenientes para iterar sequências\n",
    "\n",
    "### `range()`\n",
    "\n",
    "A função `range()` retorna um *gerador*. Um gerador é uma sequência como uma lista, mas é um objeto *preguiçoso*.\n",
    "Ele pode ser iterado num laço `for`, mas só calcula seus valores na hora que é iterado.\n",
    "\n",
    "Usamos `range(N)`, onde `N` é um número inteiro, para gerar números de `0` até `N - 1`."
   ]
  },
  {
   "cell_type": "code",
   "execution_count": null,
   "id": "965745ae-42e5-46bd-9e36-90b3d1b93102",
   "metadata": {},
   "outputs": [],
   "source": [
    "for i in range(5):\n",
    "    print(i)"
   ]
  },
  {
   "cell_type": "markdown",
   "id": "6612bf4d-732c-4ab3-a3e6-24b62c7ce376",
   "metadata": {},
   "source": [
    "Podemos escolher o valor inicial fazendo `range(inicio, N)`."
   ]
  },
  {
   "cell_type": "code",
   "execution_count": null,
   "id": "d2ff6784-fbf7-4f65-b3a9-fe89cfbe7feb",
   "metadata": {},
   "outputs": [],
   "source": [
    "for i in range(5, 10):\n",
    "    print(i)"
   ]
  },
  {
   "cell_type": "markdown",
   "id": "7ec2477c-2e52-4a90-b94a-9c1c3341a0eb",
   "metadata": {},
   "source": [
    "Finalmente, podemos escolher o passo fazendo `range(início, N, passo)`. Repare no paralelo com slices!"
   ]
  },
  {
   "cell_type": "code",
   "execution_count": null,
   "id": "2f854cf0-043a-41c6-8483-d58440dcb2ff",
   "metadata": {},
   "outputs": [],
   "source": [
    "for i in range(10, 20, 2):\n",
    "    print(i)"
   ]
  },
  {
   "cell_type": "markdown",
   "id": "fc7b9206-9764-46ab-bc24-7440280b5c76",
   "metadata": {},
   "source": [
    "Podemos inclusive fazer uma contagem regressiva."
   ]
  },
  {
   "cell_type": "code",
   "execution_count": null,
   "id": "0ca572e6-2d6b-416e-8658-63fdae81c00f",
   "metadata": {},
   "outputs": [],
   "source": [
    "for i in range(5, 0, -1):\n",
    "    print(i)"
   ]
  },
  {
   "cell_type": "markdown",
   "id": "863d575c-22b4-4ab0-9347-b5620854a0b1",
   "metadata": {},
   "source": [
    "Para colocar os valores de uma `range()` dentro de uma lista, basta usar a função `list()` para convertê-la."
   ]
  },
  {
   "cell_type": "code",
   "execution_count": null,
   "id": "46e8b6bf-5a89-423f-9e9d-c926a53d42c0",
   "metadata": {},
   "outputs": [],
   "source": [
    "l = list(range(20))\n",
    "print(l)"
   ]
  },
  {
   "cell_type": "markdown",
   "id": "5bb9f24e-ca05-4dbf-9d70-6d3cba3e0cba",
   "metadata": {},
   "source": [
    "#### Exercício 1\n",
    "\n",
    "Usando um laço for iterando um `range()`, crie uma lista contendo os inteiros quadrados que existem entre 1 e 100 (incluindo estes números)."
   ]
  },
  {
   "cell_type": "code",
   "execution_count": null,
   "id": "b8d68acf-817c-4f69-a10d-e32ab0655bf0",
   "metadata": {},
   "outputs": [],
   "source": []
  },
  {
   "cell_type": "markdown",
   "id": "95abc27b-6a72-4195-b3d6-c7ca36d066ae",
   "metadata": {},
   "source": [
    "#### Exercício 2\n",
    "\n",
    "Considere a série infinita\n",
    "\n",
    "$$\n",
    "\\sum_{n=0}^{\\infty} \\frac{1}{2^n} = 2.\n",
    "$$"
   ]
  },
  {
   "cell_type": "markdown",
   "id": "6a1a629d-920c-49bd-a687-7747808c7f67",
   "metadata": {},
   "source": [
    "Usando um laço `for`, calcule a soma dos $N = 50$ primeiros termos dessa soma, isto é\n",
    "\n",
    "$$\n",
    "S_N = \\sum_{n=0}^{N-1} \\frac{1}{2^n}.\n",
    "$$\n"
   ]
  },
  {
   "cell_type": "code",
   "execution_count": null,
   "id": "ea555168-2198-4e77-afdf-28962d6042ec",
   "metadata": {},
   "outputs": [],
   "source": []
  },
  {
   "cell_type": "markdown",
   "id": "e928b6e1-90e9-4672-8162-ec83581a8466",
   "metadata": {},
   "source": [
    "#### Exercício 3\n",
    "\n",
    "Faça um programa que leia vários números inteiros digitados pelo usuário, e os coloque numa lista. Quando o usuário digitar `'fim'`, a entrada acabou. Em seguida, encontre e imprima a posição de todos os números divisíveis por 3."
   ]
  },
  {
   "cell_type": "code",
   "execution_count": null,
   "id": "9ab1bdfa-182d-4d09-a17e-010b43d6bd4d",
   "metadata": {},
   "outputs": [],
   "source": []
  },
  {
   "cell_type": "markdown",
   "id": "c057dc9c-fc8c-42a0-8ec1-1a45f3bbc9d5",
   "metadata": {},
   "source": [
    "### `enumerate()`\n",
    "\n",
    "A função `enumerate()` é outro gerador. Ela serve para iterar listas ou outras sequências, retornando uma tupla com o índice e o elemento, a cada iteração."
   ]
  },
  {
   "cell_type": "code",
   "execution_count": null,
   "id": "6d2a7816-746b-422b-bdef-b9efba7c5931",
   "metadata": {},
   "outputs": [],
   "source": [
    "minhas_compras = ['arroz', 'feijão', 'macarrão', 'pão', 'cebola', 'tomate']\n",
    "preço = [6.00, 12.50, 7.80, 1.00, 6.80, 8.50]\n",
    "quantidade = [1, 2, 1, 6, 1.3, 2.0]\n",
    "\n",
    "total = 0.0\n",
    "for i, produto in enumerate(minhas_compras):\n",
    "    p = preço[i]\n",
    "    q = quantidade[i]\n",
    "    valor = p * q\n",
    "    total += valor\n",
    "    print(f'produto: {produto}, quant.: {q}, val. unit.: {p}, valor.: {valor:.2f}')\n",
    "print(f'Total: {total:.2f}')"
   ]
  },
  {
   "cell_type": "markdown",
   "id": "0c04e9d1-3b7b-4574-a183-276795f91104",
   "metadata": {},
   "source": [
    "## Vetores\n",
    "\n",
    "Vetores no espaço são descritos, em coordenadas cartesianas, por 3 números. Podemos usar uma lista para armazenar essas três coordenadas. Note que a ordem dessas coordenadas é uma convenção que nós inventamos. Por exemplo, um vetor velocidade $\\vec{v} = v_x\\,\\hat{i} + v_y\\,\\hat{j} + v_z\\,\\hat{k}$ pode ser escrito como `v = [vx, vy, vz]`. Neste caso, $v_x$ é `v[0]`, $v_y$ é `v[1]` e $v_z$ é `v[2]`.\n",
    "\n",
    "Vamos calcular o produto escalar entre dois vetores,\n",
    "\n",
    "$$\n",
    "\\alpha = \\vec{a} \\cdot \\vec{b} = a_x b_x + a_y b_y + a_z b_z.\n",
    "$$"
   ]
  },
  {
   "cell_type": "code",
   "execution_count": null,
   "id": "3f248938-efc5-4e7c-8bd5-03637d425017",
   "metadata": {},
   "outputs": [],
   "source": [
    "a = [1, 2, 3]\n",
    "b = [4, 5, 6]\n",
    "\n",
    "alfa = 0.0\n",
    "for i in range(3):\n",
    "    alfa += a[i] * b[i]\n",
    "print(alfa)"
   ]
  },
  {
   "cell_type": "markdown",
   "id": "01ff7412-83a0-4ee9-87d3-b17b9014fbae",
   "metadata": {},
   "source": [
    "#### Exercício 4\n",
    "\n",
    "Calcule a soma de dois vetores,\n",
    "\n",
    "\\begin{align}\n",
    "\\vec{c} &= \\vec{a} + \\vec{b} \\\\\n",
    "c_i &= a_i + b_i,\\qquad i = x,y,z.\n",
    "\\end{align}\n"
   ]
  },
  {
   "cell_type": "code",
   "execution_count": null,
   "id": "2812f869-7f7a-4217-8643-bd5a36cc800c",
   "metadata": {},
   "outputs": [],
   "source": []
  },
  {
   "cell_type": "markdown",
   "id": "9a960159-9b86-4d9b-a5ae-f01fd3bf802e",
   "metadata": {},
   "source": [
    "#### Exercício 5\n",
    "\n",
    "Dado um vetor $\\vec{u}$, um vetor unitário na sua direção é\n",
    "\n",
    "\\begin{align}\n",
    "\\hat{u} &= \\frac {\\vec{u}} {\\|\\hat{u}\\|} \\\\\n",
    "&= \\frac {\\vec{u}} {\\sqrt{u_x^2 + u_y^2 + u_z^2}}.\n",
    "\\end{align}\n",
    "\n",
    "Calcule um vetor unitário na direção dada por $\\vec{r} = 5\\,\\hat{i} - 3\\,\\hat{j} + 7\\,\\hat{k}$."
   ]
  },
  {
   "cell_type": "code",
   "execution_count": null,
   "id": "77c2d055-eab8-4877-bcc0-fec83931de8c",
   "metadata": {},
   "outputs": [],
   "source": []
  }
 ],
 "metadata": {
  "kernelspec": {
   "display_name": "Python 3 (ipykernel)",
   "language": "python",
   "name": "python3"
  },
  "language_info": {
   "codemirror_mode": {
    "name": "ipython",
    "version": 3
   },
   "file_extension": ".py",
   "mimetype": "text/x-python",
   "name": "python",
   "nbconvert_exporter": "python",
   "pygments_lexer": "ipython3",
   "version": "3.11.6"
  }
 },
 "nbformat": 4,
 "nbformat_minor": 5
}
