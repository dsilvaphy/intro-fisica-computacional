{
 "cells": [
  {
   "cell_type": "markdown",
   "metadata": {},
   "source": [
    "# Repetições\n",
    "\n",
    "**FIXME: Melhorar os exemplos, e a ordem de apresentação. Fazer primeiro uma repetição sem contador.**"
   ]
  },
  {
   "cell_type": "markdown",
   "metadata": {},
   "source": [
    "Até agora conseguimos executar as linha de código de forma sequencial. Podemos usar uma expressão condicional (`if`, `elif`, `else`) para escolher se uma linha ou um bloco é ou não executado, mas a ordem de execução não muda."
   ]
  },
  {
   "cell_type": "markdown",
   "metadata": {},
   "source": [
    "Suponha que queremos imprimir uma sequência de números, de 1 a 3. A forma mais fácil de fazer isso é usar 3 `print`s."
   ]
  },
  {
   "cell_type": "code",
   "execution_count": null,
   "metadata": {},
   "outputs": [],
   "source": [
    "print(1)\n",
    "print(2)\n",
    "print(3)"
   ]
  },
  {
   "cell_type": "markdown",
   "metadata": {},
   "source": [
    "Podemos fazer isso de uma forma, à primeira vista, um pouco mais complicada, usando uma variável."
   ]
  },
  {
   "cell_type": "code",
   "execution_count": null,
   "metadata": {},
   "outputs": [],
   "source": [
    "x = 1\n",
    "print(x)\n",
    "x = x + 1\n",
    "print(x)\n",
    "x = x + 1\n",
    "print(x)"
   ]
  },
  {
   "cell_type": "markdown",
   "metadata": {},
   "source": [
    "Repare como algumas linhas ficam idênticas desta forma. Entretanto, em cada linha, o *valor* da variável `x` muda. Então, para imprimir os números de 1 até 100, bastaria repetir as linhas\n",
    "\n",
    "```python\n",
    "print(x)\n",
    "x = x + 1\n",
    "```\n",
    "\n",
    "até que `x` fosse igual a 100. Logicamente, isso não é nem um pouquinho prático!"
   ]
  },
  {
   "cell_type": "markdown",
   "metadata": {},
   "source": [
    "Na verdade, essa construção onde linhas de código se repetem, mas com valores de variáveis mudando, aparece muito frequentemente em programas de computador. De fato, é impossível construir um computador *genérico* sem alguma forma de fazer repetições.\n",
    "\n",
    "Mas, antes de tentar criar um mecanismo para criar uma repetição de linhas, precisamos entender como queremos que essa repetição aconteça. Queremos que a repetição aconteça algum número de vezes, e queremos que as variáveis mudem dentro da repetição segundo um determinado critério."
   ]
  },
  {
   "cell_type": "markdown",
   "metadata": {},
   "source": [
    "Existem várias formas de construir essas repetições, e na verdade cada linguagem de programação pode ter suas próprias formas. Porém, todas elas compartilham essas características:\n",
    "\n",
    "- Linhas de código em comum;\n",
    "- Condição para que a repetição pare;\n",
    "- Modificação dos valores das variáves.\n",
    "\n",
    "No Python conhecemos essas estruturas como *laços de repetição*. Temos dois tipos, laços `while` e laços `for`. O laço `while` é mais genérico, vamos aprendê-lo primeiro."
   ]
  },
  {
   "cell_type": "markdown",
   "metadata": {},
   "source": [
    "## Laços `while`\n",
    "\n",
    "Com `while`, criamos laços que se repetem segundo uma *condição de repetição*. Isto é precisamos de uma expressão lógica, que retorna um booleano (`True` ou `False`). O laço segue executando *enquanto* essa expressão for verdadeira. A sua sintaxe é a seguinte\n",
    "\n",
    "```python\n",
    "while condição:\n",
    "    linha1\n",
    "    linha2\n",
    "    etc\n",
    "```"
   ]
  },
  {
   "cell_type": "markdown",
   "metadata": {},
   "source": [
    "Vamos tentar refazer o nosso exemplo anterior, mas agora usando o `while`. Precisamos estudar o problema para entender qual a condição que deve estar no `while`.\n",
    "\n",
    "No exemplo, queremos que as linhas sigam executando até que `x` seja 3. Ou seja, *enquanto* `x` for menor que 3, precisamos seguir imprimindo `x`. Neste caso, a condição é `x < 3`. Também precisamos nos certificar de que `x` mude a cada passo. No nosso caso, `x` deve ser incrementado com a linha `x = x + 1`. Assim, o nosso programa fica:"
   ]
  },
  {
   "cell_type": "code",
   "execution_count": null,
   "metadata": {},
   "outputs": [],
   "source": [
    "x = 1\n",
    "while x <= 3:\n",
    "    print(x)\n",
    "    x = x + 1"
   ]
  },
  {
   "cell_type": "markdown",
   "metadata": {},
   "source": [
    "Execute o programa mentalmente, com papel e caneta, e entenda o que acontece a cada passo de tempo."
   ]
  },
  {
   "cell_type": "markdown",
   "metadata": {},
   "source": [
    "### Exercícios\n",
    "\n",
    "**1.** Escreva um programa que imprima os números de 1 até 10."
   ]
  },
  {
   "cell_type": "code",
   "execution_count": null,
   "metadata": {},
   "outputs": [],
   "source": []
  },
  {
   "cell_type": "markdown",
   "metadata": {},
   "source": [
    "**2.** Escreva um programa que imprima os números de 10 até 20."
   ]
  },
  {
   "cell_type": "code",
   "execution_count": null,
   "metadata": {},
   "outputs": [],
   "source": []
  },
  {
   "cell_type": "markdown",
   "metadata": {},
   "source": [
    "**3.** Escreva um programa que imprima uma contagem regressiva de 10 até 0, e no final imprima \"Lançamento!\"."
   ]
  },
  {
   "cell_type": "code",
   "execution_count": null,
   "metadata": {},
   "outputs": [],
   "source": []
  },
  {
   "cell_type": "markdown",
   "metadata": {},
   "source": [
    "### Programas usando contadores"
   ]
  },
  {
   "cell_type": "markdown",
   "metadata": {},
   "source": [
    "As linhas de código dentro do laço foram, até agora, bem simples. Mas, podemos escrever qualquer coisa dentro de um bloco de código em um laço. Por exemplo, queremos imprimir o número apenas se ele for par. Uma forma de fazer isso é usar um condicional `if` para fazer o print apenas quando `x` for par.\n",
    "\n",
    "Existem várias formas de se determinar se um número é par. Podemos usar o operador *módulo*, que para `x` positivo nos dá o resto de divisão. Vejamos um programa de teste, que além de `x`, imprime também `x % 2`:"
   ]
  },
  {
   "cell_type": "code",
   "execution_count": null,
   "metadata": {},
   "outputs": [],
   "source": [
    "x = 1\n",
    "while x <= 10:\n",
    "    print(x, x % 2)\n",
    "    x += 1"
   ]
  },
  {
   "cell_type": "markdown",
   "metadata": {},
   "source": [
    "Quando `x` é par, `x % 2` é zero. Então podemos detectar quando x é par fazendo `x % 2 == 0`. Assim, o nosso programa fica"
   ]
  },
  {
   "cell_type": "code",
   "execution_count": null,
   "metadata": {},
   "outputs": [],
   "source": [
    "x = 1\n",
    "while x <= 10:\n",
    "    print(x)\n",
    "    é_par = x % 2 == 0\n",
    "    if é_par:\n",
    "        print('^- Esse número é par')\n",
    "    x += 1"
   ]
  },
  {
   "cell_type": "markdown",
   "metadata": {},
   "source": [
    "### Exercícios\n",
    "\n",
    "**4.** Escreva um programa que escreve os quadrados perfeitos até 100."
   ]
  },
  {
   "cell_type": "code",
   "execution_count": null,
   "metadata": {},
   "outputs": [],
   "source": []
  },
  {
   "cell_type": "markdown",
   "metadata": {},
   "source": [
    "**5.** Escreva um programa que determina se um número é primo."
   ]
  },
  {
   "cell_type": "code",
   "execution_count": null,
   "metadata": {},
   "outputs": [],
   "source": []
  },
  {
   "cell_type": "markdown",
   "metadata": {},
   "source": [
    "### Programas usando acumuladores\n",
    "\n",
    "Um problema bastante comum em física computacional é calcular somatórios. Eles aparecem frequentemente em problemas matemáticos. Considere o exemplo onde queremos somar todos os números de 1 até um número $N$ digitado pelo usuário. Matematicamente,\n",
    "\n",
    "$$\n",
    "s = \\sum_{k=1}^N k,\n",
    "$$\n",
    "\n",
    "onde $s$ é o valor total da soma."
   ]
  },
  {
   "cell_type": "markdown",
   "metadata": {},
   "source": [
    "Precisamos aprender a traduzir essa notação matemática em código de computador. Veja que temos uma operação que se repete, a soma, e uma variável que muda de valor a cada repetição, $k$. Essa soma tem que ser *acumulada* em alguma variável, que deve ficar disponível depois que o laço acabar, quando $k > N$.\n",
    "\n",
    "Expondo desse modo, fica fácil escrever um programa que calcula a soma. Precisamos de um *acumulador*, que chamaremos de `s`. Antes do laço essa variável precisa estar definida, mas ainda não sabemos o valor de `s`. Precisamos *inicializá-la* com um valor. Como o problema é uma soma, se $N=0$, $s = 0$. Assim, o valor inicial da variável `s` é zero.\n",
    "\n",
    "Os valores de $k$ variam de $1$ até $N$, incrementando de $1$ em $1$. Vamos usar a variável `k` para manter esse valor. Assim,"
   ]
  },
  {
   "cell_type": "code",
   "execution_count": null,
   "metadata": {},
   "outputs": [],
   "source": [
    "s = 0\n",
    "k = 1\n",
    "N = 100\n",
    "while k <= N:\n",
    "    s += k\n",
    "    k += 1\n",
    "print(s)"
   ]
  },
  {
   "cell_type": "markdown",
   "metadata": {},
   "source": [
    "Entender a tradução da linguagem matemática para código de computador é um dos aspectos mais importantes da física computacional. Esse não é um problema trivial, e requer muita prática. Nem sempre uma expressão matemática vai estar na forma adequada para ser programada, necessitando de alguma manipulação algébrica prévia."
   ]
  },
  {
   "cell_type": "markdown",
   "metadata": {},
   "source": [
    "### Exercícios\n",
    "\n",
    "**6.** Escreva um programa que calcule a média $\\overline{x}$ de $N$ números `float`,\n",
    "\n",
    "$$\n",
    "\\overline{x} = \\frac{\\sum_{k=1}^N x_k}{N},\n",
    "$$\n",
    "\n",
    "com $N$ e os valores $x_k$ escolhidos pelo usuário."
   ]
  },
  {
   "cell_type": "code",
   "execution_count": null,
   "metadata": {},
   "outputs": [],
   "source": []
  }
 ],
 "metadata": {
  "kernelspec": {
   "display_name": "Python 3 (ipykernel)",
   "language": "python",
   "name": "python3"
  },
  "language_info": {
   "codemirror_mode": {
    "name": "ipython",
    "version": 3
   },
   "file_extension": ".py",
   "mimetype": "text/x-python",
   "name": "python",
   "nbconvert_exporter": "python",
   "pygments_lexer": "ipython3",
   "version": "3.10.15"
  }
 },
 "nbformat": 4,
 "nbformat_minor": 4
}
